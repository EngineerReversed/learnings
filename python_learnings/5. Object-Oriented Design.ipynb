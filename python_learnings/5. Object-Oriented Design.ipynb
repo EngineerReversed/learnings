{
 "cells": [
  {
   "cell_type": "markdown",
   "metadata": {},
   "source": [
    "# Object Oriented Design"
   ]
  },
  {
   "cell_type": "code",
   "execution_count": 7,
   "metadata": {},
   "outputs": [
    {
     "name": "stdout",
     "output_type": "stream",
     "text": [
      "<class '__main__.Circle'>\n"
     ]
    }
   ],
   "source": [
    "# Let us define an object for circle using namedtuple of collections module\n",
    "from collections import namedtuple\n",
    "circle = namedtuple('Circle','radius x_origin y_origin')\n",
    "print(circle)"
   ]
  },
  {
   "cell_type": "code",
   "execution_count": 8,
   "metadata": {},
   "outputs": [
    {
     "data": {
      "text/plain": [
       "Circle(radius=13, x_origin=0, y_origin=0)"
      ]
     },
     "execution_count": 8,
     "metadata": {},
     "output_type": "execute_result"
    }
   ],
   "source": [
    "circle = circle(13,0,0)\n",
    "circle"
   ]
  },
  {
   "cell_type": "markdown",
   "metadata": {},
   "source": [
    "But there are not checks whether the entered data is of correct type or not. We would like to associate some relevant functions to our object like area, perimeter etc. We want to have an object which has properties which we want.\n",
    "**We want to package a data and restrict its methods.** \n",
    "\n",
    "Object oriented programming in nutshell: *create your custom-data type*\n"
   ]
  },
  {
   "cell_type": "markdown",
   "metadata": {},
   "source": [
    "## Classes and Objects"
   ]
  },
  {
   "cell_type": "markdown",
   "metadata": {},
   "source": [
    "Objects are instances of class. Objects are ways in which we can use classes which are packaged version of data and their functions\n",
    "### Class Instantiation\n",
    "It creates objects in a known intial state. Empty objects are created at first using __ _new_ __ () function (constructor) and initialized by __ _init_ __ ()"
   ]
  },
  {
   "cell_type": "markdown",
   "metadata": {},
   "source": [
    "### Attributes\n",
    "Attributes of objects are derived from classes:\n",
    "* Methods (.self)\n",
    "* Data\n",
    "\n",
    "### Namespaces\n",
    "Mapping from names to objects. "
   ]
  },
  {
   "cell_type": "code",
   "execution_count": null,
   "metadata": {},
   "outputs": [],
   "source": []
  }
 ],
 "metadata": {
  "kernelspec": {
   "display_name": "Python 2",
   "language": "python",
   "name": "python2"
  },
  "language_info": {
   "codemirror_mode": {
    "name": "ipython",
    "version": 2
   },
   "file_extension": ".py",
   "mimetype": "text/x-python",
   "name": "python",
   "nbconvert_exporter": "python",
   "pygments_lexer": "ipython2",
   "version": "2.7.12"
  }
 },
 "nbformat": 4,
 "nbformat_minor": 2
}
