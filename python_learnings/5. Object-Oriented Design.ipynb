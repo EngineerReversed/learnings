{
 "cells": [
  {
   "cell_type": "markdown",
   "metadata": {},
   "source": [
    "# Object Oriented Design"
   ]
  },
  {
   "cell_type": "code",
   "execution_count": 1,
   "metadata": {},
   "outputs": [
    {
     "name": "stdout",
     "output_type": "stream",
     "text": [
      "<class '__main__.Circle'>\n"
     ]
    }
   ],
   "source": [
    "# Let us define an object for circle using namedtuple of collections module\n",
    "from collections import namedtuple\n",
    "circle = namedtuple('Circle','radius x_origin y_origin')\n",
    "print(circle)"
   ]
  },
  {
   "cell_type": "code",
   "execution_count": 2,
   "metadata": {},
   "outputs": [
    {
     "data": {
      "text/plain": [
       "Circle(radius=13, x_origin=0, y_origin=0)"
      ]
     },
     "execution_count": 2,
     "metadata": {},
     "output_type": "execute_result"
    }
   ],
   "source": [
    "circle = circle(13,0,0)\n",
    "circle"
   ]
  },
  {
   "cell_type": "markdown",
   "metadata": {},
   "source": [
    "But there are not checks whether the entered data is of correct type or not. We would like to associate some relevant functions to our object like area, perimeter etc. We want to have an object which has properties which we want.\n",
    "**We want to package a data and restrict its methods.** \n",
    "\n",
    "Object oriented programming in nutshell: *create your custom-data type*\n"
   ]
  },
  {
   "cell_type": "markdown",
   "metadata": {},
   "source": [
    "## Classes and Objects\n",
    "Objects are instances of class. Objects are ways in which we can use classes which are packaged version of data and their functions"
   ]
  },
  {
   "cell_type": "markdown",
   "metadata": {},
   "source": [
    "### Class Instantiation\n",
    "It creates objects in a known intial state. Empty objects are created at first using __ _new_ __ () function (constructor) and initialized by __ _init_ __ ()"
   ]
  },
  {
   "cell_type": "markdown",
   "metadata": {},
   "source": [
    "### Attributes\n",
    "Attributes of objects are derived from classes:\n",
    "* Methods (.self)\n",
    "* Data\n",
    "\n",
    "### Namespaces\n",
    "Mapping from names to objects. Example: set of built-in names, global names in a module etc. \n",
    "\n",
    "### Scope\n",
    "A scope is a textual region of a Python program where a namespace is directly accessible. When a class definition is\n",
    "entered, a new namespace is created, and used as the local scope."
   ]
  },
  {
   "cell_type": "markdown",
   "metadata": {},
   "source": [
    "## Principles of OOP\n"
   ]
  },
  {
   "cell_type": "markdown",
   "metadata": {},
   "source": [
    "### Specialization\n",
    "Specialization or inheritance: process of creating a new class which inherits properties or attributes from base class (super class). Methods can be overridden and changed as per requirement. Google Python Style Guide advises that if a class inherits from no other base classes, we should explicitly inherit it from Python’s highest class, **object**"
   ]
  },
  {
   "cell_type": "code",
   "execution_count": 6,
   "metadata": {},
   "outputs": [
    {
     "name": "stdout",
     "output_type": "stream",
     "text": [
      "Super class with sub class\n"
     ]
    }
   ],
   "source": [
    "class OuterClass(object):\n",
    "    class InnerClass(object):\n",
    "        print('Super class with sub class')"
   ]
  },
  {
   "cell_type": "markdown",
   "metadata": {},
   "source": [
    "### Polymorphism\n",
    "Polymorphism or dynamic method binding is the principle where methods can be redefined inside subclasses. In other words, if we have an object of a subclass and we call a method that is also defined in the superclass, Python will use the method defined in the subclass. If, for instance, we need to recover the superclass’s method, we can easily call it using the built-in **super()**."
   ]
  },
  {
   "cell_type": "markdown",
   "metadata": {},
   "source": [
    "### Aggregagtion\n",
    "Aggregation (composition) defines the process where a class includes one of more instance variables that are from other classes. "
   ]
  },
  {
   "cell_type": "code",
   "execution_count": 11,
   "metadata": {},
   "outputs": [],
   "source": [
    "# Defining Point() as super class and Circle() as sub class\n",
    "import math\n",
    "\n",
    "class Point:\n",
    "    def __init__(self, x=0,y=0):\n",
    "        self.x=x    # data attribute\n",
    "        self.y=y\n",
    "    \n",
    "    def distance_from_origin(self):    # method attribute\n",
    "        return math.hypot(self.x,self.y)\n",
    "    \n",
    "    def __eq__(self,other):\n",
    "        return self.x==other.x and self.y==other.y\n",
    "    \n",
    "    def __repr__(self):\n",
    "        return \"point ({0.x!r},{0.y!r})\".format(self)\n",
    "    \n",
    "    def __str__(self):\n",
    "        return \"({0.x!r},{0.y!r})\".format(self)"
   ]
  },
  {
   "cell_type": "code",
   "execution_count": null,
   "metadata": {},
   "outputs": [],
   "source": [
    "class Circle(Point):\n",
    "    def __inti__(self,radius,x=0,y=0):\n",
    "        super().__init__(x,y)  # creates/initializes\n",
    "        self.radius = radius\n",
    "        \n",
    "    def edge_distance_from_origin(self):\n",
    "        return abs(self.distance_from_origin() - self.radius)\n",
    "    \n",
    "    def area(self):\n",
    "        return math.pi*(self.radius**2)\n",
    "    \n",
    "    def circumference(self):\n",
    "        return 2*math.pi*self.radius"
   ]
  },
  {
   "cell_type": "code",
   "execution_count": null,
   "metadata": {},
   "outputs": [],
   "source": []
  },
  {
   "cell_type": "code",
   "execution_count": null,
   "metadata": {},
   "outputs": [],
   "source": []
  },
  {
   "cell_type": "code",
   "execution_count": null,
   "metadata": {},
   "outputs": [],
   "source": []
  },
  {
   "cell_type": "code",
   "execution_count": null,
   "metadata": {},
   "outputs": [],
   "source": []
  }
 ],
 "metadata": {
  "kernelspec": {
   "display_name": "Python 2",
   "language": "python",
   "name": "python2"
  },
  "language_info": {
   "codemirror_mode": {
    "name": "ipython",
    "version": 2
   },
   "file_extension": ".py",
   "mimetype": "text/x-python",
   "name": "python",
   "nbconvert_exporter": "python",
   "pygments_lexer": "ipython2",
   "version": "2.7.12"
  }
 },
 "nbformat": 4,
 "nbformat_minor": 2
}
