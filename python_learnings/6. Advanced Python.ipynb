{
 "cells": [
  {
   "cell_type": "markdown",
   "metadata": {},
   "source": [
    "# Multiprocessing and Multithreading\n",
    "Each program in the operational system is a separate process. Each process has one or more threads. If a process has several threads, they appear to run simultaneously. The above approaches are required to achieve ***concurrency*** and ***parallelism*** in python.\n",
    "\n",
    "Two approaches can be used to spread the workload in programs:\n",
    "\n",
    "* **Multiple processes** : Multiple processes have separate regions of memory and can only communicate by special mechanisms. The processor loads and saves a separate set of registers for each thread. It is inconvenient for communication and data sharing. This is handled by the *subprocess* module.\n",
    "\n",
    "<img align=\"center\" src=\"./images/multiprocessing.png\" alt=\"multiprocessing\" width=\"800\" height=\"800\" />\n",
    "\n",
    "* **Multiple threads** : Multiple threads in a single process have access to the same memory. They communicate simply by sharing data, providing ensure of one thread at time, handled by the threading module. Threads share the process’s resources, including the heap space. But each thread still has it own stack. Threads are lighter than processes.\n",
    "\n",
    "<img align=\"center\" src=\"./images/multithreading.png\" alt=\"multithreading\" width=\"800\" height=\"800\" />"
   ]
  },
  {
   "cell_type": "markdown",
   "metadata": {},
   "source": [
    "**Note:** Although python has multithreading but it only executes one thread at a time. Threads share the same memory and process resources so they also share global variables which may cause a problem if the global variable is being edited during process. <br>\n",
    "***GIL*** (Global Interpretor Lock) makes sure that this don't happen. GIL is intended to serialize access to interpreter internals from different threads. On multi-core systems, it means that multiple threads can't effectively make use of multiple cores."
   ]
  },
  {
   "cell_type": "markdown",
   "metadata": {},
   "source": [
    "**Summary** : If your code is IO bound, both multiprocessing and multithreading in Python will work for you.<br> *Multithreading* can speed up process for network based operations(like web scraping - downloading multiple files). <br> *Multiprocessing* is a easier to just drop in than threading but has a higher memory overhead. If your code is CPU bound(writing lots of to hard disk, copying files etc.), multiprocessing is most likely going to be the better choice—especially if the target machine has multiple cores or CPUs."
   ]
  },
  {
   "cell_type": "markdown",
   "metadata": {},
   "source": [
    "### subprocess module\n",
    "It is used to create a pair of parent-child programs. The parent program is started by the user and this in turn runs instances of the child program, each with different work to do. Using child processing allow us to take maximum advantage of multicore processor and leaves concurrency issues to be handled by the operational system."
   ]
  },
  {
   "cell_type": "code",
   "execution_count": 1,
   "metadata": {},
   "outputs": [
    {
     "data": {
      "text/plain": [
       "1"
      ]
     },
     "execution_count": 1,
     "metadata": {},
     "output_type": "execute_result"
    }
   ],
   "source": [
    "import subprocess\n",
    "subprocess.call(\"exit 1\",shell=True)"
   ]
  },
  {
   "cell_type": "markdown",
   "metadata": {},
   "source": [
    "### threading module\n",
    "The major problem with threading is deadlocks which occur when we have to share data among multiple threads.\n",
    "Threading module has *Executor* abstract class which has two subclasses:\n",
    "* ThreadPoolExecutor - for multithreading\n",
    "* ProcessPoolExecutor - for multiprocessing"
   ]
  },
  {
   "cell_type": "code",
   "execution_count": 2,
   "metadata": {},
   "outputs": [
    {
     "name": "stdout",
     "output_type": "stream",
     "text": [
      "False\n",
      "False\n",
      "True\n",
      "hello world!\n"
     ]
    }
   ],
   "source": [
    "# threadpool executor\n",
    "from concurrent.futures import ThreadPoolExecutor\n",
    "from time import sleep\n",
    "\n",
    "# waits for 3 second to deliver the message\n",
    "def return_message(message):\n",
    "    sleep(3)\n",
    "    return message\n",
    "\n",
    "pool = ThreadPoolExecutor(3)\n",
    "futures = pool.submit(return_message,('hello world!'))\n",
    "\n",
    "# this returns in false as the task hasn't been completed\n",
    "print(futures.done())\n",
    "sleep(2)\n",
    "print(futures.done())   \n",
    "sleep(2)\n",
    "print(futures.done()) # after completing it returns true\n",
    "print(futures.result())"
   ]
  },
  {
   "cell_type": "code",
   "execution_count": 3,
   "metadata": {},
   "outputs": [
    {
     "name": "stdout",
     "output_type": "stream",
     "text": [
      "False\n",
      "True\n",
      "hello world!\n"
     ]
    }
   ],
   "source": [
    "# processpool executor\n",
    "from concurrent.futures import ProcessPoolExecutor\n",
    "from time import sleep\n",
    "\n",
    "# waits for 3 second to deliver the message\n",
    "def return_message(message):\n",
    "    sleep(3)\n",
    "    return message\n",
    "\n",
    "pool = ProcessPoolExecutor(3)\n",
    "futures = pool.submit(return_message,('hello world!'))\n",
    "\n",
    "# this returns in false as the task hasn't been completed\n",
    "print(futures.done())\n",
    "sleep(4)\n",
    "print(futures.done())    # after completing it returns true\n",
    "print(futures.result())"
   ]
  },
  {
   "cell_type": "code",
   "execution_count": 4,
   "metadata": {},
   "outputs": [
    {
     "name": "stdout",
     "output_type": "stream",
     "text": [
      "Exception returned as addinfourl instance has no attribute '__exit__'\n",
      "Exception returned as addinfourl instance has no attribute '__exit__'\n",
      "Exception returned as addinfourl instance has no attribute '__exit__'\n",
      "Exception returned as addinfourl instance has no attribute '__exit__'\n",
      "Exception returned as addinfourl instance has no attribute '__exit__'\n"
     ]
    }
   ],
   "source": [
    "#Executor.map() - returns things in order as they are passed\n",
    "#.as_completed() - returns things as soon as they are completed\n",
    "import urllib\n",
    "import concurrent.futures\n",
    "\n",
    "URLS = ['http://www.foxnews.com/',\n",
    "        'http://www.cnn.com/',\n",
    "        'http://europe.wsj.com/',\n",
    "        'http://www.bbc.co.uk/',\n",
    "        'http://some-made-up-domain.com/']\n",
    "\n",
    "# defining a function which hits url and returns first page\n",
    "def load_url(url,timeout):\n",
    "    with urllib.urlopen(url) as conn:\n",
    "        return conn.read()\n",
    "\n",
    "with concurrent.futures.ThreadPoolExecutor(max_workers=5) as executor:\n",
    "    future_to_url = {executor.submit(load_url,url,60): url for url in URLS}\n",
    "    for future in concurrent.futures.as_completed(future_to_url):\n",
    "        url = future_to_url[future]\n",
    "        try:\n",
    "            data = future.result()\n",
    "        except Exception as error:\n",
    "            print('Exception returned as %s'%error)\n",
    "        else:\n",
    "            print('%r page is %d bytes',(url,len(data)))"
   ]
  },
  {
   "cell_type": "code",
   "execution_count": 2,
   "metadata": {},
   "outputs": [
    {
     "name": "stdout",
     "output_type": "stream",
     "text": [
      "('total time: ', 3.703892946243286)\n"
     ]
    }
   ],
   "source": [
    "import concurrent.futures\n",
    "import math\n",
    "import time\n",
    "PRIMES = [i for i in range(112272535095293,112272535095393)]\n",
    " \n",
    "def is_prime(n):\n",
    "    if n % 2 == 0:\n",
    "        return False\n",
    " \n",
    "    sqrt_n = int(math.floor(math.sqrt(n)))\n",
    "    for i in range(3, sqrt_n + 1, 2):\n",
    "        if n % i == 0:\n",
    "            return False\n",
    "    return True\n",
    "\n",
    "def main():\n",
    "    start = time.time()\n",
    "    with concurrent.futures.ProcessPoolExecutor() as executor:\n",
    "        for number,prime in zip(PRIMES,executor.map(is_prime,PRIMES,chunksize=1)):\n",
    "           pass\n",
    "    end = time.time()\n",
    "    print('total time: ',end-start)\n",
    "if __name__=='__main__':\n",
    "    main()\n"
   ]
  },
  {
   "cell_type": "code",
   "execution_count": 3,
   "metadata": {},
   "outputs": [
    {
     "name": "stdout",
     "output_type": "stream",
     "text": [
      "Return of 4\n",
      "Return of 0\n",
      "Return of 1\n",
      "Return of 2\n",
      "Return of 3\n"
     ]
    }
   ],
   "source": [
    "from concurrent.futures import ThreadPoolExecutor, wait, as_completed\n",
    "from time import sleep\n",
    "from random import randint\n",
    "\n",
    "def return_after_5_secs(num):\n",
    "    sleep(randint(1, 5))\n",
    "    return \"Return of {}\".format(num)\n",
    "\n",
    "pool = ThreadPoolExecutor(5)\n",
    "futures = []\n",
    "for x in range(5):\n",
    "    futures.append(pool.submit(return_after_5_secs, x))\n",
    "\n",
    "for x in as_completed(futures):\n",
    "    print(x.result())"
   ]
  },
  {
   "cell_type": "code",
   "execution_count": 4,
   "metadata": {},
   "outputs": [
    {
     "name": "stdout",
     "output_type": "stream",
     "text": [
      "DoneAndNotDoneFutures(done=set([<Future at 0x7fd29c04dc10 state=finished returned str>, <Future at 0x7fd29c0dcc50 state=finished returned str>, <Future at 0x7fd29c04df10 state=finished returned str>, <Future at 0x7fd2a321b650 state=finished returned str>, <Future at 0x7fd29c0763d0 state=finished returned str>]), not_done=set([]))\n"
     ]
    }
   ],
   "source": [
    "# wait returns a tuple (set of done, set of not done) futures\n",
    "from concurrent.futures import ThreadPoolExecutor, wait, as_completed\n",
    "from time import sleep\n",
    "from random import randint\n",
    " \n",
    "def return_after_5_secs(num):\n",
    "    sleep(randint(1, 5))\n",
    "    return \"Return of {}\".format(num)\n",
    " \n",
    "pool = ThreadPoolExecutor(5)\n",
    "futures = []\n",
    "for x in range(5):\n",
    "    futures.append(pool.submit(return_after_5_secs, x))\n",
    " \n",
    "print(wait(futures))"
   ]
  },
  {
   "cell_type": "code",
   "execution_count": null,
   "metadata": {},
   "outputs": [],
   "source": []
  }
 ],
 "metadata": {
  "kernelspec": {
   "display_name": "Python 2",
   "language": "python",
   "name": "python2"
  },
  "language_info": {
   "codemirror_mode": {
    "name": "ipython",
    "version": 2
   },
   "file_extension": ".py",
   "mimetype": "text/x-python",
   "name": "python",
   "nbconvert_exporter": "python",
   "pygments_lexer": "ipython2",
   "version": "2.7.15rc1"
  }
 },
 "nbformat": 4,
 "nbformat_minor": 2
}
