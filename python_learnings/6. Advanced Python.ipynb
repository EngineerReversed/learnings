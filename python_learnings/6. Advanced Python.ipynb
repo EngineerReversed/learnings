{
 "cells": [
  {
   "cell_type": "markdown",
   "metadata": {},
   "source": [
    "# Multiprocessing and Multithreading\n",
    "Each program in the operational system is a separate process. Each process has one or more threads. If a process has several threads, they appear to run simultaneously. The above approaches are required to achieve ***concurrency*** and ***parallelism*** in python.\n",
    "\n",
    "Two approaches can be used to spread the workload in programs:\n",
    "\n",
    "* **Multiple processes** : Multiple processes have separate regions of memory and can only communicate by special mechanisms. The processor loads and saves a separate set of registers for each thread. It is inconvenient for communication and data sharing. This is handled by the *subprocess* module.\n",
    "\n",
    "<img align=\"center\" src=\"./images/multiprocessing.png\" alt=\"multiprocessing\" width=\"800\" height=\"800\" />\n",
    "\n",
    "* **Multiple threads** : Multiple threads in a single process have access to the same memory. They communicate simply by sharing data, providing ensure of one thread at time, handled by the threading module. Threads share the process’s resources, including the heap space. But each thread still has it own stack. Threads are lighter than processes.\n",
    "\n",
    "<img align=\"center\" src=\"./images/multithreading.png\" alt=\"multithreading\" width=\"800\" height=\"800\" />"
   ]
  },
  {
   "cell_type": "markdown",
   "metadata": {},
   "source": [
    "**Note:** Although python has multithreading but it only executes one thread at a time. Threads share the same memory and process resources so they also share global variables which may cause a problem if the global variable is being edited during process. <br>\n",
    "***GIL*** (Global Interpretor Lock) makes sure that this don't happen. GIL is intended to serialize access to interpreter internals from different threads. On multi-core systems, it means that multiple threads can't effectively make use of multiple cores."
   ]
  },
  {
   "cell_type": "markdown",
   "metadata": {},
   "source": [
    "**Summary** : If your code is IO bound, both multiprocessing and multithreading in Python will work for you.<br> *Multithreading* can speed up process for network based operations(like web scraping - downloading multiple files). <br> *Multiprocessing* is a easier to just drop in than threading but has a higher memory overhead. If your code is CPU bound(writing lots of to hard disk, copying files etc.), multiprocessing is most likely going to be the better choice—especially if the target machine has multiple cores or CPUs."
   ]
  },
  {
   "cell_type": "markdown",
   "metadata": {},
   "source": [
    "### Subprocess module\n",
    "It is used to create a pair of parent-child programs. The parent program is started by the user and this in turn runs instances of the child program, each with different work to do. Using child processing allow us to take maximum advantage of multicore processor and leaves concurrency issues to be handled by the operational system."
   ]
  },
  {
   "cell_type": "code",
   "execution_count": 1,
   "metadata": {},
   "outputs": [
    {
     "data": {
      "text/plain": [
       "1"
      ]
     },
     "execution_count": 1,
     "metadata": {},
     "output_type": "execute_result"
    }
   ],
   "source": [
    "import subprocess\n",
    "subprocess.call(\"exit 1\",shell=True)"
   ]
  },
  {
   "cell_type": "markdown",
   "metadata": {},
   "source": [
    "### Threading module\n",
    "The major problem with threading is deadlocks which occur when we have to share data among multiple threads.\n",
    "Threading module has *Executor* abstract class which has two subclasses:\n",
    "* ThreadPoolExecutor - for multithreading\n",
    "* ProcessPoolExecutor - for multiprocessing"
   ]
  },
  {
   "cell_type": "code",
   "execution_count": 2,
   "metadata": {},
   "outputs": [
    {
     "name": "stdout",
     "output_type": "stream",
     "text": [
      "False\n",
      "False\n",
      "True\n",
      "hello world!\n"
     ]
    }
   ],
   "source": [
    "# threadpool executor\n",
    "from concurrent.futures import ThreadPoolExecutor\n",
    "from time import sleep\n",
    "\n",
    "# waits for 3 second to deliver the message\n",
    "def return_message(message):\n",
    "    sleep(3)\n",
    "    return message\n",
    "\n",
    "pool = ThreadPoolExecutor(3)\n",
    "futures = pool.submit(return_message,('hello world!'))\n",
    "\n",
    "# this returns in false as the task hasn't been completed\n",
    "print(futures.done())\n",
    "sleep(2)\n",
    "print(futures.done())   \n",
    "sleep(2)\n",
    "print(futures.done()) # after completing it returns true\n",
    "print(futures.result())"
   ]
  },
  {
   "cell_type": "code",
   "execution_count": 3,
   "metadata": {},
   "outputs": [
    {
     "name": "stdout",
     "output_type": "stream",
     "text": [
      "False\n",
      "True\n",
      "hello world!\n"
     ]
    }
   ],
   "source": [
    "# processpool executor\n",
    "from concurrent.futures import ProcessPoolExecutor\n",
    "from time import sleep\n",
    "\n",
    "# waits for 3 second to deliver the message\n",
    "def return_message(message):\n",
    "    sleep(3)\n",
    "    return message\n",
    "\n",
    "pool = ProcessPoolExecutor(3)\n",
    "futures = pool.submit(return_message,('hello world!'))\n",
    "\n",
    "# this returns in false as the task hasn't been completed\n",
    "print(futures.done())\n",
    "sleep(4)\n",
    "print(futures.done())    # after completing it returns true\n",
    "print(futures.result())"
   ]
  },
  {
   "cell_type": "code",
   "execution_count": 4,
   "metadata": {},
   "outputs": [
    {
     "name": "stdout",
     "output_type": "stream",
     "text": [
      "Exception returned as addinfourl instance has no attribute '__exit__'\n",
      "Exception returned as addinfourl instance has no attribute '__exit__'\n",
      "Exception returned as addinfourl instance has no attribute '__exit__'\n",
      "Exception returned as addinfourl instance has no attribute '__exit__'\n",
      "Exception returned as addinfourl instance has no attribute '__exit__'\n"
     ]
    }
   ],
   "source": [
    "#Executor.map() - returns things in order as they are passed\n",
    "#.as_completed() - returns things as soon as they are completed\n",
    "import urllib\n",
    "import concurrent.futures\n",
    "\n",
    "URLS = ['http://www.foxnews.com/',\n",
    "        'http://www.cnn.com/',\n",
    "        'http://europe.wsj.com/',\n",
    "        'http://www.bbc.co.uk/',\n",
    "        'http://some-made-up-domain.com/']\n",
    "\n",
    "# defining a function which hits url and returns first page\n",
    "def load_url(url,timeout):\n",
    "    with urllib.urlopen(url) as conn:\n",
    "        return conn.read()\n",
    "\n",
    "with concurrent.futures.ThreadPoolExecutor(max_workers=5) as executor:\n",
    "    future_to_url = {executor.submit(load_url,url,60): url for url in URLS}\n",
    "    for future in concurrent.futures.as_completed(future_to_url):\n",
    "        url = future_to_url[future]\n",
    "        try:\n",
    "            data = future.result()\n",
    "        except Exception as error:\n",
    "            print('Exception returned as %s'%error)\n",
    "        else:\n",
    "            print('%r page is %d bytes',(url,len(data)))"
   ]
  },
  {
   "cell_type": "code",
   "execution_count": 2,
   "metadata": {},
   "outputs": [
    {
     "name": "stdout",
     "output_type": "stream",
     "text": [
      "('total time: ', 3.703892946243286)\n"
     ]
    }
   ],
   "source": [
    "import concurrent.futures\n",
    "import math\n",
    "import time\n",
    "PRIMES = [i for i in range(112272535095293,112272535095393)]\n",
    " \n",
    "def is_prime(n):\n",
    "    if n % 2 == 0:\n",
    "        return False\n",
    " \n",
    "    sqrt_n = int(math.floor(math.sqrt(n)))\n",
    "    for i in range(3, sqrt_n + 1, 2):\n",
    "        if n % i == 0:\n",
    "            return False\n",
    "    return True\n",
    "\n",
    "def main():\n",
    "    start = time.time()\n",
    "    with concurrent.futures.ProcessPoolExecutor() as executor:\n",
    "        for number,prime in zip(PRIMES,executor.map(is_prime,PRIMES,chunksize=1)):\n",
    "           pass\n",
    "    end = time.time()\n",
    "    print('total time: ',end-start)\n",
    "if __name__=='__main__':\n",
    "    main()\n"
   ]
  },
  {
   "cell_type": "code",
   "execution_count": 3,
   "metadata": {},
   "outputs": [
    {
     "name": "stdout",
     "output_type": "stream",
     "text": [
      "Return of 4\n",
      "Return of 0\n",
      "Return of 1\n",
      "Return of 2\n",
      "Return of 3\n"
     ]
    }
   ],
   "source": [
    "from concurrent.futures import ThreadPoolExecutor, wait, as_completed\n",
    "from time import sleep\n",
    "from random import randint\n",
    "\n",
    "def return_after_5_secs(num):\n",
    "    sleep(randint(1, 5))\n",
    "    return \"Return of {}\".format(num)\n",
    "\n",
    "pool = ThreadPoolExecutor(5)\n",
    "futures = []\n",
    "for x in range(5):\n",
    "    futures.append(pool.submit(return_after_5_secs, x))\n",
    "\n",
    "for x in as_completed(futures):\n",
    "    print(x.result())"
   ]
  },
  {
   "cell_type": "code",
   "execution_count": 4,
   "metadata": {},
   "outputs": [
    {
     "name": "stdout",
     "output_type": "stream",
     "text": [
      "DoneAndNotDoneFutures(done=set([<Future at 0x7fd29c04dc10 state=finished returned str>, <Future at 0x7fd29c0dcc50 state=finished returned str>, <Future at 0x7fd29c04df10 state=finished returned str>, <Future at 0x7fd2a321b650 state=finished returned str>, <Future at 0x7fd29c0763d0 state=finished returned str>]), not_done=set([]))\n"
     ]
    }
   ],
   "source": [
    "# wait returns a tuple (set of done, set of not done) futures\n",
    "from concurrent.futures import ThreadPoolExecutor, wait, as_completed\n",
    "from time import sleep\n",
    "from random import randint\n",
    " \n",
    "def return_after_5_secs(num):\n",
    "    sleep(randint(1, 5))\n",
    "    return \"Return of {}\".format(num)\n",
    " \n",
    "pool = ThreadPoolExecutor(5)\n",
    "futures = []\n",
    "for x in range(5):\n",
    "    futures.append(pool.submit(return_after_5_secs, x))\n",
    " \n",
    "print(wait(futures))"
   ]
  },
  {
   "cell_type": "markdown",
   "metadata": {},
   "source": [
    "### Virtual environments\n",
    "___"
   ]
  },
  {
   "cell_type": "markdown",
   "metadata": {},
   "source": [
    "#### 1. Virtualenv \n",
    "it creates virtual environment within the current folder\n",
    "commands executed on bash terminal\n",
    "* **virtualenv virtual_environment_1**\n",
    "* **source virtual_environment_1/bin/activate**\n",
    "* **deactivate**"
   ]
  },
  {
   "cell_type": "markdown",
   "metadata": {},
   "source": [
    "#### 2. Virtualenvwrapper \n",
    "it places all of your virtual environments in one place\n",
    "* **export WORKON_HOME=\\$HOME/.virtualenvs**\n",
    "* **export PROJECT_HOME=\\$HOME/developer**\n",
    "* **source ~/.local/bin/virtualenvwrapper.sh**\n",
    "* **mkvirtualenv test1**    &nbsp;&nbsp;&nbsp;&nbsp;&nbsp;&nbsp;&nbsp;&nbsp;&nbsp; # create virtual environment\n",
    "* **workon virtual_env_1**  &nbsp;&nbsp;&nbsp;&nbsp;&nbsp;&nbsp;&nbsp;&nbsp;&nbsp;  # enter into virtual environment\n",
    "* **rm virtual_env_1**  &nbsp;&nbsp;&nbsp;&nbsp;&nbsp;&nbsp;&nbsp;&nbsp;&nbsp;  # remove virtual environment"
   ]
  },
  {
   "cell_type": "markdown",
   "metadata": {},
   "source": [
    "* **lsvirtualenvList** &nbsp;&nbsp;&nbsp;&nbsp;&nbsp;&nbsp;&nbsp;&nbsp;&nbsp;   # list all virtual environments\n",
    "* **cdvirtualenv** &nbsp;&nbsp;&nbsp;&nbsp;&nbsp;&nbsp;&nbsp;&nbsp;&nbsp;   # enter into virtual environment directory\n",
    "* **cdsitepackages** &nbsp;&nbsp;&nbsp;&nbsp;&nbsp;&nbsp;&nbsp;&nbsp;&nbsp;   # enter into site-packages directory of virtual environment\n",
    "* **lssitepackages** &nbsp;&nbsp;&nbsp;&nbsp;&nbsp;&nbsp;&nbsp;&nbsp;&nbsp;   # list all site-packages directory of virtual environment"
   ]
  },
  {
   "cell_type": "markdown",
   "metadata": {},
   "source": [
    "### Debugging\n",
    "___"
   ]
  },
  {
   "cell_type": "markdown",
   "metadata": {},
   "source": [
    "#### pdb - python debugger\n",
    "It helps in debugging in bash terminal interactively\n",
    "* **import pdb**\n",
    "* **pdb.set_trace()**\n",
    "\n",
    "You can also use without importing as well via bash command line terminal\n",
    "* **python -m pdb sample_program.py**"
   ]
  },
  {
   "cell_type": "markdown",
   "metadata": {},
   "source": [
    "### Profiling\n",
    "___\n",
    "Tips: for improving memory performance \n",
    "1. Use tuples rather than lists for storing read-only data\n",
    "2. Use ***generators*** rather than lists or tuples for iterating over data\n",
    "3. Rather than using + for concatenation use append in lists for strings."
   ]
  },
  {
   "cell_type": "code",
   "execution_count": 7,
   "metadata": {},
   "outputs": [
    {
     "name": "stdout",
     "output_type": "stream",
     "text": [
      "         5 function calls in 3.511 seconds\n",
      "\n",
      "   Ordered by: standard name\n",
      "\n",
      "   ncalls  tottime  percall  cumtime  percall filename:lineno(function)\n",
      "        1    3.314    3.314    3.433    3.433 <ipython-input-7-bc57f0188498>:4(main)\n",
      "        1    0.078    0.078    3.511    3.511 <string>:1(<module>)\n",
      "        1    0.000    0.000    0.000    0.000 {method 'disable' of '_lsprof.Profiler' objects}\n",
      "        2    0.119    0.060    0.119    0.060 {range}\n",
      "\n",
      "\n"
     ]
    }
   ],
   "source": [
    "# cProfile package - for finding out which function or module is taking a lot of time\n",
    "import cProfile\n",
    "\n",
    "def main():\n",
    "    a = 3\n",
    "    b = 5000000\n",
    "    c = [i**2 for i in range(a,b)]\n",
    "    d = [i**3 for i in range(a,b)]\n",
    "\n",
    "cProfile.run(\"main()\")"
   ]
  },
  {
   "cell_type": "markdown",
   "metadata": {},
   "source": [
    "for doing via commandline \n",
    "* **python -m cProfile sample_script.py**"
   ]
  },
  {
   "cell_type": "code",
   "execution_count": 1,
   "metadata": {},
   "outputs": [
    {
     "data": {
      "text/plain": [
       "0.017785072326660156"
      ]
     },
     "execution_count": 1,
     "metadata": {},
     "output_type": "execute_result"
    }
   ],
   "source": [
    "# timeit package - timing small pieces of code\n",
    "import timeit\n",
    "timeit.timeit(\"x=2+2\")"
   ]
  },
  {
   "cell_type": "code",
   "execution_count": 2,
   "metadata": {},
   "outputs": [
    {
     "data": {
      "text/plain": [
       "0.8751599788665771"
      ]
     },
     "execution_count": 2,
     "metadata": {},
     "output_type": "execute_result"
    }
   ],
   "source": [
    "timeit.timeit(\"sum(i for i in range(10))\")"
   ]
  },
  {
   "cell_type": "markdown",
   "metadata": {},
   "source": [
    "for doing via command line\n",
    "* **python -m timeit -s 'import mymodule as m' 'm.myfunction()'**"
   ]
  },
  {
   "cell_type": "code",
   "execution_count": 12,
   "metadata": {},
   "outputs": [
    {
     "name": "stdout",
     "output_type": "stream",
     "text": [
      "Sum is 15 and required  0.0000021 seconds\n",
      "Sum is 20100 and required  0.0000150 seconds\n"
     ]
    }
   ],
   "source": [
    "import time\n",
    "def sumOfN2(n):\n",
    "    '''\n",
    "    a simple example of how to time a function\n",
    "    '''\n",
    "    start = time.time()\n",
    "    theSum = 0\n",
    "    for i in range(1,n+1):\n",
    "        theSum = theSum + i\n",
    "    end = time.time()\n",
    "    return theSum,end-start\n",
    "\n",
    "if __name__ =='__main__':\n",
    "    n = 5\n",
    "    print(\"Sum is %d and required %10.7f seconds\"%sumOfN2(n))\n",
    "    n = 200\n",
    "    print(\"Sum is %d and required %10.7f seconds\"%sumOfN2(n))"
   ]
  },
  {
   "cell_type": "markdown",
   "metadata": {},
   "source": [
    "### Unit testing\n",
    "Unit testing is a good way of testing your code snippets. It ensures that the functions, classes or modules behave in exact way as they are designed. \n",
    "<br>\n",
    "Python provides two modules:\n",
    "* **doctest**\n",
    "* **unittest**\n",
    "<br><br>\n",
    "There are third party modules or libraries as well: **nose** and **py.test**\n",
    "***"
   ]
  },
  {
   "cell_type": "code",
   "execution_count": 18,
   "metadata": {},
   "outputs": [],
   "source": [
    "import doctest\n",
    "\n",
    "def testing_function():\n",
    "    a = 2\n",
    "    b = 3\n",
    "    print(a+b)\n",
    "\n",
    "if __name__=='__main__':\n",
    "    doctest.testmod()"
   ]
  },
  {
   "cell_type": "markdown",
   "metadata": {},
   "source": [
    "You can also test by importing doctest module in '__main__' function call.\n",
    "* **python sample_script.py -v**"
   ]
  },
  {
   "cell_type": "markdown",
   "metadata": {},
   "source": [
    "You can create a separate test program using *unittest* module\n",
    "<br><br>\n",
    "**import doctest<br>\n",
    "import unittest<br>\n",
    "import module_to_be_tested<br>\n",
    "suite = unittest.testsuite()<br>\n",
    "suite.addtest(doctest.doctestsuite(module_to_be_tested)<br>\n",
    "runner = unittest.testtestrunner()<br>\n",
    "print(runner.run(suite))**<br>\n",
    "<br>"
   ]
  },
  {
   "cell_type": "markdown",
   "metadata": {},
   "source": [
    "using pytest\n",
    "<br><br>\n",
    "To check whether pytest was successfully installed\n",
    "* **python -m pytest**\n",
    "<br>\n",
    "\n",
    "In case of more than one test:\n",
    "* **py.test -q test_class.py**\n",
    "<br>"
   ]
  },
  {
   "cell_type": "markdown",
   "metadata": {},
   "source": [
    "$$ The\\ End $$"
   ]
  }
 ],
 "metadata": {
  "kernelspec": {
   "display_name": "Python 2",
   "language": "python",
   "name": "python2"
  },
  "language_info": {
   "codemirror_mode": {
    "name": "ipython",
    "version": 2
   },
   "file_extension": ".py",
   "mimetype": "text/x-python",
   "name": "python",
   "nbconvert_exporter": "python",
   "pygments_lexer": "ipython2",
   "version": "2.7.15rc1"
  }
 },
 "nbformat": 4,
 "nbformat_minor": 2
}
