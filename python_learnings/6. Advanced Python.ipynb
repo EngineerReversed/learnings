{
 "cells": [
  {
   "cell_type": "markdown",
   "metadata": {},
   "source": [
    "# Multiprocessing and Multithreading\n",
    "Each program in the operational system is a separate process. Each process has one or more threads. If a process has several threads, they appear to run simultaneously. The above approaches are required to achieve ***concurrency*** and ***parallelism*** in python.\n",
    "\n",
    "Two approaches can be used to spread the workload in programs:\n",
    "\n",
    "* **Multiple processes** : Multiple processes have separate regions of memory and can only communicate by special mechanisms. The processor loads and saves a separate set of registers for each thread. It is inconvenient for communication and data sharing. This is handled by the *subprocess* module.\n",
    "\n",
    "<img align=\"center\" src=\"./images/multiprocessing.png\" alt=\"multiprocessing\" width=\"800\" height=\"800\" />\n",
    "\n",
    "* **Multiple threads** : Multiple threads in a single process have access to the same memory. They communicate simply by sharing data, providing ensure of one thread at time, handled by the threading module. Threads share the process’s resources, including the heap space. But each thread still has it own stack. Threads are lighter than processes.\n",
    "\n",
    "<img align=\"center\" src=\"./images/multithreading.png\" alt=\"multithreading\" width=\"800\" height=\"800\" />"
   ]
  },
  {
   "cell_type": "markdown",
   "metadata": {},
   "source": [
    "**Note:** Although python has multithreading but it only executes one thread at a time. Threads share the same memory and process resources so they also share global variables which may cause a problem if the global variable is being edited during process. <br>\n",
    "***GIL*** (Global Interpretor Lock) makes sure that this don't happen. GIL is intended to serialize access to interpreter internals from different threads. On multi-core systems, it means that multiple threads can't effectively make use of multiple cores."
   ]
  },
  {
   "cell_type": "markdown",
   "metadata": {},
   "source": [
    "**Summary** : If your code is IO bound, both multiprocessing and multithreading in Python will work for you.<br> *Multithreading* can speed up process for network based operations(like web scraping - downloading multiple files). <br> *Multiprocessing* is a easier to just drop in than threading but has a higher memory overhead. If your code is CPU bound(writing lots of to hard disk, copying files etc.), multiprocessing is most likely going to be the better choice—especially if the target machine has multiple cores or CPUs."
   ]
  },
  {
   "cell_type": "markdown",
   "metadata": {},
   "source": [
    "### subprocess module\n",
    "It is used to create a pair of parent-child programs. The parent program is started by the user and this in turn runs instances of the child program, each with different work to do. Using child processing allow us to take maximum advantage of multicore processor and leaves concurrency issues to be handled by the operational system."
   ]
  },
  {
   "cell_type": "code",
   "execution_count": 1,
   "metadata": {},
   "outputs": [
    {
     "data": {
      "text/plain": [
       "1"
      ]
     },
     "execution_count": 1,
     "metadata": {},
     "output_type": "execute_result"
    }
   ],
   "source": [
    "import subprocess\n",
    "subprocess.call(\"exit 1\",shell=True)"
   ]
  },
  {
   "cell_type": "markdown",
   "metadata": {},
   "source": [
    "### threading module\n",
    "The major problem with threading is deadlocks which occur when we have to share data among multiple threads.\n",
    "Threading module has *Executor* abstract class which has two subclasses:\n",
    "* ThreadPoolExecutor - for multithreading\n",
    "* ProcessPoolExecutor - for multiprocessing"
   ]
  },
  {
   "cell_type": "code",
   "execution_count": 13,
   "metadata": {},
   "outputs": [
    {
     "name": "stdout",
     "output_type": "stream",
     "text": [
      "False\n",
      "True\n",
      "hello world!\n"
     ]
    }
   ],
   "source": [
    "# threadpool executor\n",
    "from concurrent.futures import ThreadPoolExecutor\n",
    "from time import sleep\n",
    "\n",
    "# waits for 3 second to deliver the message\n",
    "def return_message(message):\n",
    "    sleep(3)\n",
    "    return message\n",
    "\n",
    "pool = ThreadPoolExecutor(3)\n",
    "futures = pool.submit(return_message,('hello world!'))\n",
    "\n",
    "# this returns in false as the task hasn't been completed\n",
    "print(futures.done())\n",
    "sleep(4)\n",
    "print(futures.done())    # after completing it returns true\n",
    "print(futures.result())"
   ]
  },
  {
   "cell_type": "code",
   "execution_count": 17,
   "metadata": {},
   "outputs": [
    {
     "name": "stdout",
     "output_type": "stream",
     "text": [
      "False\n",
      "True\n",
      "hello world!\n"
     ]
    }
   ],
   "source": [
    "# processpool executor\n",
    "from concurrent.futures import ProcessPoolExecutor\n",
    "from time import sleep\n",
    "\n",
    "# waits for 3 second to deliver the message\n",
    "def return_message(message):\n",
    "    sleep(3)\n",
    "    return message\n",
    "\n",
    "pool = ProcessPoolExecutor(3)\n",
    "futures = pool.submit(return_message,('hello world!'))\n",
    "\n",
    "# this returns in false as the task hasn't been completed\n",
    "print(futures.done())\n",
    "sleep(4)\n",
    "print(futures.done())    # after completing it returns true\n",
    "print(futures.result())\n",
    "\n",
    "\n"
   ]
  },
  {
   "cell_type": "code",
   "execution_count": null,
   "metadata": {},
   "outputs": [],
   "source": []
  },
  {
   "cell_type": "code",
   "execution_count": null,
   "metadata": {},
   "outputs": [],
   "source": []
  },
  {
   "cell_type": "code",
   "execution_count": null,
   "metadata": {},
   "outputs": [],
   "source": []
  },
  {
   "cell_type": "code",
   "execution_count": null,
   "metadata": {},
   "outputs": [],
   "source": []
  }
 ],
 "metadata": {
  "kernelspec": {
   "display_name": "Python 2",
   "language": "python",
   "name": "python2"
  },
  "language_info": {
   "codemirror_mode": {
    "name": "ipython",
    "version": 2
   },
   "file_extension": ".py",
   "mimetype": "text/x-python",
   "name": "python",
   "nbconvert_exporter": "python",
   "pygments_lexer": "ipython2",
   "version": "2.7.12"
  }
 },
 "nbformat": 4,
 "nbformat_minor": 2
}
