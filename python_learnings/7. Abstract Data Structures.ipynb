{
 "cells": [
  {
   "cell_type": "markdown",
   "metadata": {},
   "source": [
    "# Abstract Data Type\n",
    "An Abstract Data Type(ADT) is a mathematical model for a certain class of data structures that show similar behaviour. These can be of two types:\n",
    "* **contiguous** : based on arrays - list, dictionary, strings, tuples etc.\n",
    "* **linked** - based on pointers - several chunks of memory bounded or linked together"
   ]
  },
  {
   "cell_type": "markdown",
   "metadata": {},
   "source": [
    "## Stacks\n",
    "They are examples of LIFO(last in first out) structure. Element can be accessed only from one end. Stacks are suitable for depth first traversel in graphs.\n",
    "___\n",
    "\n",
    "Elements running at **O(1)** efficiency:\n",
    "* **pop**: Remove top element from the stack\n",
    "* **push**: Add element on top of stack\n",
    "* **top/peak**: Look at top most element of stack\n",
    "* **empty/size**: Check whether stack is empty or return it's size"
   ]
  },
  {
   "cell_type": "code",
   "execution_count": 2,
   "metadata": {},
   "outputs": [
    {
     "name": "stdout",
     "output_type": "stream",
     "text": [
      "('Is the stack empty? ', True)\n",
      "Adding 0 to 10 in the stack...\n",
      "('Stack size: ', 10)\n",
      "('Stack peek : ', 9)\n",
      "('Pop...', 9)\n",
      "('Stack peek: ', 8)\n",
      "('Is the stack empty? ', False)\n",
      "[0, 1, 2, 3, 4, 5, 6, 7, 8]\n"
     ]
    }
   ],
   "source": [
    "# Stack implementation using list\n",
    "\n",
    "class Stack():\n",
    "    \n",
    "    def __init__(self):\n",
    "        self.items=[]\n",
    "    \n",
    "    def isEmpty(self):\n",
    "        return not bool(len(self.items))\n",
    "    \n",
    "    def push(self,value):\n",
    "        self.items.append(value)\n",
    "        \n",
    "    def pop(self):\n",
    "        value = self.items.pop()\n",
    "        if value:\n",
    "            return value\n",
    "        else:\n",
    "            print('Stack is empty')\n",
    "    \n",
    "    def size(self):\n",
    "        return len(self.items)\n",
    "    \n",
    "    def peek(self):\n",
    "        if len(self.items):\n",
    "            return self.items[-1]\n",
    "        else:\n",
    "            print('Stack is empty')\n",
    "            \n",
    "    def __repr__(self):\n",
    "        return '{}'.format(self.items)\n",
    "    \n",
    "\n",
    "if __name__=='__main__':\n",
    "    stack = Stack()\n",
    "    print(\"Is the stack empty? \", stack.isEmpty())\n",
    "    print(\"Adding 0 to 10 in the stack...\")\n",
    "    for i in range(10):\n",
    "        stack.push(i)\n",
    "    print(\"Stack size: \", stack.size())\n",
    "    print(\"Stack peek : \", stack.peek())\n",
    "    print(\"Pop...\", stack.pop())\n",
    "    print(\"Stack peek: \", stack.peek())\n",
    "    print(\"Is the stack empty? \", stack.isEmpty())\n",
    "    print(stack)        "
   ]
  },
  {
   "cell_type": "code",
   "execution_count": 6,
   "metadata": {},
   "outputs": [
    {
     "name": "stdout",
     "output_type": "stream",
     "text": [
      "('Is the stack empty? ', True)\n",
      "Adding 0 to 10 in the stack...\n",
      "9\n",
      "8\n",
      "7\n",
      "6\n",
      "5\n",
      "4\n",
      "3\n",
      "2\n",
      "1\n",
      "0\n",
      "('Stack size: ', 10)\n",
      "('Stack peek : ', 9)\n",
      "('Pop...', 9)\n",
      "('Stack peek: ', 8)\n",
      "('Is the stack empty? ', False)\n",
      "8\n",
      "7\n",
      "6\n",
      "5\n",
      "4\n",
      "3\n",
      "2\n",
      "1\n",
      "0\n"
     ]
    }
   ],
   "source": [
    "# stack implementation using linked list\n",
    "class Node(object):\n",
    "    def __init__(self,value=None,pointer=None):\n",
    "        self.value = value\n",
    "        self.pointer = pointer\n",
    "        \n",
    "class Stack(object):\n",
    "    def __init__(self):\n",
    "        self.head = None\n",
    "        \n",
    "    def isEmpty(self):\n",
    "        return not bool(self.head)\n",
    "    \n",
    "    def push(self, item):\n",
    "        self.head = Node(item,self.head)\n",
    "        \n",
    "    def pop(self):\n",
    "        if self.head:\n",
    "            node = self.head\n",
    "            self.head = node.pointer\n",
    "            return node.value\n",
    "        else:\n",
    "            print('Stack is empty')\n",
    "        \n",
    "    def peek(self):\n",
    "        if self.head :\n",
    "            return self.head.value\n",
    "        else:\n",
    "            print('Stack is empty')\n",
    "            \n",
    "    def size(self):\n",
    "        count = 0\n",
    "        node  = self.head\n",
    "        while node:\n",
    "            count+=1\n",
    "            node  = node.pointer\n",
    "        return count\n",
    "    \n",
    "    def _printList(self):\n",
    "        node = self.head\n",
    "        while node:\n",
    "            print(node.value)\n",
    "            node = node.pointer\n",
    "            \n",
    "if __name__ == \"__main__\":\n",
    "    stack = Stack()\n",
    "    print(\"Is the stack empty? \", stack.isEmpty())\n",
    "    print(\"Adding 0 to 10 in the stack...\")\n",
    "    for i in range(10):\n",
    "        stack.push(i)\n",
    "    stack._printList()\n",
    "    print(\"Stack size: \", stack.size())\n",
    "    print(\"Stack peek : \", stack.peek())\n",
    "    print(\"Pop...\", stack.pop())\n",
    "    print(\"Stack peek: \", stack.peek())\n",
    "    print(\"Is the stack empty? \", stack.isEmpty())\n",
    "    stack._printList()"
   ]
  },
  {
   "cell_type": "markdown",
   "metadata": {},
   "source": [
    "## Queues\n",
    "Queues are data structures which follow FIFO(First In First Out) structure. They are necessary for breadth-first traversel algorithms in graph. Elements are pushed in through one end and popped through other end. Some operations which run at **O(1)** efficiency are:\n",
    "* **enqueue**: Insert the item at back of queue\n",
    "* **dequeue**: Remove the item from front of queue\n",
    "* **peak/front**: Looking at front element of queue\n",
    "* **empty/size**: Quering for size of queue\n",
    "___"
   ]
  },
  {
   "cell_type": "code",
   "execution_count": 13,
   "metadata": {},
   "outputs": [
    {
     "name": "stdout",
     "output_type": "stream",
     "text": [
      "('Is the queue empty? ', True)\n",
      "Adding 0 to 10 in the queue...\n",
      "('Queue size: ', 10)\n",
      "('Queue peek : ', 0)\n",
      "('Dequeue...', 0)\n",
      "('Queue peek: ', 1)\n",
      "('Is the queue empty? ', False)\n",
      "[9, 8, 7, 6, 5, 4, 3, 2, 1]\n"
     ]
    }
   ],
   "source": [
    "# implementation of Queue using list\n",
    "class Queue(object):\n",
    "    def __init__(self):\n",
    "        self.items = []\n",
    "        \n",
    "    def enqueue(self,item):\n",
    "        self.items.insert(0,item)\n",
    "        \n",
    "    def dequeue(self):\n",
    "        return self.items.pop()\n",
    "        \n",
    "    def isEmpty(self):\n",
    "        return not bool(self.items)\n",
    "    \n",
    "    def size(self):\n",
    "        return len(self.items)\n",
    "    \n",
    "    def peek(self):\n",
    "        return self.items[-1]\n",
    "    \n",
    "    def __repr__(self):\n",
    "        return \"{}\".format(self.items)\n",
    "        \n",
    "\n",
    "if __name__=='__main__':\n",
    "    queue = Queue()\n",
    "    print(\"Is the queue empty? \", queue.isEmpty())\n",
    "    print(\"Adding 0 to 10 in the queue...\")\n",
    "    for i in range(10):\n",
    "        queue.enqueue(i)\n",
    "    print(\"Queue size: \", queue.size())\n",
    "    print(\"Queue peek : \", queue.peek())\n",
    "    print(\"Dequeue...\", queue.dequeue())\n",
    "    print(\"Queue peek: \", queue.peek())\n",
    "    print(\"Is the queue empty? \", queue.isEmpty())\n",
    "    print(queue)\n"
   ]
  },
  {
   "cell_type": "code",
   "execution_count": 14,
   "metadata": {},
   "outputs": [
    {
     "name": "stdout",
     "output_type": "stream",
     "text": [
      "('Is the queue empty? ', True)\n",
      "Adding 0 to 10 in the queue...\n",
      "('Queue size: ', 10)\n",
      "('Queue peek : ', 0)\n",
      "('Dequeue...', 0)\n",
      "('Queue peek: ', 1)\n",
      "('Is the queue empty? ', False)\n",
      "Printing the queue...\n",
      "[9, 8, 7, 6, 5, 4, 3, 2, 1]\n"
     ]
    }
   ],
   "source": [
    "# Queue implemented using two lists\n",
    "class Queue(object):\n",
    "    def __init__(self):\n",
    "        self.in_stack=[]\n",
    "        self.out_stack=[]\n",
    "        \n",
    "    # basic methods\n",
    "    def _transfer(self):\n",
    "        while self.in_stack:\n",
    "            self.out_stack.append(self.in_stack.pop())\n",
    "            \n",
    "    def enqueue(self,item):\n",
    "        self.in_stack.append(item)\n",
    "    \n",
    "    def dequeue(self):\n",
    "        if not self.out_stack:\n",
    "            self._transfer()\n",
    "        if self.out_stack:\n",
    "            return self.out_stack.pop()\n",
    "        else:\n",
    "            print('Queue is empty')\n",
    "    \n",
    "    def size(self):\n",
    "        return len(self.out_stack) + len(self.in_stack)\n",
    "    \n",
    "    def peek(self):\n",
    "        if not self.out_stack:\n",
    "            self._transfer()\n",
    "        if self.out_stack:\n",
    "            return self.out_stack[-1]\n",
    "        else:\n",
    "            return 'Queue is empty'\n",
    "    \n",
    "    def __repr__(self):\n",
    "        if not self.out_stack:\n",
    "            self._transfer()\n",
    "        if self.out_stack:\n",
    "            return \"{}\".format(self.out_stack)\n",
    "        else:\n",
    "            return \"Queue is empty\"\n",
    "    \n",
    "    def isEmpty(self):\n",
    "        return not (bool(self.out_stack) or bool(self.in_stack))\n",
    "    \n",
    "if __name__ ==\"__main__\":\n",
    "    queue = Queue()\n",
    "    print(\"Is the queue empty? \", queue.isEmpty())\n",
    "    print(\"Adding 0 to 10 in the queue...\")\n",
    "    for i in range(10):\n",
    "        queue.enqueue(i)\n",
    "    print(\"Queue size: \", queue.size())\n",
    "    print(\"Queue peek : \", queue.peek())\n",
    "    print(\"Dequeue...\", queue.dequeue())\n",
    "    print(\"Queue peek: \", queue.peek())\n",
    "    print(\"Is the queue empty? \", queue.isEmpty())\n",
    "    print(\"Printing the queue...\")\n",
    "    print(queue)"
   ]
  },
  {
   "cell_type": "code",
   "execution_count": 32,
   "metadata": {},
   "outputs": [
    {
     "name": "stdout",
     "output_type": "stream",
     "text": [
      "('Is the queue empty? ', True)\n",
      "Adding 0 to 10 in the queue...\n",
      "('Is the queue empty? ', False)\n",
      "0\n",
      "1\n",
      "2\n",
      "3\n",
      "4\n",
      "5\n",
      "6\n",
      "7\n",
      "8\n",
      "9\n",
      "('Queue size: ', 10)\n",
      "('Queue peek : ', 0)\n",
      "('Dequeue...', 0)\n",
      "('Queue peek: ', 1)\n",
      "1\n",
      "2\n",
      "3\n",
      "4\n",
      "5\n",
      "6\n",
      "7\n",
      "8\n",
      "9\n"
     ]
    }
   ],
   "source": [
    "# Queue implementation using nodes\n",
    "class Node(object):\n",
    "    def __init__(self,value=None,pointer=None):\n",
    "        self.value = value\n",
    "        self.pointer = None\n",
    "        \n",
    "class LinkedQueue(object):\n",
    "    def __init__(self):\n",
    "        self.head = None\n",
    "        self.tail = None\n",
    "        \n",
    "    def isEmpty(self):\n",
    "        return not bool(self.head)\n",
    "    \n",
    "    def dequeue(self):\n",
    "        if self.head:\n",
    "            value = self.head.value\n",
    "            self.head = self.head.pointer\n",
    "            return value\n",
    "        else:\n",
    "            print('Queue is empty')\n",
    "    \n",
    "    def enqueue(self, value):\n",
    "        node = Node(value)\n",
    "        if not self.head:\n",
    "            self.head = node\n",
    "            self.tail = node\n",
    "        else:\n",
    "            if self.tail:\n",
    "                self.tail.pointer = node\n",
    "            self.tail = node\n",
    "    \n",
    "    def size(self):\n",
    "        node = self.head\n",
    "        counter = 0\n",
    "        while node:\n",
    "            counter+=1\n",
    "            node = node.pointer\n",
    "        return counter\n",
    "    \n",
    "    def peek(self):\n",
    "        return self.head.value\n",
    "    \n",
    "    def _print(self):\n",
    "        node = self.head\n",
    "        while node:\n",
    "            print(node.value)\n",
    "            node = node.pointer\n",
    "\n",
    "if __name__ ==\"__main__\":\n",
    "    queue = LinkedQueue()\n",
    "    print(\"Is the queue empty? \", queue.isEmpty())\n",
    "    print(\"Adding 0 to 10 in the queue...\")\n",
    "    for i in range(10):\n",
    "        queue.enqueue(i)\n",
    "    print(\"Is the queue empty? \", queue.isEmpty())\n",
    "    queue._print()\n",
    "    print(\"Queue size: \", queue.size())\n",
    "    print(\"Queue peek : \", queue.peek())\n",
    "    print(\"Dequeue...\", queue.dequeue())\n",
    "    print(\"Queue peek: \", queue.peek())\n",
    "    queue._print()\n",
    "\n",
    "   "
   ]
  },
  {
   "cell_type": "markdown",
   "metadata": {},
   "source": [
    "## Deque\n",
    "Double-ended queue = union of stack and queue. Dequeues are implemented as doubly linked list in python. Appending an item in a list is **O(1)** while accesing an item within a list will be **O(N)**\n"
   ]
  },
  {
   "cell_type": "code",
   "execution_count": 41,
   "metadata": {},
   "outputs": [
    {
     "name": "stdout",
     "output_type": "stream",
     "text": [
      "deque(['abhi', 'pulkit', 'papa', 'mummy'])\n",
      "deque(['abhi', 'pulkit', 'papa', 'mummy', 'temp'])\n"
     ]
    }
   ],
   "source": [
    "# using collections -efficient way of adding items to list\n",
    "from collections import deque\n",
    "q = deque(['abhi','pulkit','papa','mummy'])\n",
    "print(q)\n",
    "q.append('temp')\n",
    "print(q)"
   ]
  },
  {
   "cell_type": "code",
   "execution_count": 42,
   "metadata": {},
   "outputs": [
    {
     "name": "stdout",
     "output_type": "stream",
     "text": [
      "abhi\n",
      "temp\n"
     ]
    }
   ],
   "source": [
    "print(q.popleft())\n",
    "print(q.pop())"
   ]
  },
  {
   "cell_type": "code",
   "execution_count": 43,
   "metadata": {},
   "outputs": [
    {
     "name": "stdout",
     "output_type": "stream",
     "text": [
      "deque(['pulkit', 'papa', 'mummy'])\n",
      "deque(['angel', 'pulkit', 'papa', 'mummy'])\n"
     ]
    }
   ],
   "source": [
    "print(q)\n",
    "q.appendleft('angel')\n",
    "print(q)"
   ]
  },
  {
   "cell_type": "code",
   "execution_count": 44,
   "metadata": {},
   "outputs": [
    {
     "data": {
      "text/plain": [
       "deque(['pulkit', 'papa', 'mummy', 'angel'])"
      ]
     },
     "execution_count": 44,
     "metadata": {},
     "output_type": "execute_result"
    }
   ],
   "source": [
    "q.rotate(3)    # rotates the list by n places\n",
    "q"
   ]
  },
  {
   "cell_type": "markdown",
   "metadata": {},
   "source": [
    "## Priority Queues and Heaps\n",
    "Priority queues are similar to queues and stacks except the elements have a priority associated with them. **Heaps** are used to implement priority queues."
   ]
  },
  {
   "cell_type": "markdown",
   "metadata": {},
   "source": [
    "### Heaps\n",
    "Conceptually, a heap is a binary tree where each node is smaller(larger) than it's children.<br> \n",
    "Modifications in a balanced tree can be done in **O(logN)** time. Heaps are generally used for finding smallest(largest) element in a list. Min-(Max) heap have following properties:\n",
    "* Accesing smallest(largest) element: O(1)\n",
    "* Add or replace element: O(logN)"
   ]
  },
  {
   "cell_type": "code",
   "execution_count": 39,
   "metadata": {},
   "outputs": [
    {
     "data": {
      "text/plain": [
       "[1, 2, 4, 8, 7]"
      ]
     },
     "execution_count": 39,
     "metadata": {},
     "output_type": "execute_result"
    }
   ],
   "source": [
    "# heaps implementation using python's heap package\n",
    "import heapq\n",
    "lt = [4,7,1,8,2]\n",
    "heapq.heapify(lt)\n",
    "lt"
   ]
  },
  {
   "cell_type": "code",
   "execution_count": 40,
   "metadata": {},
   "outputs": [
    {
     "data": {
      "text/plain": [
       "[1, 2, 3, 8, 7, 4]"
      ]
     },
     "execution_count": 40,
     "metadata": {},
     "output_type": "execute_result"
    }
   ],
   "source": [
    "# pushing item into a heap\n",
    "heapq.heappush(lt,3)\n",
    "lt"
   ]
  },
  {
   "cell_type": "code",
   "execution_count": 41,
   "metadata": {},
   "outputs": [
    {
     "data": {
      "text/plain": [
       "[2, 4, 3, 8, 7]"
      ]
     },
     "execution_count": 41,
     "metadata": {},
     "output_type": "execute_result"
    }
   ],
   "source": [
    "# popping and returning smallest element from the heap\n",
    "heapq.heappop(lt)\n",
    "lt"
   ]
  },
  {
   "cell_type": "code",
   "execution_count": 42,
   "metadata": {},
   "outputs": [
    {
     "data": {
      "text/plain": [
       "[3, 4, 6, 8, 7]"
      ]
     },
     "execution_count": 42,
     "metadata": {},
     "output_type": "execute_result"
    }
   ],
   "source": [
    "# pushing and popping element - similarly heapq.heapreplace(heap,item)\n",
    "heapq.heappushpop(lt,6)\n",
    "lt"
   ]
  },
  {
   "cell_type": "code",
   "execution_count": 54,
   "metadata": {},
   "outputs": [
    {
     "name": "stdout",
     "output_type": "stream",
     "text": [
      "1\n",
      "2\n",
      "3\n",
      "1\n",
      "4\n",
      "6\n"
     ]
    }
   ],
   "source": [
    "# merging different sorted inputs into a sorted output\n",
    "for x in heapq.merge([1,3,1],[2,4,6]):\n",
    "    print(x)"
   ]
  },
  {
   "cell_type": "code",
   "execution_count": 56,
   "metadata": {},
   "outputs": [
    {
     "name": "stdout",
     "output_type": "stream",
     "text": [
      "[8, 7]\n",
      "[3, 4]\n"
     ]
    }
   ],
   "source": [
    "# 2 largest elements from the heap\n",
    "print(heapq.nlargest(2,lt))\n",
    "\n",
    "# 2 smallest elements from the heap\n",
    "print(heapq.nsmallest(2,lt))"
   ]
  },
  {
   "cell_type": "code",
   "execution_count": 6,
   "metadata": {},
   "outputs": [
    {
     "name": "stdout",
     "output_type": "stream",
     "text": [
      "Test passed\n"
     ]
    }
   ],
   "source": [
    "# custom implementation of Heap using class\n",
    "# script for heapify property - max heap\n",
    "class Heapify(object):\n",
    "    def __init__(self,data=None):\n",
    "        self.data = data or []\n",
    "        for i in range(len(self.data)//2,-1,-1):\n",
    "            self.__max_heapify__(i)\n",
    "    \n",
    "    def __repr__(self):\n",
    "        return '{}'.format(self.data)\n",
    "    \n",
    "    def parent(self,i):\n",
    "        return i >> 1\n",
    "    \n",
    "    def left_child(self,i):\n",
    "        return (i << 1) + 1\n",
    "    \n",
    "    def right_child(self,i):\n",
    "        return (i << 1) + 2\n",
    "    \n",
    "    def __max_heapify__(self,i):\n",
    "        largest = i\n",
    "        left = self.left_child(i)\n",
    "        right = self.right_child(i)\n",
    "        n = len(self.data)    # finding length of heap(list)\n",
    "        \n",
    "        # largest from left\n",
    "        largest = (left < n and self.data[left] > self.data[i]) and left or i\n",
    "        \n",
    "        # largest from right\n",
    "        largest = (right < n and self.data[right] > self.data[largest]) and right or largest\n",
    "        \n",
    "        if i is not largest:\n",
    "            self.data[i], self.data[largest] = self.data[largest], self.data[i]\n",
    "            self.__max_heapify__(i)\n",
    "            \n",
    "    def extract_max(self):\n",
    "        n = len(self.data)\n",
    "        max_element = self.data[0]\n",
    "        self.data[0] = self.data[n-1]\n",
    "        self.data =  self.data[:n-1]\n",
    "        self.__max_heapify__(0)\n",
    "        return max_element\n",
    "    \n",
    "def test_heapify():\n",
    "    lt = [3, 2, 5, 1, 7, 8, 2]\n",
    "    h = Heapify(lt)\n",
    "    assert (h.extract_max()==8)\n",
    "    print('Test passed')\n",
    "    \n",
    "if __name__=='__main__':\n",
    "    test_heapify()\n",
    "    "
   ]
  },
  {
   "cell_type": "code",
   "execution_count": 14,
   "metadata": {},
   "outputs": [
    {
     "name": "stdout",
     "output_type": "stream",
     "text": [
      "*******************Test passed********************\n"
     ]
    }
   ],
   "source": [
    "# class for priority queue\n",
    "import heapq\n",
    "\n",
    "class PriorityQueue(object):\n",
    "    def __init__(self):\n",
    "        self._queue = []\n",
    "        self._index = 0\n",
    "        \n",
    "    def push(self,item,priority):\n",
    "        heapq.heappush(self._queue,(-priority,self._index,item))\n",
    "        self._index +=1\n",
    "\n",
    "        \n",
    "    def pop(self):\n",
    "        return heapq.heappop(self._queue)[-1]\n",
    "\n",
    "class Item:\n",
    "    def __init__(self,name):\n",
    "        self.name=name\n",
    "    \n",
    "    def __repr__(self):\n",
    "        return 'Item({!r})'.format(self.name)\n",
    "    \n",
    "        \n",
    "    \n",
    "def test():\n",
    "    q = PriorityQueue()\n",
    "    q.push(Item('test1'), 1)\n",
    "    q.push(Item('test2'), 4)\n",
    "    q.push(Item('test3'), 3)\n",
    "    assert(str(q.pop()) == \"Item('test2')\")\n",
    "    print('Test passed'.center(50,'*'))\n",
    "\n",
    "\n",
    "if __name__=='__main__':\n",
    "    test()\n",
    "                "
   ]
  },
  {
   "cell_type": "markdown",
   "metadata": {},
   "source": [
    "## Linked List\n",
    "A linked list is like a stack (elements added to the head) or queue(elements added to the tail) except we can peak elements at O(1) efficiency. In general, a linked list is simply a linear list of nodes containing a value and a pointer (last node has Null(None as pointer in python)."
   ]
  },
  {
   "cell_type": "code",
   "execution_count": 20,
   "metadata": {},
   "outputs": [
    {
     "name": "stdout",
     "output_type": "stream",
     "text": [
      "a\n",
      "b\n",
      "aa\n",
      "e\n"
     ]
    }
   ],
   "source": [
    "class Node(object):\n",
    "    def __init__(self,value=None,pointer=None):\n",
    "        self.value = value\n",
    "        self.pointer = pointer\n",
    "        \n",
    "    def getData(self):\n",
    "        return self.value\n",
    "    \n",
    "    def getNext(self):\n",
    "        return self.pointer\n",
    "    \n",
    "    def setData(self, newdata):\n",
    "        self.value = newdata\n",
    "    \n",
    "    def setNext(self, newpointer):\n",
    "        self.pointer = newpointer\n",
    "    \n",
    "\n",
    "if __name__=='__main__':\n",
    "    node = Node(\"a\",Node(\"b\",Node(\"c\",Node(\"d\"))))\n",
    "    assert node.pointer.pointer.value==\"c\"\n",
    "    \n",
    "    print(node.getData())\n",
    "    print(node.getNext().getData())\n",
    "    node.setData('aa')\n",
    "    node.setNext(Node(\"e\"))\n",
    "    print(node.getData())\n",
    "    print(node.getNext().getData())"
   ]
  },
  {
   "cell_type": "code",
   "execution_count": 21,
   "metadata": {},
   "outputs": [
    {
     "name": "stdout",
     "output_type": "stream",
     "text": [
      "The list is:\n",
      "4\n",
      "3\n",
      "2\n",
      "1\n",
      "The list after deleting node with index 2:\n",
      "4\n",
      "3\n",
      "1\n",
      "The list after deleting node with value 3:\n",
      "4\n",
      "1\n",
      "The list after adding node with value 15\n",
      "15\n",
      "4\n",
      "1\n",
      "The list after deleting everything...\n"
     ]
    }
   ],
   "source": [
    "# implementing unordered linked list - LIFO linked list like a stack\n",
    "class Node(object):\n",
    "    def __init__(self,value=None,pointer=None):\n",
    "        self.value = value\n",
    "        self.pointer = pointer\n",
    "\n",
    "class LifoLinkedList(object):\n",
    "    def __init__(self):\n",
    "        self.head = None\n",
    "        self.length = 0\n",
    "        \n",
    "    def _printList(self):\n",
    "        node = self.head\n",
    "        while node:\n",
    "            print(node.value)\n",
    "            node = node.pointer\n",
    "    \n",
    "    # delete node given previous node\n",
    "    def _delete(self,prev,node):\n",
    "        self.length -= 1\n",
    "        if not prev:\n",
    "            self.head = node.pointer\n",
    "        else:\n",
    "            prev.pointer = node.pointer\n",
    "    \n",
    "    def _add(self, value):\n",
    "        self.length +=1\n",
    "        self.head = Node(value,self.head)\n",
    "    \n",
    "    # finding node by index\n",
    "    def _find(self,index):\n",
    "        prev = None\n",
    "        node = self.head\n",
    "        i = 0\n",
    "        while node and i < index:\n",
    "            prev = node\n",
    "            node = node.pointer\n",
    "            i+=1\n",
    "        \n",
    "        return node, prev, i\n",
    "    \n",
    "    \n",
    "    # finding node by value\n",
    "    def _find_by_value(self,value):\n",
    "        prev = None\n",
    "        node = self.head\n",
    "        found = False\n",
    "        \n",
    "        while node and not found:\n",
    "            if node.value==value:\n",
    "                found = True\n",
    "            else:\n",
    "                prev = node\n",
    "                node = node.pointer\n",
    "        \n",
    "        return node, prev, found\n",
    "    \n",
    "    # find and delete node by index\n",
    "    def _delete_by_index(self,index):\n",
    "        node, prev, i = self._find(index)\n",
    "        if index == i:\n",
    "            self._delete(prev, node)\n",
    "        else:\n",
    "            print('Node with index {} not found'.format(index))\n",
    "    \n",
    "    # find and delete node by value\n",
    "    def _delete_by_value(self, value):\n",
    "        node, prev, found = self._find_by_value(value)\n",
    "        if found:\n",
    "            self._delete(prev, node)\n",
    "        else:\n",
    "            print('Node with value {} not found'.format(value))\n",
    "    \n",
    "if __name__ == \"__main__\":\n",
    "    ll = LifoLinkedList()\n",
    "    for i in range(1, 5):\n",
    "        ll._add(i)\n",
    "    print(\"The list is:\")\n",
    "    ll._printList()\n",
    "    print(\"The list after deleting node with index 2:\")\n",
    "    ll._delete_by_index(2)\n",
    "    ll._printList()\n",
    "    print(\"The list after deleting node with value 3:\")\n",
    "    ll._delete_by_value(3)\n",
    "    ll._printList()\n",
    "    print(\"The list after adding node with value 15\")\n",
    "    ll._add(15)\n",
    "    ll._printList()\n",
    "    print(\"The list after deleting everything...\")\n",
    "    for i in range(ll.length-1, -1, -1):\n",
    "        ll._delete_by_index(i)\n",
    "    ll._printList()    "
   ]
  },
  {
   "cell_type": "code",
   "execution_count": 25,
   "metadata": {},
   "outputs": [
    {
     "ename": "IndentationError",
     "evalue": "expected an indented block (<ipython-input-25-88adb17ee4c3>, line 21)",
     "output_type": "error",
     "traceback": [
      "\u001b[0;36m  File \u001b[0;32m\"<ipython-input-25-88adb17ee4c3>\"\u001b[0;36m, line \u001b[0;32m21\u001b[0m\n\u001b[0;31m    \u001b[0m\n\u001b[0m    ^\u001b[0m\n\u001b[0;31mIndentationError\u001b[0m\u001b[0;31m:\u001b[0m expected an indented block\n"
     ]
    }
   ],
   "source": [
    "# implementation of linked list with class in FIFO order (queue)\n",
    "class Node(object):\n",
    "    def __init__(self,value=None,pointer=None):\n",
    "        self.value = value\n",
    "        self.pointer = pointer\n",
    "\n",
    "class FifoLinkedList(object):\n",
    "    def __init__(self):\n",
    "        self.head = None\n",
    "        self.length = 0\n",
    "        self.tail = None\n",
    "        \n",
    "    # printing each element of linked list\n",
    "    def _printList(self):\n",
    "        node = self.head\n",
    "        while node:\n",
    "            print(node.value)\n",
    "            node = node.pointer\n",
    "    \n",
    "    def _addFirst(self,value):\n",
    "        self.length = 1\n",
    "        node = Node(value)\n",
    "        self.head = node\n",
    "        self.tail = node\n",
    "    \n",
    "    def _deleteFirst(self):\n",
    "        self.length = 0\n",
    "        self.head = None\n",
    "        self.tail = None\n",
    "        print('The list is empty')\n",
    "    \n",
    "    # adding at the end of tail\n",
    "    def _add(self,value):\n",
    "        self.length+=1\n",
    "        node = Node(value)\n",
    "        while self.tail:\n",
    "            self.tail.pointer = node\n",
    "        self.tail = node\n",
    "        \n",
    "    # add nodes in general\n",
    "    def addNode(self,value):\n",
    "        if not self.head:\n",
    "            self._addFirst(value)\n",
    "        else:\n",
    "            self._add(value)\n",
    "    \n",
    "    \n",
    "            "
   ]
  },
  {
   "cell_type": "code",
   "execution_count": null,
   "metadata": {},
   "outputs": [],
   "source": []
  },
  {
   "cell_type": "code",
   "execution_count": null,
   "metadata": {},
   "outputs": [],
   "source": []
  },
  {
   "cell_type": "code",
   "execution_count": null,
   "metadata": {},
   "outputs": [],
   "source": []
  },
  {
   "cell_type": "code",
   "execution_count": null,
   "metadata": {},
   "outputs": [],
   "source": []
  }
 ],
 "metadata": {
  "kernelspec": {
   "display_name": "Python 2",
   "language": "python",
   "name": "python2"
  },
  "language_info": {
   "codemirror_mode": {
    "name": "ipython",
    "version": 2
   },
   "file_extension": ".py",
   "mimetype": "text/x-python",
   "name": "python",
   "nbconvert_exporter": "python",
   "pygments_lexer": "ipython2",
   "version": "2.7.15rc1"
  }
 },
 "nbformat": 4,
 "nbformat_minor": 2
}
