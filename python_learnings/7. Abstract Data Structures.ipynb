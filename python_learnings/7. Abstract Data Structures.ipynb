{
 "cells": [
  {
   "cell_type": "markdown",
   "metadata": {},
   "source": [
    "An Abstract Data Type(ADT) is a mathematical model for a certain class of data structures that show similar behaviour. These can be of two types:\n",
    "* **contiguous** : based on arrays - list, dictionary, strings, tuples etc.\n",
    "* **linked** - based on pointers - several chunks of memory bounded or linked together"
   ]
  },
  {
   "cell_type": "markdown",
   "metadata": {},
   "source": [
    "## Stacks\n",
    "They are examples of LIFO(last in first out) structure. Element can be accessed only from one end. Stacks are suitable for depth first traversel in graphs.\n",
    "___\n",
    "\n",
    "Elements running at **O(1)** efficiency:\n",
    "* **pop**: Remove top element from the stack\n",
    "* **push**: Add element on top of stack\n",
    "* **top/peak**: Look at top most element of stack\n",
    "* **empty/size**: Check whether stack is empty or return it's size"
   ]
  },
  {
   "cell_type": "code",
   "execution_count": 2,
   "metadata": {},
   "outputs": [
    {
     "name": "stdout",
     "output_type": "stream",
     "text": [
      "('Is the stack empty? ', True)\n",
      "Adding 0 to 10 in the stack...\n",
      "('Stack size: ', 10)\n",
      "('Stack peek : ', 9)\n",
      "('Pop...', 9)\n",
      "('Stack peek: ', 8)\n",
      "('Is the stack empty? ', False)\n",
      "[0, 1, 2, 3, 4, 5, 6, 7, 8]\n"
     ]
    }
   ],
   "source": [
    "# Stack implementation using list\n",
    "\n",
    "class Stack():\n",
    "    \n",
    "    def __init__(self):\n",
    "        self.items=[]\n",
    "    \n",
    "    def isEmpty(self):\n",
    "        return not bool(len(self.items))\n",
    "    \n",
    "    def push(self,value):\n",
    "        self.items.append(value)\n",
    "        \n",
    "    def pop(self):\n",
    "        value = self.items.pop()\n",
    "        if value:\n",
    "            return value\n",
    "        else:\n",
    "            print('Stack is empty')\n",
    "    \n",
    "    def size(self):\n",
    "        return len(self.items)\n",
    "    \n",
    "    def peek(self):\n",
    "        if len(self.items):\n",
    "            return self.items[-1]\n",
    "        else:\n",
    "            print('Stack is empty')\n",
    "            \n",
    "    def __repr__(self):\n",
    "        return '{}'.format(self.items)\n",
    "    \n",
    "\n",
    "if __name__=='__main__':\n",
    "    stack = Stack()\n",
    "    print(\"Is the stack empty? \", stack.isEmpty())\n",
    "    print(\"Adding 0 to 10 in the stack...\")\n",
    "    for i in range(10):\n",
    "        stack.push(i)\n",
    "    print(\"Stack size: \", stack.size())\n",
    "    print(\"Stack peek : \", stack.peek())\n",
    "    print(\"Pop...\", stack.pop())\n",
    "    print(\"Stack peek: \", stack.peek())\n",
    "    print(\"Is the stack empty? \", stack.isEmpty())\n",
    "    print(stack)        "
   ]
  },
  {
   "cell_type": "code",
   "execution_count": 6,
   "metadata": {},
   "outputs": [
    {
     "name": "stdout",
     "output_type": "stream",
     "text": [
      "('Is the stack empty? ', True)\n",
      "Adding 0 to 10 in the stack...\n",
      "9\n",
      "8\n",
      "7\n",
      "6\n",
      "5\n",
      "4\n",
      "3\n",
      "2\n",
      "1\n",
      "0\n",
      "('Stack size: ', 10)\n",
      "('Stack peek : ', 9)\n",
      "('Pop...', 9)\n",
      "('Stack peek: ', 8)\n",
      "('Is the stack empty? ', False)\n",
      "8\n",
      "7\n",
      "6\n",
      "5\n",
      "4\n",
      "3\n",
      "2\n",
      "1\n",
      "0\n"
     ]
    }
   ],
   "source": [
    "# stack implementation using linked list\n",
    "class Node(object):\n",
    "    def __init__(self,value=None,pointer=None):\n",
    "        self.value = value\n",
    "        self.pointer = pointer\n",
    "        \n",
    "class Stack(object):\n",
    "    def __init__(self):\n",
    "        self.head = None\n",
    "        \n",
    "    def isEmpty(self):\n",
    "        return not bool(self.head)\n",
    "    \n",
    "    def push(self, item):\n",
    "        self.head = Node(item,self.head)\n",
    "        \n",
    "    def pop(self):\n",
    "        if self.head:\n",
    "            node = self.head\n",
    "            self.head = node.pointer\n",
    "            return node.value\n",
    "        else:\n",
    "            print('Stack is empty')\n",
    "        \n",
    "    def peek(self):\n",
    "        if self.head :\n",
    "            return self.head.value\n",
    "        else:\n",
    "            print('Stack is empty')\n",
    "            \n",
    "    def size(self):\n",
    "        count = 0\n",
    "        node  = self.head\n",
    "        while node:\n",
    "            count+=1\n",
    "            node  = node.pointer\n",
    "        return count\n",
    "    \n",
    "    def _printList(self):\n",
    "        node = self.head\n",
    "        while node:\n",
    "            print(node.value)\n",
    "            node = node.pointer\n",
    "            \n",
    "if __name__ == \"__main__\":\n",
    "    stack = Stack()\n",
    "    print(\"Is the stack empty? \", stack.isEmpty())\n",
    "    print(\"Adding 0 to 10 in the stack...\")\n",
    "    for i in range(10):\n",
    "        stack.push(i)\n",
    "    stack._printList()\n",
    "    print(\"Stack size: \", stack.size())\n",
    "    print(\"Stack peek : \", stack.peek())\n",
    "    print(\"Pop...\", stack.pop())\n",
    "    print(\"Stack peek: \", stack.peek())\n",
    "    print(\"Is the stack empty? \", stack.isEmpty())\n",
    "    stack._printList()"
   ]
  },
  {
   "cell_type": "markdown",
   "metadata": {},
   "source": [
    "## Queues"
   ]
  },
  {
   "cell_type": "code",
   "execution_count": null,
   "metadata": {},
   "outputs": [],
   "source": []
  },
  {
   "cell_type": "code",
   "execution_count": null,
   "metadata": {},
   "outputs": [],
   "source": []
  },
  {
   "cell_type": "code",
   "execution_count": null,
   "metadata": {},
   "outputs": [],
   "source": []
  }
 ],
 "metadata": {
  "kernelspec": {
   "display_name": "Python 2",
   "language": "python",
   "name": "python2"
  },
  "language_info": {
   "codemirror_mode": {
    "name": "ipython",
    "version": 2
   },
   "file_extension": ".py",
   "mimetype": "text/x-python",
   "name": "python",
   "nbconvert_exporter": "python",
   "pygments_lexer": "ipython2",
   "version": "2.7.15rc1"
  }
 },
 "nbformat": 4,
 "nbformat_minor": 2
}
