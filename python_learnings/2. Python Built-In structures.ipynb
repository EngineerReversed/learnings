{
 "cells": [
  {
   "cell_type": "markdown",
   "metadata": {},
   "source": [
    "# Built-In sequences\n",
    "Python has 5 built-in sequence types:\n",
    "* Strings : *Immutable*\n",
    "* Tuples : *Immutable*\n",
    "* Lists : *Mutable*\n",
    "* Byte arrays : *Mutable*\n",
    "* Bytes : *Immutable*"
   ]
  },
  {
   "cell_type": "code",
   "execution_count": 1,
   "metadata": {},
   "outputs": [
    {
     "name": "stdout",
     "output_type": "stream",
     "text": [
      "<type 'list'>\n",
      "<type 'str'>\n",
      "<type 'tuple'>\n",
      "<type 'bytearray'>\n",
      "<type 'str'>\n"
     ]
    }
   ],
   "source": [
    "# python in built sequence datatypes\n",
    "l = []\n",
    "s = ''\n",
    "t = ()\n",
    "ba = bytearray(b'')\n",
    "b = bytes([])\n",
    "print(type(l))\n",
    "print(type(s))\n",
    "print(type(t))\n",
    "print(type(ba))\n",
    "print(type(b))    # only for python 3.x"
   ]
  },
  {
   "cell_type": "code",
   "execution_count": 2,
   "metadata": {},
   "outputs": [
    {
     "name": "stdout",
     "output_type": "stream",
     "text": [
      "set(['people', 'dingdong', 'tomey'])\n",
      "set(['tomey', 'dingdong', 'people'])\n",
      "set(['people', 'dingdong', 'tomey'])\n",
      "set(['people', 'tomey'])\n",
      "set(['dingdong'])\n",
      "set(['people', 'tomey'])\n"
     ]
    }
   ],
   "source": [
    "# Immutable objects in python\n",
    "# there are collection data types (sets and dictionaries) which are accessed via immutables datatypes\n",
    "# Concept of deep copying!\n",
    "myList = {'people','tomey','dingdong'}\n",
    "slayers = myList.copy()    # it creates a new copy\n",
    "slayers1 = myList    # it creates a new reference\n",
    "print(myList)\n",
    "print(slayers)\n",
    "print(slayers1)\n",
    "slayers.discard('people')\n",
    "slayers.remove('tomey')\n",
    "slayers1.discard('dingdong')\n",
    "print(myList)\n",
    "print(slayers)\n",
    "print(slayers1)\n",
    "\n",
    "import copy\n",
    "m = copy.copy(slayers)\n",
    "n = copy.deepcopy(slayers)\n"
   ]
  },
  {
   "cell_type": "markdown",
   "metadata": {},
   "source": [
    "# Python Strings\n",
    "Every python object has two output forms :\n",
    "* String form - readable by humans\n",
    "* Representational form -  readable by python interpretor\n"
   ]
  },
  {
   "cell_type": "code",
   "execution_count": 3,
   "metadata": {},
   "outputs": [
    {
     "name": "stdout",
     "output_type": "stream",
     "text": [
      "Yo Bro !\n"
     ]
    }
   ],
   "source": [
    "# Unicode strings\n",
    "# here space is represented by u0020 Unicode - 16 bits\n",
    "# ASCII code takes 8 bits to represent\n",
    "\n",
    "print(u'Yo\\u0020Bro !')\n"
   ]
  },
  {
   "cell_type": "code",
   "execution_count": 4,
   "metadata": {},
   "outputs": [
    {
     "name": "stdout",
     "output_type": "stream",
     "text": [
      "Abhishek Karunesh Arpit\n",
      "Abhishek-<>-Karunesh-<>-Arpit\n",
      "Arpit__|__Karunesh__|__Abhishek\n"
     ]
    }
   ],
   "source": [
    "# Methods for strings\n",
    "# using join is better than using + to concatenate a list\n",
    "list_of_names = ['Abhishek','Karunesh','Arpit']\n",
    "print(' '.join(list_of_names))    # join method\n",
    "print('-<>-'.join(list_of_names))\n",
    "print('__|__'.join(reversed(list_of_names)))    # reverse method\n"
   ]
  },
  {
   "cell_type": "code",
   "execution_count": 5,
   "metadata": {},
   "outputs": [
    {
     "name": "stdout",
     "output_type": "stream",
     "text": [
      "-----------------------------------Abhishek Shakya\n",
      "Abhishek Shakya-----------------------------------\n"
     ]
    }
   ],
   "source": [
    "# rjust and ljust methods\n",
    "name = 'Abhishek Shakya'\n",
    "print(name.rjust(50,'-'))    # adding at the end\n",
    "print(name.ljust(50,'-'))    # adding at the start\n"
   ]
  },
  {
   "cell_type": "code",
   "execution_count": 6,
   "metadata": {},
   "outputs": [
    {
     "name": "stdout",
     "output_type": "stream",
     "text": [
      "I am the one, No I am not!\n",
      "Number 999 is a good abhishek\n"
     ]
    }
   ],
   "source": [
    "# format method\n",
    "# strings can be formatted\n",
    "print('{0}, {1}').format('I am the one','No I am not!')\n",
    "\n",
    "# string mapping or unmapping\n",
    "# the idea is to combine local() method with format resulting in a key-value list suitable for passing to a function\n",
    "number = 999\n",
    "string = 'abhishek'\n",
    "print('Number {number} is a good {string}'.format(**locals()))\n"
   ]
  },
  {
   "cell_type": "code",
   "execution_count": 7,
   "metadata": {},
   "outputs": [
    {
     "name": "stdout",
     "output_type": "stream",
     "text": [
      "['abhishek shakya', 'ding dong', 'hello hello', 'somebody in there']\n",
      "['abhishek shakya', 'ding dong', 'hello hello\\nsomebody in there']\n",
      "['abhishek', 'shakya\\nding', 'dong\\nhello', 'hello\\nsomebody', 'in', 'there']\n",
      "['abhishek', 'shakya\\nding', 'dong\\nhello', 'hello\\nsomebody', 'in', 'there']\n"
     ]
    }
   ],
   "source": [
    "# splitlines function in python\n",
    "random_string = 'abhishek shakya\\nding dong\\nhello hello\\nsomebody in there'\n",
    "print(random_string.splitlines())\n",
    "\n",
    "# using split\n",
    "print(random_string.split('\\n',2))    #    split occured only 2 times\n",
    "print(random_string.split(' '))\n",
    "print(random_string.split(' '))"
   ]
  },
  {
   "cell_type": "code",
   "execution_count": 8,
   "metadata": {},
   "outputs": [
    {
     "name": "stdout",
     "output_type": "stream",
     "text": [
      "[['Abhishek' 'shakya']\n",
      " ['pulkit' 'shakya']]\n"
     ]
    }
   ],
   "source": [
    "# it requires a special condition that number of words or separable entitites should be same\n",
    "import numpy as np\n",
    "with open('random_text.txt','r') as txt:\n",
    "    text = np.genfromtxt(txt,dtype ='string')    # this is good for reading data in columnar structure like logs\n",
    "print(text)"
   ]
  },
  {
   "cell_type": "code",
   "execution_count": 9,
   "metadata": {},
   "outputs": [
    {
     "name": "stdout",
     "output_type": "stream",
     "text": [
      "['abhishek shakya\\nding dong\\nhello hello\\nsomebody', 'in', 'there']\n"
     ]
    }
   ],
   "source": [
    "# using rsplit function\n",
    "print(random_string.rsplit(' ',2))    # splitting from right"
   ]
  },
  {
   "cell_type": "code",
   "execution_count": 10,
   "metadata": {},
   "outputs": [
    {
     "name": "stdout",
     "output_type": "stream",
     "text": [
      "\n",
      "abhishek\n",
      "shakya\n",
      "\n"
     ]
    },
    {
     "data": {
      "text/plain": [
       "'abhishek\\nshakya'"
      ]
     },
     "execution_count": 10,
     "metadata": {},
     "output_type": "execute_result"
    }
   ],
   "source": [
    "# the strip chars method\n",
    "sample_string = '\\nabhishek\\nshakya\\n'\n",
    "print(sample_string)\n",
    "sample_string.strip('\\n')    # removes the trailing spaces from end or front\n"
   ]
  },
  {
   "cell_type": "code",
   "execution_count": 11,
   "metadata": {},
   "outputs": [
    {
     "name": "stdout",
     "output_type": "stream",
     "text": [
      "['Problem Statement\\n', 'Welcome to Gardenia - A country which believes in creating a harmony between technology and natural resources. Over the years, Gardenia has come up with ways to utilise natural resources effectively and they have enabled this with use of cutting edge technology.\\n', '\\xc2\\xa0\\n', 'The country takes pride in the way it has maintained its natural resources and Gardens. Now, the government of Gardenia wants to use data science to understand the health habits of their citizens. So, they started to capture several variables from various parks in the country.\\n', '\\xc2\\xa0\\n', 'They now have this data over a long period of time and are looking for experts like yourself to look at the data and tell, if you can predict how many people will come to a park on a particular day, given the environmental information.\\n', '\\xc2\\xa0\\n', 'Go, help the mayor of Gardenia! He has high hopes from Analytics Vidhya community! All the best!\\n', '\\n']\n"
     ]
    }
   ],
   "source": [
    "# reading text file\n",
    "with open('sample_text.txt','r') as text_object:\n",
    "    text = text_object.readlines()\n",
    "print(text)"
   ]
  },
  {
   "cell_type": "code",
   "execution_count": 12,
   "metadata": {},
   "outputs": [
    {
     "name": "stdout",
     "output_type": "stream",
     "text": [
      "['', 'all', 'help', 'over', 'its', 'information.', 'to', 'health', 'has', 'resources', 'resources.', 'government', 'gardens.', 'cutting', 'they', 'now', 'like', 'technology.', 'best!', 'country.', 'habits', 'people', 'analytics', 'are', 'for', 'ways', 'mayor', 'looking', 'day,', 'years,', 'between', 'various', 'creating', 'of', 'given', 'come', 'on', 'country', 'community!', 'variables', 'period', 'yourself', 'maintained', 'now,', 'use', 'from', 'takes', 'long', 'their', 'way', 'wants', 'statement', 'go,', 'started', 'park', 'so,', 'citizens.', 'environmental', 'understand', 'particular', 'hopes', 'with', 'he', 'pride', '\\xc2\\xa0', 'look', 'this', 'science', 'enabled', 'up', 'believes', 'will', 'can', 'many', 'problem', 'and', 'vidhya', 'predict', 'it', 'high', 'effectively', 'experts', 'at', 'have', 'in', 'technology', 'if', 'capture', 'gardenia!', '-', 'parks', 'how', 'harmony', 'which', 'you', 'several', 'tell,', 'utilise', 'gardenia', 'welcome', 'data', 'a', 'natural', 'edge', 'time', 'the']\n",
      "('', '-->', 1)\n",
      "('-', '-->', 1)\n",
      "('a', '-->', 5)\n",
      "('all', '-->', 1)\n",
      "('analytics', '-->', 1)\n",
      "('and', '-->', 5)\n",
      "('are', '-->', 1)\n",
      "('at', '-->', 1)\n",
      "('believes', '-->', 1)\n",
      "('best!', '-->', 1)\n",
      "('between', '-->', 1)\n",
      "('can', '-->', 1)\n",
      "('capture', '-->', 1)\n",
      "('citizens.', '-->', 1)\n",
      "('come', '-->', 2)\n",
      "('community!', '-->', 1)\n",
      "('country', '-->', 2)\n",
      "('country.', '-->', 1)\n",
      "('creating', '-->', 1)\n",
      "('cutting', '-->', 1)\n",
      "('data', '-->', 3)\n",
      "('day,', '-->', 1)\n",
      "('edge', '-->', 1)\n",
      "('effectively', '-->', 1)\n",
      "('enabled', '-->', 1)\n",
      "('environmental', '-->', 1)\n",
      "('experts', '-->', 1)\n",
      "('for', '-->', 1)\n",
      "('from', '-->', 2)\n",
      "('gardenia', '-->', 3)\n",
      "('gardenia!', '-->', 1)\n",
      "('gardens.', '-->', 1)\n",
      "('given', '-->', 1)\n",
      "('go,', '-->', 1)\n",
      "('government', '-->', 1)\n",
      "('habits', '-->', 1)\n",
      "('harmony', '-->', 1)\n",
      "('has', '-->', 3)\n",
      "('have', '-->', 2)\n",
      "('he', '-->', 1)\n",
      "('health', '-->', 1)\n",
      "('help', '-->', 1)\n",
      "('high', '-->', 1)\n",
      "('hopes', '-->', 1)\n",
      "('how', '-->', 1)\n",
      "('if', '-->', 1)\n",
      "('in', '-->', 3)\n",
      "('information.', '-->', 1)\n",
      "('it', '-->', 1)\n",
      "('its', '-->', 1)\n",
      "('like', '-->', 1)\n",
      "('long', '-->', 1)\n",
      "('look', '-->', 1)\n",
      "('looking', '-->', 1)\n",
      "('maintained', '-->', 1)\n",
      "('many', '-->', 1)\n",
      "('mayor', '-->', 1)\n",
      "('natural', '-->', 3)\n",
      "('now', '-->', 1)\n",
      "('now,', '-->', 1)\n",
      "('of', '-->', 5)\n",
      "('on', '-->', 1)\n",
      "('over', '-->', 2)\n",
      "('park', '-->', 1)\n",
      "('parks', '-->', 1)\n",
      "('particular', '-->', 1)\n",
      "('people', '-->', 1)\n",
      "('period', '-->', 1)\n",
      "('predict', '-->', 1)\n",
      "('pride', '-->', 1)\n",
      "('problem', '-->', 1)\n",
      "('resources', '-->', 2)\n",
      "('resources.', '-->', 1)\n",
      "('science', '-->', 1)\n",
      "('several', '-->', 1)\n",
      "('so,', '-->', 1)\n",
      "('started', '-->', 1)\n",
      "('statement', '-->', 1)\n",
      "('takes', '-->', 1)\n",
      "('technology', '-->', 1)\n",
      "('technology.', '-->', 1)\n",
      "('tell,', '-->', 1)\n",
      "('the', '-->', 10)\n",
      "('their', '-->', 1)\n",
      "('they', '-->', 3)\n",
      "('this', '-->', 2)\n",
      "('time', '-->', 1)\n",
      "('to', '-->', 7)\n",
      "('understand', '-->', 1)\n",
      "('up', '-->', 1)\n",
      "('use', '-->', 2)\n",
      "('utilise', '-->', 1)\n",
      "('variables', '-->', 1)\n",
      "('various', '-->', 1)\n",
      "('vidhya', '-->', 1)\n",
      "('wants', '-->', 1)\n",
      "('way', '-->', 1)\n",
      "('ways', '-->', 1)\n",
      "('welcome', '-->', 1)\n",
      "('which', '-->', 1)\n",
      "('will', '-->', 1)\n",
      "('with', '-->', 2)\n",
      "('years,', '-->', 1)\n",
      "('you', '-->', 1)\n",
      "('yourself', '-->', 1)\n",
      "('\\xc2\\xa0', '-->', 3)\n"
     ]
    }
   ],
   "source": [
    "# creating a tf-idf document using strip() function\n",
    "import string\n",
    "import sys\n",
    "\n",
    "word_dict = {}\n",
    "def count_unique_word(text):\n",
    "    for line in text:\n",
    "        words = line.lower().strip('\\n').split(' ')\n",
    "        for word in words:\n",
    "            if word not in word_dict:\n",
    "                word_dict[word] = 1\n",
    "            else:\n",
    "                word_dict[word] +=1\n",
    "    print(list(word_dict))    # printing every key(word) of dictionary \n",
    "    # sorted(word_dict) will give keys sorted in ascending order\n",
    "    for word in sorted(word_dict):\n",
    "        print(word,'-->',word_dict[word])\n",
    "\n",
    "\n",
    "if __name__=='__main__':\n",
    "    count_unique_word(text)"
   ]
  },
  {
   "cell_type": "code",
   "execution_count": 13,
   "metadata": {},
   "outputs": [
    {
     "name": "stdout",
     "output_type": "stream",
     "text": [
      "the: 10\n",
      "to: 7\n",
      "of: 5\n",
      "and: 5\n",
      "a: 5\n",
      "has: 3\n",
      "they: 3\n",
      " : 3\n",
      "in: 3\n",
      "gardenia: 3\n",
      "data: 3\n",
      "natural: 3\n",
      "over: 2\n",
      "resources: 2\n",
      "come: 2\n",
      "country: 2\n",
      "use: 2\n",
      "from: 2\n",
      "with: 2\n",
      "this: 2\n",
      "have: 2\n",
      ": 1\n",
      "all: 1\n",
      "help: 1\n",
      "its: 1\n",
      "information.: 1\n",
      "health: 1\n",
      "resources.: 1\n",
      "government: 1\n",
      "gardens.: 1\n",
      "cutting: 1\n",
      "now: 1\n",
      "like: 1\n",
      "technology.: 1\n",
      "best!: 1\n",
      "country.: 1\n",
      "habits: 1\n",
      "people: 1\n",
      "analytics: 1\n",
      "are: 1\n",
      "for: 1\n",
      "ways: 1\n",
      "mayor: 1\n",
      "looking: 1\n",
      "day,: 1\n",
      "years,: 1\n",
      "between: 1\n",
      "various: 1\n",
      "creating: 1\n",
      "given: 1\n",
      "on: 1\n",
      "community!: 1\n",
      "variables: 1\n",
      "period: 1\n",
      "yourself: 1\n",
      "maintained: 1\n",
      "now,: 1\n",
      "takes: 1\n",
      "long: 1\n",
      "their: 1\n",
      "way: 1\n",
      "wants: 1\n",
      "statement: 1\n",
      "go,: 1\n",
      "started: 1\n",
      "park: 1\n",
      "so,: 1\n",
      "citizens.: 1\n",
      "environmental: 1\n",
      "understand: 1\n",
      "particular: 1\n",
      "hopes: 1\n",
      "he: 1\n",
      "pride: 1\n",
      "look: 1\n",
      "science: 1\n",
      "enabled: 1\n",
      "up: 1\n",
      "believes: 1\n",
      "will: 1\n",
      "can: 1\n",
      "many: 1\n",
      "problem: 1\n",
      "vidhya: 1\n",
      "predict: 1\n",
      "it: 1\n",
      "high: 1\n",
      "effectively: 1\n",
      "experts: 1\n",
      "at: 1\n",
      "technology: 1\n",
      "if: 1\n",
      "capture: 1\n",
      "gardenia!: 1\n",
      "-: 1\n",
      "parks: 1\n",
      "how: 1\n",
      "harmony: 1\n",
      "which: 1\n",
      "you: 1\n",
      "several: 1\n",
      "tell,: 1\n",
      "utilise: 1\n",
      "welcome: 1\n",
      "edge: 1\n",
      "time: 1\n"
     ]
    }
   ],
   "source": [
    "import operator\n",
    "sorted_word = sorted(word_dict.items(),key = operator.itemgetter(1), reverse = True)\n",
    "for tup in sorted_word:\n",
    "    print('{}: {}'.format(tup[0],tup[1]))"
   ]
  },
  {
   "cell_type": "code",
   "execution_count": 14,
   "metadata": {},
   "outputs": [
    {
     "name": "stdout",
     "output_type": "stream",
     "text": [
      "all occurs 1 times\n",
      "analytics occurs 1 times\n",
      "and occurs 5 times\n",
      "are occurs 1 times\n",
      "believes occurs 1 times\n",
      "best occurs 1 times\n",
      "between occurs 1 times\n",
      "can occurs 1 times\n",
      "capture occurs 1 times\n",
      "citizens occurs 1 times\n",
      "come occurs 2 times\n",
      "community occurs 1 times\n",
      "country occurs 3 times\n",
      "creating occurs 1 times\n",
      "cutting occurs 1 times\n",
      "data occurs 3 times\n",
      "day occurs 1 times\n",
      "edge occurs 1 times\n",
      "effectively occurs 1 times\n",
      "enabled occurs 1 times\n",
      "environmental occurs 1 times\n",
      "experts occurs 1 times\n",
      "for occurs 1 times\n",
      "from occurs 2 times\n",
      "gardenia occurs 4 times\n",
      "gardens occurs 1 times\n",
      "given occurs 1 times\n",
      "government occurs 1 times\n",
      "habits occurs 1 times\n",
      "harmony occurs 1 times\n",
      "has occurs 3 times\n",
      "have occurs 2 times\n",
      "health occurs 1 times\n",
      "help occurs 1 times\n",
      "high occurs 1 times\n",
      "hopes occurs 1 times\n",
      "how occurs 1 times\n",
      "information occurs 1 times\n",
      "its occurs 1 times\n",
      "like occurs 1 times\n",
      "long occurs 1 times\n",
      "look occurs 1 times\n",
      "looking occurs 1 times\n",
      "maintained occurs 1 times\n",
      "many occurs 1 times\n",
      "mayor occurs 1 times\n",
      "natural occurs 3 times\n",
      "now occurs 2 times\n",
      "over occurs 2 times\n",
      "park occurs 1 times\n",
      "parks occurs 1 times\n",
      "particular occurs 1 times\n",
      "people occurs 1 times\n",
      "period occurs 1 times\n",
      "predict occurs 1 times\n",
      "pride occurs 1 times\n",
      "problem occurs 1 times\n",
      "resources occurs 3 times\n",
      "science occurs 1 times\n",
      "several occurs 1 times\n",
      "started occurs 1 times\n",
      "statement occurs 1 times\n",
      "takes occurs 1 times\n",
      "technology occurs 2 times\n",
      "tell occurs 1 times\n",
      "the occurs 10 times\n",
      "their occurs 1 times\n",
      "they occurs 3 times\n",
      "this occurs 2 times\n",
      "time occurs 1 times\n",
      "understand occurs 1 times\n",
      "use occurs 2 times\n",
      "utilise occurs 1 times\n",
      "variables occurs 1 times\n",
      "various occurs 1 times\n",
      "vidhya occurs 1 times\n",
      "wants occurs 1 times\n",
      "way occurs 1 times\n",
      "ways occurs 1 times\n",
      "welcome occurs 1 times\n",
      "which occurs 1 times\n",
      "will occurs 1 times\n",
      "with occurs 2 times\n",
      "years occurs 1 times\n",
      "you occurs 1 times\n",
      "yourself occurs 1 times\n"
     ]
    }
   ],
   "source": [
    "# earlier we found spaces and some punctuation marks interfering our counting process\n",
    "# so we would use some advanced techniques\n",
    "import sys\n",
    "import string\n",
    "\n",
    "def count_unique_word(text):\n",
    "    words = {}\n",
    "    # interseting way of marking up all punctuations, special symbols etc.\n",
    "    strip =  string.whitespace+string.punctuation+string.digits+'\\'\"'\n",
    "    for line in text:\n",
    "        for word in line.lower().split():\n",
    "            word = word.strip(strip)\n",
    "            if len(word)>2:\n",
    "                words[word] = words.get(word,0)+1\n",
    "    for word in sorted(words):\n",
    "        print('{0} occurs {1} times'.format(word,words[word]))\n",
    "if __name__=='__main__':\n",
    "    count_unique_word(text)"
   ]
  },
  {
   "cell_type": "code",
   "execution_count": 15,
   "metadata": {},
   "outputs": [
    {
     "name": "stdout",
     "output_type": "stream",
     "text": [
      "ABHISHEK SHAKYA\n",
      "DING DONG\n",
      "HELLO HELLO\n",
      "SOMEBODY IN THERE\n",
      "----------------------\n",
      "Abhishek shakya\n",
      "ding dong\n",
      "hello hello\n",
      "somebody in there\n",
      "----------------------\n",
      "abhishek shakya\n",
      "ding dong\n",
      "hello hello\n",
      "somebody in there\n",
      "----------------------\n",
      "ABHISHEK SHAKYA\n",
      "DING DONG\n",
      "HELLO HELLO\n",
      "SOMEBODY IN THERE\n"
     ]
    }
   ],
   "source": [
    "# swapcase characters method - swapping capital case with small case and vice-versa\n",
    "print(random_string.swapcase())\n",
    "print('----------------------')\n",
    "# capitalize\n",
    "print(random_string.capitalize())\n",
    "print('----------------------')\n",
    "# lower\n",
    "print(random_string.lower())\n",
    "print('----------------------')\n",
    "# upper\n",
    "print(random_string.upper())"
   ]
  },
  {
   "cell_type": "code",
   "execution_count": 16,
   "metadata": {},
   "outputs": [
    {
     "name": "stdout",
     "output_type": "stream",
     "text": [
      "9\n",
      "9\n",
      "-1\n"
     ]
    },
    {
     "ename": "ValueError",
     "evalue": "substring not found",
     "output_type": "error",
     "traceback": [
      "\u001b[0;31m---------------------------------------------------------------------------\u001b[0m",
      "\u001b[0;31mValueError\u001b[0m                                Traceback (most recent call last)",
      "\u001b[0;32m<ipython-input-16-766e092bcf38>\u001b[0m in \u001b[0;36m<module>\u001b[0;34m()\u001b[0m\n\u001b[1;32m      5\u001b[0m \u001b[0;31m# if string not found\u001b[0m\u001b[0;34m\u001b[0m\u001b[0;34m\u001b[0m\u001b[0m\n\u001b[1;32m      6\u001b[0m \u001b[0;32mprint\u001b[0m\u001b[0;34m(\u001b[0m\u001b[0mrandom_string\u001b[0m\u001b[0;34m.\u001b[0m\u001b[0mfind\u001b[0m\u001b[0;34m(\u001b[0m\u001b[0;34m'Yahoo'\u001b[0m\u001b[0;34m)\u001b[0m\u001b[0;34m)\u001b[0m    \u001b[0;31m# returns -1 if sub-string not found\u001b[0m\u001b[0;34m\u001b[0m\u001b[0m\n\u001b[0;32m----> 7\u001b[0;31m \u001b[0;32mprint\u001b[0m\u001b[0;34m(\u001b[0m\u001b[0mrandom_string\u001b[0m\u001b[0;34m.\u001b[0m\u001b[0mindex\u001b[0m\u001b[0;34m(\u001b[0m\u001b[0;34m'Yahoo'\u001b[0m\u001b[0;34m)\u001b[0m\u001b[0;34m)\u001b[0m    \u001b[0;31m# throws ValueError exception\u001b[0m\u001b[0;34m\u001b[0m\u001b[0m\n\u001b[0m",
      "\u001b[0;31mValueError\u001b[0m: substring not found"
     ]
    }
   ],
   "source": [
    "# index methods and find methods - there are rfind and rindex functions respectively\n",
    "print(random_string.find('shakya'))    # returns the first position of sub-string\n",
    "print(random_string.index('shakya'))    # returns the first position of sub-string\n",
    "\n",
    "# if string not found\n",
    "print(random_string.find('Yahoo'))    # returns -1 if sub-string not found\n",
    "print(random_string.index('Yahoo'))    # throws ValueError exception"
   ]
  },
  {
   "cell_type": "code",
   "execution_count": 17,
   "metadata": {},
   "outputs": [
    {
     "name": "stdout",
     "output_type": "stream",
     "text": [
      "2\n"
     ]
    }
   ],
   "source": [
    "# the count method - counting occurences of a string\n",
    "print(random_string.count('hello',0,-1))\n"
   ]
  },
  {
   "cell_type": "code",
   "execution_count": 18,
   "metadata": {},
   "outputs": [
    {
     "data": {
      "text/plain": [
       "'abhishek shakya\\nding dong\\nyo yo\\nsomebody in there'"
      ]
     },
     "execution_count": 18,
     "metadata": {},
     "output_type": "execute_result"
    }
   ],
   "source": [
    "# replace method in python\n",
    "random_string.replace('hello','yo')     # you can also mention the frequency here"
   ]
  },
  {
   "cell_type": "markdown",
   "metadata": {},
   "source": [
    "# Tuples\n",
    "*Immutable* datatype in python with values seperated by commas <br>\n",
    "**USP**: Strings have a character at every position however, tuple has a reference object at each position\n"
   ]
  },
  {
   "cell_type": "code",
   "execution_count": 19,
   "metadata": {},
   "outputs": [
    {
     "name": "stdout",
     "output_type": "stream",
     "text": [
      "<type 'tuple'>\n"
     ]
    }
   ],
   "source": [
    "just_a_tuple = 1,2,3,4,1    # can be defined without brackets\n",
    "print(type(just_a_tuple))"
   ]
  },
  {
   "cell_type": "code",
   "execution_count": 20,
   "metadata": {},
   "outputs": [
    {
     "name": "stdout",
     "output_type": "stream",
     "text": [
      "2\n",
      "0\n"
     ]
    }
   ],
   "source": [
    "# methods for tuples\n",
    "# counting frequency of a word in a tuple\n",
    "print(just_a_tuple.count(1))\n",
    "\n",
    "# return index of an element\n",
    "print(just_a_tuple.index(1))"
   ]
  },
  {
   "cell_type": "code",
   "execution_count": 21,
   "metadata": {},
   "outputs": [
    {
     "name": "stdout",
     "output_type": "stream",
     "text": [
      "20\n"
     ]
    }
   ],
   "source": [
    "# named tuples - they are inside COLLECTION package in python\n",
    "# they can be used like dictionaries and store data in tabular form like csv\n",
    "import collections\n",
    "BigTouple = collections.namedtuple('Food',['name', 'weight', 'price'])\n",
    "BigTouple_row = BigTouple('carrot','50','20')\n",
    "print(BigTouple_row.price)"
   ]
  },
  {
   "cell_type": "code",
   "execution_count": 22,
   "metadata": {},
   "outputs": [
    {
     "name": "stdout",
     "output_type": "stream",
     "text": [
      "-1\n",
      "1\n"
     ]
    }
   ],
   "source": [
    "# get() gives the value given key as input and if not found, returns the given output\n",
    "words = {'abhishek':1,'pulkit':2}\n",
    "print(words.get('donnno',-1))\n",
    "print(words.get('abhishek',-1))"
   ]
  },
  {
   "cell_type": "markdown",
   "metadata": {},
   "source": [
    "# Lists\n",
    "Lists are dynamically resizing array and are different from linked lists. They are mutable (unlike strings)."
   ]
  },
  {
   "cell_type": "code",
   "execution_count": 67,
   "metadata": {},
   "outputs": [
    {
     "name": "stdout",
     "output_type": "stream",
     "text": [
      "[1, 2, 'abhishek', 'shirley', True, ['dhinchak', False]]\n"
     ]
    }
   ],
   "source": [
    "a = [1,2,'abhishek','shirley',True]\n",
    "b = ['dhinchak',False]\n",
    "a.append(b)\n",
    "print(a)    # here appending a list to a list makes it nested"
   ]
  },
  {
   "cell_type": "code",
   "execution_count": 68,
   "metadata": {},
   "outputs": [
    {
     "name": "stdout",
     "output_type": "stream",
     "text": [
      "[1, 2, 4, 'abhishek', 'pulkit']\n"
     ]
    }
   ],
   "source": [
    "c = [1,2,4]\n",
    "d = ['abhishek','pulkit']\n",
    "c.extend(d)    # it appends everything to a list which are iterable (characters of a string)\n",
    "print(c)    # here extending adds elements of one list to another list"
   ]
  },
  {
   "cell_type": "code",
   "execution_count": 69,
   "metadata": {},
   "outputs": [
    {
     "name": "stdout",
     "output_type": "stream",
     "text": [
      "[2, 4, 'abhishek']\n"
     ]
    }
   ],
   "source": [
    "# pop and remove for removing things from list\n",
    "c.pop()\n",
    "c.remove(1)\n",
    "print(c)"
   ]
  },
  {
   "cell_type": "code",
   "execution_count": 70,
   "metadata": {},
   "outputs": [
    {
     "name": "stdout",
     "output_type": "stream",
     "text": [
      "[2, 4, 'abhishek', 'm', 'u', 'm', 'm', 'y']\n"
     ]
    }
   ],
   "source": [
    "c+='mummy'    # can add items to a list like this as well\n",
    "print(c)"
   ]
  },
  {
   "cell_type": "code",
   "execution_count": 71,
   "metadata": {},
   "outputs": [
    {
     "name": "stdout",
     "output_type": "stream",
     "text": [
      "[2, 4, 'papa', 'abhishek', 'm', 'u', 'm', 'm', 'y']\n"
     ]
    }
   ],
   "source": [
    "# inserting items to a list to a specified position\n",
    "c.insert(2, 'papa')\n",
    "print(c)"
   ]
  },
  {
   "cell_type": "code",
   "execution_count": 72,
   "metadata": {},
   "outputs": [
    {
     "name": "stdout",
     "output_type": "stream",
     "text": [
      "[2, 4, 'abhishek', 'm', 'u', 'm', 'm', 'y']\n"
     ]
    }
   ],
   "source": [
    "c.pop(2)    # removing an item from the list\n",
    "print(c)"
   ]
  },
  {
   "cell_type": "markdown",
   "metadata": {},
   "source": [
    "## Garbage Collection\n",
    "It's a memory occupied by objects which are no longer referenced and garbage collection is a form of automatic memory management freeing the memory occupied by garbage."
   ]
  },
  {
   "cell_type": "code",
   "execution_count": 73,
   "metadata": {},
   "outputs": [
    {
     "name": "stdout",
     "output_type": "stream",
     "text": [
      "[4, 'abhishek', 'm', 'u', 'm', 'm', 'y']\n"
     ]
    }
   ],
   "source": [
    "# removes object reference and deleted object is referred to as garbage-collected\n",
    "del c[0]\n",
    "print(c)"
   ]
  },
  {
   "cell_type": "code",
   "execution_count": 74,
   "metadata": {},
   "outputs": [
    {
     "name": "stdout",
     "output_type": "stream",
     "text": [
      "3\n",
      "6\n"
     ]
    }
   ],
   "source": [
    "print(c.count('m'))\n",
    "print(c.index('y'))"
   ]
  },
  {
   "cell_type": "code",
   "execution_count": 77,
   "metadata": {},
   "outputs": [
    {
     "name": "stdout",
     "output_type": "stream",
     "text": [
      "[4, 'abhishek', 'm', 'm', 'm', 'u', 'y']\n",
      "['y', 'u', 'm', 'm', 'm', 'abhishek', 4]\n",
      "[4, 'abhishek', 'm', 'm', 'm', 'u', 'y']\n"
     ]
    }
   ],
   "source": [
    "c.sort()\n",
    "print(c)\n",
    "c.sort(reverse=True)\n",
    "print(c)\n",
    "c.reverse()\n",
    "print(c)"
   ]
  },
  {
   "cell_type": "code",
   "execution_count": 88,
   "metadata": {},
   "outputs": [
    {
     "name": "stdout",
     "output_type": "stream",
     "text": [
      "6\n",
      "8\n"
     ]
    }
   ],
   "source": [
    "# list unpacking\n",
    "def list_unpacking(a,b,c):\n",
    "    return a+b+c\n",
    "lt = [2,3,4]\n",
    "print(list_unpacking(1,2,3))\n",
    "print(list_unpacking(1,*lt[1:]))    # starred arguments\n"
   ]
  },
  {
   "cell_type": "code",
   "execution_count": 106,
   "metadata": {},
   "outputs": [
    {
     "name": "stdout",
     "output_type": "stream",
     "text": [
      "[1804, 1808, 1812, 1816, 1820, 1824, 1828, 1832, 1836, 1840, 1844, 1848, 1852, 1856, 1860, 1864, 1868, 1872, 1876, 1880, 1884, 1888, 1892, 1896, 1904, 1908, 1912, 1916, 1920, 1924, 1928, 1932, 1936, 1940, 1944, 1948, 1952, 1956, 1960, 1964, 1968, 1972, 1976, 1980, 1984, 1988, 1992, 1996, 2000]\n"
     ]
    }
   ],
   "source": [
    "# List comprehensions\n",
    "# should only be used for one line cases\n",
    "a = [year for year in range(1800,2004) if year%400==0 or (year%4==0 and year%100!=0)]\n",
    "print(a)"
   ]
  },
  {
   "cell_type": "code",
   "execution_count": 113,
   "metadata": {},
   "outputs": [
    {
     "name": "stdout",
     "output_type": "stream",
     "text": [
      "('concat ', 1.5946428775787354, 'milliseconds')\n",
      "('append ', 0.08633708953857422, 'milliseconds')\n",
      "('comprehension ', 0.03551793098449707, 'milliseconds')\n",
      "('list range ', 0.011151790618896484, 'milliseconds')\n"
     ]
    }
   ],
   "source": [
    "# Runtime analysis of Python lists\n",
    "\n",
    "def test_1():\n",
    "    l = []\n",
    "    for i in range(1000):\n",
    "        l=l+[i]\n",
    "\n",
    "def test_2():\n",
    "    l = []\n",
    "    for i in range(1000):\n",
    "        l.append(i)\n",
    "\n",
    "def test_3():\n",
    "    l = [i for i in range(1000)]\n",
    "\n",
    "def test_4():\n",
    "    l = list(range(1000))\n",
    "    \n",
    "if __name__=='__main__':\n",
    "    import timeit\n",
    "    t1 = timeit.Timer('test_1()','from __main__ import test_1')\n",
    "    print('concat ',t1.timeit(number =1000),'milliseconds')\n",
    "    t2 = timeit.Timer('test_2()','from __main__ import test_2')\n",
    "    print('append ',t2.timeit(number=1000),'milliseconds')\n",
    "    t3 = timeit.Timer('test_3()','from __main__ import test_3')\n",
    "    print('comprehension ',t3.timeit(number=1000),'milliseconds')\n",
    "    t4 = timeit.Timer('test_4()','from __main__ import test_4')\n",
    "    print('list range ',t4.timeit(number=1000), 'milliseconds')"
   ]
  },
  {
   "cell_type": "markdown",
   "metadata": {},
   "source": [
    "## Properties of List\n",
    "---\n",
    "|Operation|Big-O Efficiency|\n",
    "|:---:|---|\n",
    "| index | O(1) |\n",
    "|index assignment | O(1)|\n",
    "|append | O(1)|\n",
    "|pop() | O(1)|\n",
    "|pop(i) | O(n)|\n",
    "|insert(i,item) | O(n)|\n",
    "|del operator |  O(n)|\n",
    "| iteration | O(n)|\n",
    "|contains (in) | O(n)|\n",
    "|get slice [x:y] | O(k)|\n",
    "|del slice | O(n)|\n",
    "|set slice | O(n+k)|\n",
    "|reverse | O(n)|\n",
    "|concatenate | O(k)|\n",
    "|sort | O(n log n)|\n",
    "|multiply | O(nk)|\n",
    "\n",
    "---"
   ]
  },
  {
   "cell_type": "markdown",
   "metadata": {},
   "source": [
    "# Bytes and Byte array\n",
    "> bytes similar to string(immutable) and bytearray similar to lists(mutable)\n",
    "> They are very useful in operations over numbers represented as bits"
   ]
  },
  {
   "cell_type": "code",
   "execution_count": 137,
   "metadata": {},
   "outputs": [
    {
     "name": "stdout",
     "output_type": "stream",
     "text": [
      "aykahs kehsihba\n"
     ]
    }
   ],
   "source": [
    "# Reversing words in a string without reversing the whole sentence (string)\n",
    "\n",
    "# Method 1\n",
    "def reversestring_simple(string1 , p1=0 , p2 = None):\n",
    "    if len(string1)<2:\n",
    "        return sring1\n",
    "    p2 = p2 or len(string1)-1\n",
    "    while p1 < p2:\n",
    "        aux = string1[p1]\n",
    "        string1[p1]=string1[p2]\n",
    "        string1[p2]= aux\n",
    "        p1+=1\n",
    "        p2-=1\n",
    "    return ''.join(string1)\n",
    "\n",
    "if __name__=='__main__':\n",
    "    print(reversestring_simple(list('abhishek shakya')))"
   ]
  },
  {
   "cell_type": "code",
   "execution_count": 138,
   "metadata": {},
   "outputs": [
    {
     "data": {
      "text/plain": [
       "'shakya abhishek'"
      ]
     },
     "execution_count": 138,
     "metadata": {},
     "output_type": "execute_result"
    }
   ],
   "source": [
    "b = 'abhishek shakya'.split(' ')\n",
    "\" \".join(reversed(b))"
   ]
  },
  {
   "cell_type": "code",
   "execution_count": 140,
   "metadata": {},
   "outputs": [
    {
     "data": {
      "text/plain": [
       "'shakya abhishek'"
      ]
     },
     "execution_count": 140,
     "metadata": {},
     "output_type": "execute_result"
    }
   ],
   "source": [
    "a = 'abhishek shakya'.split(' ')\n",
    "a.reverse()\n",
    "' '.join(a)"
   ]
  },
  {
   "cell_type": "markdown",
   "metadata": {},
   "source": [
    "$$ The\\ End $$"
   ]
  }
 ],
 "metadata": {
  "kernelspec": {
   "display_name": "Python 2",
   "language": "python",
   "name": "python2"
  },
  "language_info": {
   "codemirror_mode": {
    "name": "ipython",
    "version": 2
   },
   "file_extension": ".py",
   "mimetype": "text/x-python",
   "name": "python",
   "nbconvert_exporter": "python",
   "pygments_lexer": "ipython2",
   "version": "2.7.12"
  }
 },
 "nbformat": 4,
 "nbformat_minor": 2
}
