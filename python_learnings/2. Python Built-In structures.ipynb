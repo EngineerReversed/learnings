{
 "cells": [
  {
   "cell_type": "markdown",
   "metadata": {},
   "source": [
    "# Built-In sequences\n",
    "Python has 5 built-in sequence types:\n",
    "* Strings : *Immutable*\n",
    "* Tuples : *Immutable*\n",
    "* Lists : *Mutable*\n",
    "* Byte arrays : *Mutable*\n",
    "* Bytes : *Immutable*"
   ]
  },
  {
   "cell_type": "code",
   "execution_count": 6,
   "metadata": {},
   "outputs": [
    {
     "name": "stdout",
     "output_type": "stream",
     "text": [
      "<type 'list'>\n",
      "<type 'str'>\n",
      "<type 'tuple'>\n",
      "<type 'bytearray'>\n",
      "<type 'str'>\n"
     ]
    }
   ],
   "source": [
    "# python in built sequence datatypes\n",
    "l = []\n",
    "s = ''\n",
    "t = ()\n",
    "ba = bytearray(b'')\n",
    "b = bytes([])\n",
    "print(type(l))\n",
    "print(type(s))\n",
    "print(type(t))\n",
    "print(type(ba))\n",
    "print(type(b))    # only for python 3.x"
   ]
  },
  {
   "cell_type": "code",
   "execution_count": 18,
   "metadata": {},
   "outputs": [
    {
     "name": "stdout",
     "output_type": "stream",
     "text": [
      "set(['people', 'dingdong', 'tomey'])\n",
      "set(['tomey', 'dingdong', 'people'])\n",
      "set(['people', 'dingdong', 'tomey'])\n",
      "set(['people', 'tomey'])\n",
      "set(['dingdong'])\n",
      "set(['people', 'tomey'])\n"
     ]
    }
   ],
   "source": [
    "# Immutable objects in python\n",
    "# there are collection data types (sets and dictionaries) which are accessed via immutables datatypes\n",
    "# Concept of deep copying!\n",
    "myList = {'people','tomey','dingdong'}\n",
    "slayers = myList.copy()    # it creates a new copy\n",
    "slayers1 = myList    # it creates a new reference\n",
    "print(myList)\n",
    "print(slayers)\n",
    "print(slayers1)\n",
    "slayers.discard('people')\n",
    "slayers.remove('tomey')\n",
    "slayers1.discard('dingdong')\n",
    "print(myList)\n",
    "print(slayers)\n",
    "print(slayers1)\n",
    "\n",
    "import copy\n",
    "m = copy.copy(slayers)\n",
    "n = copy.deepcopy(slayers)\n"
   ]
  },
  {
   "cell_type": "markdown",
   "metadata": {},
   "source": [
    "# Python Strings\n",
    "Every python object has two output forms :\n",
    "* String form - readable by humans\n",
    "* Representational form -  readable by python interpretor"
   ]
  },
  {
   "cell_type": "code",
   "execution_count": 21,
   "metadata": {},
   "outputs": [
    {
     "name": "stdout",
     "output_type": "stream",
     "text": [
      "Yo Bro !\n"
     ]
    }
   ],
   "source": [
    "# Unicode strings\n",
    "# here space is represented by u0020 Unicode - 16 bits\n",
    "# ASCII code takes 8 bits to represent\n",
    "\n",
    "print(u'Yo\\u0020Bro !')\n"
   ]
  },
  {
   "cell_type": "code",
   "execution_count": 26,
   "metadata": {},
   "outputs": [
    {
     "name": "stdout",
     "output_type": "stream",
     "text": [
      "Abhishek Karunesh Arpit\n",
      "Abhishek-<>-Karunesh-<>-Arpit\n",
      "Arpit__|__Karunesh__|__Abhishek\n"
     ]
    }
   ],
   "source": [
    "# Methods for strings\n",
    "# using join is better than using + to concatenate a list\n",
    "list_of_names = ['Abhishek','Karunesh','Arpit']\n",
    "print(' '.join(list_of_names))    # join method\n",
    "print('-<>-'.join(list_of_names))\n",
    "print('__|__'.join(reversed(list_of_names)))    # reverse method\n"
   ]
  },
  {
   "cell_type": "code",
   "execution_count": 29,
   "metadata": {},
   "outputs": [
    {
     "name": "stdout",
     "output_type": "stream",
     "text": [
      "-----------------------------------Abhishek Shakya\n",
      "Abhishek Shakya-----------------------------------\n"
     ]
    }
   ],
   "source": [
    "# rjust and ljust methods\n",
    "name = 'Abhishek Shakya'\n",
    "print(name.rjust(50,'-'))    # adding at the end\n",
    "print(name.ljust(50,'-'))    # adding at the start\n"
   ]
  },
  {
   "cell_type": "code",
   "execution_count": 38,
   "metadata": {},
   "outputs": [
    {
     "name": "stdout",
     "output_type": "stream",
     "text": [
      "I am the one, No I am not!\n",
      "Number 999 is a good abhishek\n"
     ]
    }
   ],
   "source": [
    "# format method\n",
    "# strings can be formatted\n",
    "print('{0}, {1}').format('I am the one','No I am not!')\n",
    "\n",
    "# string mapping or unmapping\n",
    "# the idea is to combine local() method with format resulting in a key-value list suitable for passing to a function\n",
    "number = 999\n",
    "string = 'abhishek'\n",
    "print('Number {number} is a good {string}'.format(**locals()))\n"
   ]
  },
  {
   "cell_type": "code",
   "execution_count": 41,
   "metadata": {},
   "outputs": [
    {
     "data": {
      "text/plain": [
       "['abhishek shakya', 'ding dong']"
      ]
     },
     "execution_count": 41,
     "metadata": {},
     "output_type": "execute_result"
    }
   ],
   "source": [
    "# splitlines function in python\n",
    "random_string = 'abhishek shakya\\nding dong'\n",
    "random_string.splitlines()\n",
    "\n",
    "# using split\n"
   ]
  },
  {
   "cell_type": "code",
   "execution_count": null,
   "metadata": {},
   "outputs": [],
   "source": []
  },
  {
   "cell_type": "code",
   "execution_count": null,
   "metadata": {},
   "outputs": [],
   "source": []
  },
  {
   "cell_type": "code",
   "execution_count": null,
   "metadata": {},
   "outputs": [],
   "source": []
  },
  {
   "cell_type": "code",
   "execution_count": null,
   "metadata": {},
   "outputs": [],
   "source": []
  }
 ],
 "metadata": {
  "kernelspec": {
   "display_name": "Python 2",
   "language": "python",
   "name": "python2"
  },
  "language_info": {
   "codemirror_mode": {
    "name": "ipython",
    "version": 2
   },
   "file_extension": ".py",
   "mimetype": "text/x-python",
   "name": "python",
   "nbconvert_exporter": "python",
   "pygments_lexer": "ipython2",
   "version": "2.7.12"
  }
 },
 "nbformat": 4,
 "nbformat_minor": 2
}
