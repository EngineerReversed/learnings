{
 "cells": [
  {
   "cell_type": "markdown",
   "metadata": {},
   "source": [
    "# Sorting\n",
    "___"
   ]
  },
  {
   "cell_type": "markdown",
   "metadata": {},
   "source": [
    "Sorting contains following terminologies:\n",
    "1. *in-place sort*: doesn't uses any additional memory to do sorting (e.g. swapping elements within array)\n",
    "2. *stable sort*: preserves the relative order of identical elements\n",
    "3. *comparison sort*: a key is the value(s) which determines the sorting order\n",
    "<br>\n",
    "Most of the sorting algorithms are comparison sorts where a key is compared against other key to be equal or less than or greater than. The worst case algorithmic complexity can not be better than O(n ln n)"
   ]
  },
  {
   "cell_type": "markdown",
   "metadata": {},
   "source": [
    "## Quadratic sort\n",
    "___"
   ]
  },
  {
   "cell_type": "markdown",
   "metadata": {},
   "source": [
    "### 1.  Insertion sort"
   ]
  },
  {
   "cell_type": "markdown",
   "metadata": {},
   "source": [
    "* Best run time: O(n)\n",
    "* Average run time: O(n<sup>2</sup>)\n",
    "* Worst run time: O(n<sup>2</sup>)\n",
    "<br><br>It works by inserting next unsorted element to initially sorted segment of array. If the array is already sorted and you want to add new element to sorted array in order, insertion sort should be preferred over more advanced algorithms like merge sort and quick sort given that dataset is small."
   ]
  },
  {
   "cell_type": "code",
   "execution_count": 20,
   "metadata": {},
   "outputs": [
    {
     "name": "stdout",
     "output_type": "stream",
     "text": [
      "Test passed\n"
     ]
    }
   ],
   "source": [
    "def insertion_sort(seq):\n",
    "    for i in range(1, len(seq)):\n",
    "        j = i\n",
    "        \n",
    "        while j>0 and seq[j-1] > seq[j]:\n",
    "            seq[j-1], seq[j] = seq[j], seq[j-1]\n",
    "            j-=1\n",
    "            \n",
    "    return seq\n",
    "\n",
    "def insertion_sort_recursive(seq, i=None):\n",
    "    if i==None:\n",
    "        i = len(seq)-1\n",
    "    if i==0:\n",
    "        return i\n",
    "\n",
    "    insertion_sort_recursive(seq,i-1)\n",
    "    j = i\n",
    "    \n",
    "    while j>0 and seq[j-1]>seq[j]:\n",
    "        seq[j-1], seq[j] = seq[j], seq[j-1]\n",
    "        j-=1\n",
    "    \n",
    "    return seq\n",
    "    \n",
    "    \n",
    "\n",
    "def test_insertion_sort():\n",
    "    seq = [3, 5, 2, 6, 8, 1, 0, 3, 5, 6, 2, 5, 4, 1, 5, 3]\n",
    "    assert insertion_sort(seq) == sorted(seq)\n",
    "    seq = [3, 5, 2, 6, 8, 1, 0, 3, 5, 6, 2, 5, 4, 1, 5, 3]\n",
    "    assert insertion_sort_recursive(seq) == sorted(seq)\n",
    "    print('Test passed')\n",
    "\n",
    "if __name__=='__main__':\n",
    "    test_insertion_sort()"
   ]
  },
  {
   "cell_type": "code",
   "execution_count": null,
   "metadata": {},
   "outputs": [],
   "source": []
  }
 ],
 "metadata": {
  "kernelspec": {
   "display_name": "Python 2",
   "language": "python",
   "name": "python2"
  },
  "language_info": {
   "codemirror_mode": {
    "name": "ipython",
    "version": 2
   },
   "file_extension": ".py",
   "mimetype": "text/x-python",
   "name": "python",
   "nbconvert_exporter": "python",
   "pygments_lexer": "ipython2",
   "version": "2.7.15rc1"
  }
 },
 "nbformat": 4,
 "nbformat_minor": 2
}
