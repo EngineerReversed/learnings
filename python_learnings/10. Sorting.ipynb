{
 "cells": [
  {
   "cell_type": "markdown",
   "metadata": {},
   "source": [
    "# Sorting\n",
    "___"
   ]
  },
  {
   "cell_type": "markdown",
   "metadata": {},
   "source": [
    "Sorting contains following terminologies:\n",
    "1. *in-place sort*: doesn't uses any additional memory to do sorting (e.g. swapping elements within array)\n",
    "2. *stable sort*: preserves the relative order of identical elements\n",
    "3. *comparison sort*: a key is the value(s) which determines the sorting order\n",
    "<br>\n",
    "Most of the sorting algorithms are comparison sorts where a key is compared against other key to be equal or less than or greater than. The worst case algorithmic complexity can not be better than O(n ln n)"
   ]
  },
  {
   "cell_type": "markdown",
   "metadata": {},
   "source": [
    "## Quadratic sort\n",
    "___"
   ]
  },
  {
   "cell_type": "markdown",
   "metadata": {},
   "source": [
    "### 1.  Insertion sort"
   ]
  },
  {
   "cell_type": "markdown",
   "metadata": {},
   "source": [
    "* Best run time: O(n)\n",
    "* Average run time: O(n<sup>2</sup>)\n",
    "* Worst run time: O(n<sup>2</sup>)\n",
    "<br><br>It works by inserting next unsorted element to initially sorted segment of array. If the array is already sorted and you want to add new element to sorted array in order, insertion sort should be preferred over more advanced algorithms like merge sort and quick sort given that dataset is small."
   ]
  },
  {
   "cell_type": "code",
   "execution_count": 2,
   "metadata": {},
   "outputs": [
    {
     "name": "stdout",
     "output_type": "stream",
     "text": [
      "Test passed\n"
     ]
    }
   ],
   "source": [
    "def insertion_sort(seq):\n",
    "    for i in range(1, len(seq)):\n",
    "        j = i\n",
    "        \n",
    "        while j>0 and seq[j-1] > seq[j]:\n",
    "            seq[j-1], seq[j] = seq[j], seq[j-1]\n",
    "            j-=1\n",
    "            \n",
    "    return seq\n",
    "\n",
    "def insertion_sort_recursive(seq, i=None):\n",
    "    if i==None:\n",
    "        i = len(seq)-1\n",
    "    if i==0:\n",
    "        return i\n",
    "\n",
    "    insertion_sort_recursive(seq,i-1)\n",
    "    j = i\n",
    "    \n",
    "    while j>0 and seq[j-1]>seq[j]:\n",
    "        seq[j-1], seq[j] = seq[j], seq[j-1]\n",
    "        j-=1\n",
    "    \n",
    "    return seq\n",
    "    \n",
    "    \n",
    "\n",
    "def test_insertion_sort():\n",
    "    seq = [3, 5, 2, 6, 8, 1, 0, 3, 5, 6, 2, 5, 4, 1, 5, 3]\n",
    "    assert insertion_sort(seq) == sorted(seq)\n",
    "    seq = [3, 5, 2, 6, 8, 1, 0, 3, 5, 6, 2, 5, 4, 1, 5, 3]\n",
    "    assert insertion_sort_recursive(seq) == sorted(seq)\n",
    "    print('Test passed')\n",
    "\n",
    "if __name__=='__main__':\n",
    "    test_insertion_sort()"
   ]
  },
  {
   "cell_type": "markdown",
   "metadata": {},
   "source": [
    "## 3. Selection Sort"
   ]
  },
  {
   "cell_type": "markdown",
   "metadata": {},
   "source": [
    "It is based on finding smallest or largest element in a list and swap it with the first element, then followed by second element and so on. It is not stable(doesn't preserve order of identical elements). Even if the list is sorted, it has worst case complexity O(n<sup>2</sup>). <br>\n",
    "* Best run time: O(n<sup>2</sup>)\n",
    "* Worst run time: O(n<sup>2</sup>)\n",
    "* Average run time: O(n<sup>2</sup>)"
   ]
  },
  {
   "cell_type": "code",
   "execution_count": 90,
   "metadata": {},
   "outputs": [
    {
     "ename": "AssertionError",
     "evalue": "test failed",
     "output_type": "error",
     "traceback": [
      "\u001b[0;31m---------------------------------------------------------------------------\u001b[0m",
      "\u001b[0;31mAssertionError\u001b[0m                            Traceback (most recent call last)",
      "\u001b[0;32m<ipython-input-90-56db5e08ba3b>\u001b[0m in \u001b[0;36m<module>\u001b[0;34m()\u001b[0m\n\u001b[1;32m     16\u001b[0m \u001b[0;34m\u001b[0m\u001b[0m\n\u001b[1;32m     17\u001b[0m \u001b[0;32mif\u001b[0m \u001b[0m__name__\u001b[0m\u001b[0;34m==\u001b[0m\u001b[0;34m'__main__'\u001b[0m\u001b[0;34m:\u001b[0m\u001b[0;34m\u001b[0m\u001b[0m\n\u001b[0;32m---> 18\u001b[0;31m     \u001b[0mtest_selection_sort\u001b[0m\u001b[0;34m(\u001b[0m\u001b[0;34m)\u001b[0m\u001b[0;34m\u001b[0m\u001b[0m\n\u001b[0m",
      "\u001b[0;32m<ipython-input-90-56db5e08ba3b>\u001b[0m in \u001b[0;36mtest_selection_sort\u001b[0;34m()\u001b[0m\n\u001b[1;32m     12\u001b[0m \u001b[0;32mdef\u001b[0m \u001b[0mtest_selection_sort\u001b[0m\u001b[0;34m(\u001b[0m\u001b[0;34m)\u001b[0m\u001b[0;34m:\u001b[0m\u001b[0;34m\u001b[0m\u001b[0m\n\u001b[1;32m     13\u001b[0m     \u001b[0mseq\u001b[0m \u001b[0;34m=\u001b[0m \u001b[0;34m[\u001b[0m\u001b[0;36m3\u001b[0m\u001b[0;34m,\u001b[0m \u001b[0;36m5\u001b[0m\u001b[0;34m,\u001b[0m \u001b[0;36m2\u001b[0m\u001b[0;34m,\u001b[0m \u001b[0;36m6\u001b[0m\u001b[0;34m,\u001b[0m \u001b[0;36m8\u001b[0m\u001b[0;34m,\u001b[0m \u001b[0;36m1\u001b[0m\u001b[0;34m,\u001b[0m \u001b[0;36m0\u001b[0m\u001b[0;34m,\u001b[0m \u001b[0;36m3\u001b[0m\u001b[0;34m,\u001b[0m \u001b[0;36m5\u001b[0m\u001b[0;34m,\u001b[0m \u001b[0;36m6\u001b[0m\u001b[0;34m,\u001b[0m \u001b[0;36m2\u001b[0m\u001b[0;34m]\u001b[0m\u001b[0;34m\u001b[0m\u001b[0m\n\u001b[0;32m---> 14\u001b[0;31m     \u001b[0;32massert\u001b[0m\u001b[0;34m(\u001b[0m\u001b[0mselection_sort\u001b[0m\u001b[0;34m(\u001b[0m\u001b[0mseq\u001b[0m\u001b[0;34m)\u001b[0m\u001b[0;34m==\u001b[0m\u001b[0msorted\u001b[0m\u001b[0;34m(\u001b[0m\u001b[0mseq\u001b[0m\u001b[0;34m)\u001b[0m\u001b[0;34m)\u001b[0m\u001b[0;34m,\u001b[0m \u001b[0;34m'test failed'\u001b[0m\u001b[0;34m\u001b[0m\u001b[0m\n\u001b[0m\u001b[1;32m     15\u001b[0m     \u001b[0;32mprint\u001b[0m\u001b[0;34m(\u001b[0m\u001b[0;34m'test passed'\u001b[0m\u001b[0;34m)\u001b[0m\u001b[0;34m\u001b[0m\u001b[0m\n\u001b[1;32m     16\u001b[0m \u001b[0;34m\u001b[0m\u001b[0m\n",
      "\u001b[0;31mAssertionError\u001b[0m: test failed"
     ]
    }
   ],
   "source": [
    "def selection_sort(seq):\n",
    "    for i in range(len(seq) -1, 0, -1):\n",
    "        max_j = i\n",
    "        for j in range(max_j,len(seq)-1):\n",
    "            if seq[j] > seq[max_j]:\n",
    "                max_j = j\n",
    "            seq[i], seq[max_j] = seq[max_j], seq[i]\n",
    "    return seq\n",
    "\n",
    "\n",
    "\n",
    "def test_selection_sort():\n",
    "    seq = [3, 5, 2, 6, 8, 1, 0, 3, 5, 6, 2]\n",
    "    assert(selection_sort(seq)==sorted(seq)), 'test failed'\n",
    "    print('test passed')\n",
    "\n",
    "if __name__=='__main__':\n",
    "    test_selection_sort()"
   ]
  },
  {
   "cell_type": "code",
   "execution_count": 62,
   "metadata": {},
   "outputs": [
    {
     "data": {
      "text/plain": [
       "[3, 2, 3]"
      ]
     },
     "execution_count": 62,
     "metadata": {},
     "output_type": "execute_result"
    }
   ],
   "source": [
    "a = [1,2,3]\n",
    "b = [1,2,3]\n",
    "c = a[2]\n",
    "a[a.index(min(b))] = c\n",
    "a"
   ]
  },
  {
   "cell_type": "code",
   "execution_count": null,
   "metadata": {},
   "outputs": [],
   "source": []
  },
  {
   "cell_type": "code",
   "execution_count": 23,
   "metadata": {},
   "outputs": [
    {
     "data": {
      "text/plain": [
       "[0, 1, 2]"
      ]
     },
     "execution_count": 23,
     "metadata": {},
     "output_type": "execute_result"
    }
   ],
   "source": [
    "range(len(a))"
   ]
  },
  {
   "cell_type": "code",
   "execution_count": null,
   "metadata": {},
   "outputs": [],
   "source": []
  }
 ],
 "metadata": {
  "kernelspec": {
   "display_name": "Python 2",
   "language": "python",
   "name": "python2"
  },
  "language_info": {
   "codemirror_mode": {
    "name": "ipython",
    "version": 2
   },
   "file_extension": ".py",
   "mimetype": "text/x-python",
   "name": "python",
   "nbconvert_exporter": "python",
   "pygments_lexer": "ipython2",
   "version": "2.7.15rc1"
  }
 },
 "nbformat": 4,
 "nbformat_minor": 2
}
