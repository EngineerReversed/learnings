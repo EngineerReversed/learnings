{
 "cells": [
  {
   "cell_type": "markdown",
   "metadata": {},
   "source": [
    "# Sorting\n",
    "___"
   ]
  },
  {
   "cell_type": "markdown",
   "metadata": {},
   "source": [
    "Sorting contains following terminologies:\n",
    "1. *in-place sort*: doesn't uses any additional memory to do sorting (e.g. swapping elements within array)\n",
    "2. *stable sort*: preserves the relative order of identical elements\n",
    "3. *comparison sort*: a key is the value(s) which determines the sorting order\n",
    "<br>\n",
    "Most of the sorting algorithms are comparison sorts where a key is compared against other key to be equal or less than or greater than. The worst case algorithmic complexity can not be better than O(n ln n)"
   ]
  },
  {
   "cell_type": "markdown",
   "metadata": {},
   "source": [
    "## Quadratic sort\n",
    "___"
   ]
  },
  {
   "cell_type": "markdown",
   "metadata": {},
   "source": [
    "### 1.  Insertion sort"
   ]
  },
  {
   "cell_type": "markdown",
   "metadata": {},
   "source": [
    "* Best run time: O(n)\n",
    "* Average run time: O(n<sup>2</sup>)\n",
    "* Worst run time: O(n<sup>2</sup>)\n",
    "<br><br>It works by inserting next unsorted element to initially sorted segment of array. If the array is already sorted and you want to add new element to sorted array in order, insertion sort should be preferred over more advanced algorithms like merge sort and quick sort given that dataset is small."
   ]
  },
  {
   "cell_type": "code",
   "execution_count": 2,
   "metadata": {},
   "outputs": [
    {
     "name": "stdout",
     "output_type": "stream",
     "text": [
      "Test passed\n"
     ]
    }
   ],
   "source": [
    "def insertion_sort(seq):\n",
    "    for i in range(1, len(seq)):\n",
    "        j = i\n",
    "        \n",
    "        while j>0 and seq[j-1] > seq[j]:\n",
    "            seq[j-1], seq[j] = seq[j], seq[j-1]\n",
    "            j-=1\n",
    "            \n",
    "    return seq\n",
    "\n",
    "def insertion_sort_recursive(seq, i=None):\n",
    "    if i==None:\n",
    "        i = len(seq)-1\n",
    "    if i==0:\n",
    "        return i\n",
    "\n",
    "    insertion_sort_recursive(seq,i-1)\n",
    "    j = i\n",
    "    \n",
    "    while j>0 and seq[j-1]>seq[j]:\n",
    "        seq[j-1], seq[j] = seq[j], seq[j-1]\n",
    "        j-=1\n",
    "    \n",
    "    return seq\n",
    "    \n",
    "    \n",
    "\n",
    "def test_insertion_sort():\n",
    "    seq = [3, 5, 2, 6, 8, 1, 0, 3, 5, 6, 2, 5, 4, 1, 5, 3]\n",
    "    assert insertion_sort(seq) == sorted(seq)\n",
    "    seq = [3, 5, 2, 6, 8, 1, 0, 3, 5, 6, 2, 5, 4, 1, 5, 3]\n",
    "    assert insertion_sort_recursive(seq) == sorted(seq)\n",
    "    print('Test passed')\n",
    "\n",
    "if __name__=='__main__':\n",
    "    test_insertion_sort()"
   ]
  },
  {
   "cell_type": "markdown",
   "metadata": {},
   "source": [
    "### 3. Selection Sort"
   ]
  },
  {
   "cell_type": "markdown",
   "metadata": {},
   "source": [
    "It is based on finding smallest or largest element in a list and swap it with the first element, then followed by second element and so on. It is not stable(doesn't preserve order of identical elements). Even if the list is sorted, it has worst case complexity O(n<sup>2</sup>). <br>\n",
    "* Best run time: O(n<sup>2</sup>)\n",
    "* Worst run time: O(n<sup>2</sup>)\n",
    "* Average run time: O(n<sup>2</sup>)"
   ]
  },
  {
   "cell_type": "code",
   "execution_count": 25,
   "metadata": {},
   "outputs": [
    {
     "name": "stdout",
     "output_type": "stream",
     "text": [
      "[3, 5, 2, 6, 8, 1, 0, 3, 5, 6, 2]\n",
      "[3, 5, 2, 6, 2, 1, 0, 3, 5, 6, 8]\n",
      "[3, 5, 2, 6, 2, 1, 0, 3, 5, 6, 8]\n",
      "[3, 5, 2, 5, 2, 1, 0, 3, 6, 6, 8]\n",
      "[3, 5, 2, 3, 2, 1, 0, 5, 6, 6, 8]\n",
      "[3, 0, 2, 3, 2, 1, 5, 5, 6, 6, 8]\n",
      "[3, 0, 2, 1, 2, 3, 5, 5, 6, 6, 8]\n",
      "[2, 0, 2, 1, 3, 3, 5, 5, 6, 6, 8]\n",
      "[2, 0, 1, 2, 3, 3, 5, 5, 6, 6, 8]\n",
      "[1, 0, 2, 2, 3, 3, 5, 5, 6, 6, 8]\n",
      "test passed\n"
     ]
    }
   ],
   "source": [
    "def selection_sort(seq):\n",
    "    for i in range(len(seq)-1,0,-1):\n",
    "        print(seq)\n",
    "        max_j = i\n",
    "        for j in range(max_j,-1,-1):\n",
    "            if seq[j] > seq[max_j]:\n",
    "                max_j = j\n",
    "        seq[i], seq[max_j] = seq[max_j], seq[i]\n",
    "\n",
    "    return seq\n",
    "\n",
    "\n",
    "\n",
    "def test_selection_sort():\n",
    "    seq = [3, 5, 2, 6, 8, 1, 0, 3, 5, 6, 2]\n",
    "    assert(selection_sort(seq)==sorted(seq)), 'test failed'\n",
    "    print('test passed')\n",
    "\n",
    "if __name__=='__main__':\n",
    "    test_selection_sort()"
   ]
  },
  {
   "cell_type": "markdown",
   "metadata": {},
   "source": [
    "### 3. Gnome Sort"
   ]
  },
  {
   "cell_type": "markdown",
   "metadata": {},
   "source": [
    "It works by moving forward and keeps coming backward till the misplaced value has been correctly set in the list."
   ]
  },
  {
   "cell_type": "code",
   "execution_count": 26,
   "metadata": {},
   "outputs": [
    {
     "name": "stdout",
     "output_type": "stream",
     "text": [
      "test passed\n"
     ]
    }
   ],
   "source": [
    "def gnome_sort(seq):\n",
    "    i = 0\n",
    "    while i<len(seq):\n",
    "        if i==0 or seq[i-1]<=seq[i]:\n",
    "            i+=1\n",
    "        else:\n",
    "            seq[i-1],seq[i]=seq[i],seq[i-1]\n",
    "            i-=1\n",
    "    return seq\n",
    "\n",
    "def test_gnome_sort():\n",
    "    seq = [3, 5, 2, 6, 8, 1, 0, 3, 5, 6, 2, 5, 4, 1, 5, 3]\n",
    "    assert(gnome_sort(seq)==sorted(seq)),'test failed'\n",
    "    print('test passed')\n",
    "    \n",
    "if __name__=='__main__':\n",
    "    test_gnome_sort()"
   ]
  },
  {
   "cell_type": "markdown",
   "metadata": {},
   "source": [
    "## Linear Sort\n",
    "___"
   ]
  },
  {
   "cell_type": "markdown",
   "metadata": {},
   "source": [
    "### 1. Count Sort"
   ]
  },
  {
   "cell_type": "markdown",
   "metadata": {},
   "source": [
    "It works well on integers of small value range, counting numbers on the go and using their cumulative frequency to place them into output list. However, if you also count events, the sort becomes linear in time O(n+k)."
   ]
  },
  {
   "cell_type": "code",
   "execution_count": 43,
   "metadata": {},
   "outputs": [
    {
     "name": "stdout",
     "output_type": "stream",
     "text": [
      "test passed\n"
     ]
    }
   ],
   "source": [
    "from collections import defaultdict\n",
    "\n",
    "def count_sort_dict(seq):\n",
    "    \n",
    "    output_list, df_dict = list(),defaultdict(list)\n",
    "    for x in seq:\n",
    "        df_dict[x].append(x)\n",
    "    \n",
    "    for k in range(min(df_dict),max(df_dict)+1):\n",
    "        output_list.extend(df_dict[k])\n",
    "    return output_list\n",
    "\n",
    "def test_count_sort():\n",
    "    seq = [3, 5, 2, 6, 9, 1, 0, 3, 5, 6, 2, 5, 4, 1, 5, 11]\n",
    "    assert(count_sort_dict(seq)==sorted(seq)),'test failed'\n",
    "    print('test passed')\n",
    "    \n",
    "if __name__=='__main__':\n",
    "    test_count_sort()"
   ]
  },
  {
   "cell_type": "markdown",
   "metadata": {},
   "source": [
    "## Log linear sort"
   ]
  },
  {
   "cell_type": "markdown",
   "metadata": {},
   "source": [
    "### 1. Merge sort"
   ]
  },
  {
   "cell_type": "code",
   "execution_count": null,
   "metadata": {},
   "outputs": [],
   "source": []
  }
 ],
 "metadata": {
  "kernelspec": {
   "display_name": "Python 2",
   "language": "python",
   "name": "python2"
  },
  "language_info": {
   "codemirror_mode": {
    "name": "ipython",
    "version": 2
   },
   "file_extension": ".py",
   "mimetype": "text/x-python",
   "name": "python",
   "nbconvert_exporter": "python",
   "pygments_lexer": "ipython2",
   "version": "2.7.15rc1"
  }
 },
 "nbformat": 4,
 "nbformat_minor": 2
}
