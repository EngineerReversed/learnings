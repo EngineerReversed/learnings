{
 "cells": [
  {
   "cell_type": "code",
   "execution_count": 12,
   "metadata": {},
   "outputs": [
    {
     "data": {
      "text/plain": [
       "4"
      ]
     },
     "execution_count": 12,
     "metadata": {},
     "output_type": "execute_result"
    }
   ],
   "source": [
    "# learning about numbers\n",
    "# integers in computer programming language are represented with bits\n",
    "\n",
    "# Question: How many bits does it require to represent an integer?\n",
    "# Answer: Converting decimal 8 to binary 1000\n",
    "(8).bit_length()"
   ]
  },
  {
   "cell_type": "code",
   "execution_count": 24,
   "metadata": {},
   "outputs": [
    {
     "name": "stdout",
     "output_type": "stream",
     "text": [
      "7\n",
      "7\n"
     ]
    }
   ],
   "source": [
    "# Integers\n",
    "# typecasting a string to an integer\n",
    "string = '7'\n",
    "number = int(string)\n",
    "print(number)\n",
    "\n",
    "# changing base of an integer (hexadecimal)\n",
    "base = int(string,16)\n",
    "print(base)"
   ]
  },
  {
   "cell_type": "code",
   "execution_count": 9,
   "metadata": {},
   "outputs": [
    {
     "data": {
      "text/plain": [
       "True"
      ]
     },
     "execution_count": 9,
     "metadata": {},
     "output_type": "execute_result"
    }
   ],
   "source": [
    "# Floating numbers\n",
    "# defining a function for comparing numbers\n",
    "def a(x,y,places=7):\n",
    "    return round(abs(x-y),places)==0\n",
    "a(1.1111111,1.111111111)"
   ]
  },
  {
   "cell_type": "code",
   "execution_count": 16,
   "metadata": {},
   "outputs": [
    {
     "data": {
      "text/plain": [
       "(1.0, 0.19999999999999996)"
      ]
     },
     "execution_count": 16,
     "metadata": {},
     "output_type": "execute_result"
    }
   ],
   "source": [
    "# methods for floats and integers\n",
    "divmod(1.2,1)    # divmod returns the quotient and remainder"
   ]
  },
  {
   "cell_type": "code",
   "execution_count": 33,
   "metadata": {},
   "outputs": [
    {
     "name": "stdout",
     "output_type": "stream",
     "text": [
      "1049.9\n",
      "1050.0\n"
     ]
    }
   ],
   "source": [
    "print(round(1049.93443,1))    # round after 1 decimal place\n",
    "print(round(1049.93443,-1))    # round before one decimal place\n"
   ]
  },
  {
   "cell_type": "code",
   "execution_count": 46,
   "metadata": {},
   "outputs": [
    {
     "data": {
      "text/plain": [
       "(3363625971692339, 140737488355328)"
      ]
     },
     "execution_count": 46,
     "metadata": {},
     "output_type": "execute_result"
    }
   ],
   "source": [
    "23.9.as_integer_ratio()    # to give numerator and denominator of a fractional ratio"
   ]
  },
  {
   "cell_type": "code",
   "execution_count": 44,
   "metadata": {},
   "outputs": [
    {
     "name": "stdout",
     "output_type": "stream",
     "text": [
      "3.14159265359\n"
     ]
    }
   ],
   "source": [
    "# complex numbers - a+ib\n",
    "import cmath    # importing module for dealing with complex numbers\n",
    "# z = 3+4js\n",
    "print(cmath.pi)"
   ]
  },
  {
   "cell_type": "code",
   "execution_count": 54,
   "metadata": {},
   "outputs": [
    {
     "name": "stdout",
     "output_type": "stream",
     "text": [
      "1/2\n"
     ]
    }
   ],
   "source": [
    "# fraction module\n",
    "from fractions import Fraction\n",
    "print(Fraction(1,2))\n",
    "def rounding_floats(number1,places):\n",
    "    'doing some stuff with number'\n",
    "    return round(number1,places)\n",
    "\n",
    "def float_to_fractions(number):\n",
    "    return Fraction(*number.as_integer_ratio())\n",
    "\n",
    "def get_numerator(number1,number2):\n",
    "    a = Fraction(number1,number2)\n",
    "    return a.numerator\n",
    "\n",
    "def get_denominator(number1,number2):\n",
    "    b = Fraction(number1,number2)\n",
    "    return b.denominator\n"
   ]
  },
  {
   "cell_type": "code",
   "execution_count": 55,
   "metadata": {},
   "outputs": [
    {
     "name": "stdout",
     "output_type": "stream",
     "text": [
      "23.2\n",
      "6538663708988539/281474976710656\n",
      "12\n",
      "23\n"
     ]
    }
   ],
   "source": [
    "print(rounding_floats(23.23,1))\n",
    "print(float_to_fractions(23.23))\n",
    "print(get_numerator(12,23))\n",
    "print(get_denominator(12,23))"
   ]
  },
  {
   "cell_type": "code",
   "execution_count": 71,
   "metadata": {},
   "outputs": [
    {
     "ename": "AssertionError",
     "evalue": "This is false",
     "traceback": [
      "\u001b[0;31m---------------------------------------------------------------------------\u001b[0m",
      "\u001b[0;31mAssertionError\u001b[0m                            Traceback (most recent call last)",
      "\u001b[0;32m<ipython-input-71-cb69059a5521>\u001b[0m in \u001b[0;36m<module>\u001b[0;34m()\u001b[0m\n\u001b[1;32m      1\u001b[0m \u001b[0;31m# assert in python mostly used in debugging\u001b[0m\u001b[0;34m\u001b[0m\u001b[0;34m\u001b[0m\u001b[0m\n\u001b[0;32m----> 2\u001b[0;31m \u001b[0;32massert\u001b[0m \u001b[0;36m2\u001b[0m\u001b[0;34m+\u001b[0m\u001b[0;36m2\u001b[0m\u001b[0;34m==\u001b[0m\u001b[0;36m5\u001b[0m\u001b[0;34m,\u001b[0m\u001b[0;34m'This is false'\u001b[0m\u001b[0;34m\u001b[0m\u001b[0m\n\u001b[0m",
      "\u001b[0;31mAssertionError\u001b[0m: This is false"
     ],
     "output_type": "error"
    }
   ],
   "source": [
    "# assert in python mostly used in debugging\n",
    "assert 2+2==5,'This is false'"
   ]
  },
  {
   "cell_type": "code",
   "execution_count": 75,
   "metadata": {},
   "outputs": [
    {
     "name": "stdout",
     "output_type": "stream",
     "text": [
      "Tests in this module have passed!\n"
     ]
    }
   ],
   "source": [
    "# fraction module\n",
    "def get_testing_floats(module_name = 'this module'):\n",
    "    number1 = 1.24\n",
    "    number2 = 1\n",
    "    number3 = -1\n",
    "    number4 = 5/4\n",
    "    number6 = 6\n",
    "    \n",
    "    # using assert\n",
    "    assert(rounding_floats(number1,number2)==1.2)\n",
    "    assert(rounding_floats(number1*10,number3)==10)\n",
    "#     assert(float_to_fractions(number1)==number4)\n",
    "    assert(get_denominator(number2,number6)==number6)\n",
    "    assert(get_numerator(number2,number6)==number2)\n",
    "    \n",
    "    s = 'Tests in {name} have {con}!'\n",
    "    print(s.format(name=module_name, con='passed'))\n",
    "\n",
    "if __name__=='__main__':\n",
    "    get_testing_floats()\n",
    "    \n",
    "    "
   ]
  },
  {
   "cell_type": "code",
   "execution_count": 90,
   "metadata": {},
   "outputs": [
    {
     "name": "stdout",
     "output_type": "stream",
     "text": [
      "False\n",
      "True\n"
     ]
    }
   ],
   "source": [
    "# decimal module - when you want decimals with fixed floating point\n",
    "print(sum(0.1 for i in range(0,10))==1.0)    # problems with floating point\n",
    "\n",
    "# using decimal \n",
    "from decimal import Decimal\n",
    "print(sum(Decimal('0.1') for i in range(0,10))==Decimal('1.0'))"
   ]
  },
  {
   "cell_type": "code",
   "execution_count": 102,
   "metadata": {},
   "outputs": [
    {
     "data": {
      "text/plain": [
       "'01747'"
      ]
     },
     "execution_count": 102,
     "metadata": {},
     "output_type": "execute_result"
    }
   ],
   "source": [
    "# other types of representations\n",
    "bin(3)    # returns the binary representation of number\n",
    "hex(3)    # returns the hexadecimal representation of number\n",
    "oct(999)    # returns the octal representation of number"
   ]
  },
  {
   "cell_type": "code",
   "execution_count": 114,
   "metadata": {},
   "outputs": [
    {
     "name": "stdout",
     "output_type": "stream",
     "text": [
      "Test passed!\n"
     ]
    }
   ],
   "source": [
    "# having some mathematical operations on numbers\n",
    "# converting a number below 9 to decimal base\n",
    "\n",
    "def convert_to_decimal(number,base):\n",
    "    multiplier,result = 1,0\n",
    "    while number>0:\n",
    "        result+=number%base*multiplier\n",
    "        multiplier*=10    # smart way of keeping multiple of 2 or 10 whichever base you want to convert to\n",
    "        number=number//base\n",
    "    return result\n",
    "\n",
    "def test_convert_to_decimal():\n",
    "    number, base = 9,2\n",
    "    assert(convert_to_decimal(number,base)==1001)\n",
    "    print('Test passed!')\n",
    "\n",
    "if __name__=='__main__':\n",
    "    test_convert_to_decimal()"
   ]
  },
  {
   "cell_type": "code",
   "execution_count": 121,
   "metadata": {},
   "outputs": [
    {
     "name": "stdout",
     "output_type": "stream",
     "text": [
      "Test passed\n"
     ]
    }
   ],
   "source": [
    "# for number with base > 10, we would require alphabets to represent digits\n",
    "# A --> 10\n",
    "def convert_from_decimal_larger(number, base):\n",
    "    strings = '0123456789ABCDEFGHIJ'\n",
    "    result = ''\n",
    "    while number > 0:\n",
    "        digit=number%base\n",
    "        result = strings[digit]+result\n",
    "        number = number // base\n",
    "        \n",
    "    return result\n",
    "def test_convert_to_hexadecimal():\n",
    "    number,base = 31,16\n",
    "    assert(convert_from_decimal_larger(number,base)=='1F')\n",
    "    print('Test passed')\n",
    "\n",
    "if __name__=='__main__':\n",
    "    test_convert_to_hexadecimal()"
   ]
  },
  {
   "cell_type": "code",
   "execution_count": 5,
   "metadata": {},
   "outputs": [
    {
     "name": "stdout",
     "output_type": "stream",
     "text": [
      "Tests in this module have passed!\n"
     ]
    }
   ],
   "source": [
    "# general base-conversion module using a recursive method\n",
    "def convert_decimal_to_any_base(number,base):\n",
    "    string = '0123456789ABCDEF'\n",
    "    if number < base: \n",
    "        return string[number]\n",
    "    else: \n",
    "        return convert_decimal_to_any_base(number//base,base)+string[number%base]\n",
    "\n",
    "def test_decimal_to_any_base():\n",
    "    number,base = 9,2\n",
    "    assert convert_decimal_to_any_base(number,base)=='1001'\n",
    "    \n",
    "    s= 'Tests in {name} have {con}!'\n",
    "    print(s.format(name='this module',con='passed'))\n",
    "\n",
    "if __name__ == '__main__':\n",
    "    test_decimal_to_any_base()"
   ]
  },
  {
   "cell_type": "code",
   "execution_count": 11,
   "metadata": {},
   "outputs": [
    {
     "name": "stdout",
     "output_type": "stream",
     "text": [
      "51\n",
      "34\n",
      "17\n",
      "Test passed!\n"
     ]
    }
   ],
   "source": [
    "# greatest common divisor\n",
    "def greatest_common_divisor(number1,number2):\n",
    "    assert number1!=0, 'Number1 is zero'\n",
    "    assert number2!=0, 'Number2 is zero'\n",
    "    while number2!=0:\n",
    "        result = number2    # number2 will always be kept as divisor\n",
    "        number1,number2 = number2 ,number1%number2    \n",
    "    return result\n",
    "\n",
    "def test_greatest_common_divisor():\n",
    "    number1,number2 = 34,51\n",
    "    assert(greatest_common_divisor(number1,number2)==17)\n",
    "    print 'Test passed!'\n",
    "\n",
    "if __name__=='__main__':\n",
    "    test_greatest_common_divisor()"
   ]
  },
  {
   "cell_type": "code",
   "execution_count": 26,
   "metadata": {},
   "outputs": [
    {
     "name": "stdout",
     "output_type": "stream",
     "text": [
      "34\n",
      "2\n",
      "1\n",
      "[345, 34]\n",
      "[2, 345, 1]\n",
      "[56, 2, 34, 1, 345]\n",
      "4\n",
      "3\n"
     ]
    }
   ],
   "source": [
    "# random module in python\n",
    "\n",
    "import random\n",
    "def random_testing():\n",
    "    values = [1,2,34,56,345]\n",
    "    print(random.choice(values))\n",
    "    print(random.choice(values))\n",
    "    print(random.choice(values))\n",
    "    # this would be helpful in testing pipeline where you want to test random examples\n",
    "    print(random.sample(values,2))    \n",
    "    print(random.sample(values,3))\n",
    "    \n",
    "    # randomly shuffling the list\n",
    "    random.shuffle(values)\n",
    "    print(values)\n",
    "    \n",
    "    # creating random integers\n",
    "    print(random.randint(0,10))\n",
    "    print(random.randint(0,10))\n",
    "\n",
    "if __name__=='__main__':\n",
    "    random_testing()"
   ]
  },
  {
   "cell_type": "markdown",
   "metadata": {},
   "source": [
    "# Fibonacci sequences\n",
    ">1. Using **Recursion** : $Algorithmic \\ Complexity = \\ O(2^n)$ <br>\n",
    ">2. Using **Sequential iteration** : $Algorithmic \\ Complexity = \\ O(n^2)$ <br>\n",
    ">3. Using **Formula** up to 70 terms : $Algorithmic \\ Complexity = \\ O(1)$"
   ]
  },
  {
   "cell_type": "code",
   "execution_count": null,
   "metadata": {},
   "outputs": [],
   "source": [
    "import math\n",
    "\n",
    "# using recursion\n",
    "def fibonacci_recursion(n):\n",
    "    if n < 2:\n",
    "        return n\n",
    "    else:\n",
    "        return fibonacci_recursion(n-1)+fibonacci_recursion(n-2)\n",
    "    \n",
    "\n",
    "# using iterative procedure\n",
    "def fibonacci_iterative(n):\n",
    "    if n < 2:\n",
    "        return n\n",
    "    a,b = 0,1\n",
    "    for i in range(n):\n",
    "        a,b=b,a+b\n",
    "    return a\n",
    "        \n",
    "    \n",
    "# using formula\n",
    "def fibonacci_formula(n):\n",
    "    square_root_5 = math.sqrt(5)\n",
    "    phi = (1+square_root_5)/2\n",
    "    return int(math.floor(phi**n/square_root_5))\n",
    "\n",
    "\n",
    "# call all functions\n",
    "def test_fibonacci():\n",
    "    n = 10\n",
    "    assert(fibonacci_recursion(n)==55)\n",
    "    assert(fibonacci_iterative(n)==55)\n",
    "    assert(fibonacci_formula(n)==55)\n",
    "    print('Tests passed!')\n",
    "    \n",
    "    \n",
    "if __name__=='__main__':\n",
    "    test_fibonacci()"
   ]
  },
  {
   "cell_type": "markdown",
   "metadata": {},
   "source": [
    "# Primes\n",
    "> 1. Using Brute force method\n",
    "> 2. Using Rejecting all candidates up to square root of the number\n",
    "> 3. Using Fermat's theorem with probabilistic tests"
   ]
  },
  {
   "cell_type": "code",
   "execution_count": 36,
   "metadata": {},
   "outputs": [
    {
     "name": "stdout",
     "output_type": "stream",
     "text": [
      "All tests passed\n"
     ]
    }
   ],
   "source": [
    "import math\n",
    "import random\n",
    "\n",
    "def prime_bruteforce(n):\n",
    "    num = abs(n)\n",
    "    if num<4:\n",
    "        return True\n",
    "    for x in range(2,num):\n",
    "        if num%x==0:\n",
    "            return False\n",
    "    return True\n",
    " \n",
    "    \n",
    "def prime_sqrt(n):\n",
    "    num = abs(n)\n",
    "    if num < 4:\n",
    "        return True\n",
    "    for x in range(2,int(math.sqrt(num))+1):\n",
    "        if num%x==0:\n",
    "            return False\n",
    "    return True\n",
    "    \n",
    "def prime_fermat(n):\n",
    "    if n<=102:\n",
    "        for a in range(2,n):\n",
    "            if pow(a,n-1,n)!=1:\n",
    "                return False\n",
    "        return True\n",
    "    else:\n",
    "        for i in range(100):\n",
    "            a = random.randint(2,n-1)\n",
    "            if pow(a,n-1,n)!=1:\n",
    "                return False\n",
    "            return True\n",
    "    \n",
    "    \n",
    "def test_prime():\n",
    "    number1 = 24\n",
    "    number2 = 17\n",
    "    assert prime_bruteforce(number1)==False\n",
    "    assert prime_bruteforce(number2)==True\n",
    "    assert prime_sqrt(number1)==False\n",
    "    assert prime_sqrt(number2)==True\n",
    "    assert prime_fermat(number1)==False\n",
    "    assert prime_fermat(number2)==True\n",
    "    print('All tests passed')\n",
    "    \n",
    "    \n",
    "if __name__ == '__main__':\n",
    "    test_prime()"
   ]
  },
  {
   "cell_type": "code",
   "execution_count": 57,
   "metadata": {},
   "outputs": [
    {
     "name": "stdout",
     "output_type": "stream",
     "text": [
      "11\n"
     ]
    }
   ],
   "source": [
    "# python random module for generating n-bit prime numbers\n",
    "import math\n",
    "import random\n",
    "import sys\n",
    "\n",
    "def generate_prime(number=3):\n",
    "    while 1:\n",
    "        p =  random.randint(pow(2,number-2),pow(2,number-1)-1)\n",
    "        p = 2*p+1\n",
    "        if prime_sqrt(p):\n",
    "            return p\n",
    "\n",
    "if __name__ =='__main__':\n",
    "    number = 4\n",
    "    print(generate_prime(number))\n"
   ]
  },
  {
   "cell_type": "markdown",
   "metadata": {},
   "source": [
    "# Numpy"
   ]
  },
  {
   "cell_type": "code",
   "execution_count": 2,
   "metadata": {},
   "outputs": [
    {
     "name": "stdout",
     "output_type": "stream",
     "text": [
      "2\n",
      "(3, 3)\n"
     ]
    }
   ],
   "source": [
    "# the numpy package - mostly used in datascience community for dealing with matrix and arrays\n",
    "# package for scientific computing with python\n",
    "# arrays can have any dimension - sequences or sequences of sequences can be transformed into arrays\n",
    "import numpy as np\n",
    "x = np.array(((11,12,13),\n",
    "              (21,22,23),\n",
    "              (31,32,33)))\n",
    "print(x.ndim)\n",
    "print(x.shape)"
   ]
  },
  {
   "cell_type": "code",
   "execution_count": 7,
   "metadata": {},
   "outputs": [
    {
     "name": "stdout",
     "output_type": "stream",
     "text": [
      "[2 4 6]\n",
      "[11 12 13]\n",
      "[1.         1.41421356 1.73205081]\n",
      "[ 0.54030231 -0.41614684 -0.9899925 ]\n",
      "[-11 -11 -11]\n",
      "[ 1 13 14]\n",
      "(array([0, 1]),)\n",
      "[[ 1  2  3]\n",
      " [12 13 14]\n",
      " [ 1  2  3]]\n",
      "[[ 1 12  1]\n",
      " [ 2 13  2]\n",
      " [ 3 14  3]]\n",
      "[[0. 0. 0. 0. 0. 0. 0. 0. 0. 0.]\n",
      " [0. 0. 0. 0. 0. 0. 0. 0. 0. 0.]\n",
      " [0. 0. 0. 0. 0. 0. 0. 0. 0. 0.]\n",
      " [0. 0. 0. 0. 0. 0. 0. 0. 0. 0.]\n",
      " [0. 0. 0. 0. 0. 0. 0. 0. 0. 0.]\n",
      " [0. 0. 0. 0. 0. 0. 0. 0. 0. 0.]\n",
      " [0. 0. 0. 0. 0. 0. 0. 0. 0. 0.]\n",
      " [0. 0. 0. 0. 0. 0. 0. 0. 0. 0.]\n",
      " [0. 0. 0. 0. 0. 0. 0. 0. 0. 0.]\n",
      " [0. 0. 0. 0. 0. 0. 0. 0. 0. 0.]]\n",
      "[[1. 1. 1. 1. 1. 1. 1. 1. 1. 1.]\n",
      " [1. 1. 1. 1. 1. 1. 1. 1. 1. 1.]\n",
      " [1. 1. 1. 1. 1. 1. 1. 1. 1. 1.]\n",
      " [1. 1. 1. 1. 1. 1. 1. 1. 1. 1.]\n",
      " [1. 1. 1. 1. 1. 1. 1. 1. 1. 1.]\n",
      " [1. 1. 1. 1. 1. 1. 1. 1. 1. 1.]\n",
      " [1. 1. 1. 1. 1. 1. 1. 1. 1. 1.]\n",
      " [1. 1. 1. 1. 1. 1. 1. 1. 1. 1.]\n",
      " [1. 1. 1. 1. 1. 1. 1. 1. 1. 1.]\n",
      " [1. 1. 1. 1. 1. 1. 1. 1. 1. 1.]]\n",
      "[10. 10. 10. 10. 10. 10. 10. 10. 10. 10.]\n",
      "[2. 2. 2. 2. 2. 2. 2. 2. 2. 2.]\n"
     ]
    }
   ],
   "source": [
    "# having fun with numpy\n",
    "# note you can note do these operations on a list however, you can directly apply the changes to arrays\n",
    "def test_numpy():\n",
    "    ax = np.array([1,2,3])\n",
    "    ay = np.array([12,13,14])\n",
    "    print(ax*2)\n",
    "    print(ax+10)\n",
    "    print(np.sqrt(ax))\n",
    "    print(np.cos(ax))\n",
    "    print(ax-ay)\n",
    "    print(np.where(ax<2,ax,ay))    # it can work like v-look up of excel\n",
    "    print(np.where(ax<3))\n",
    "    m = np.matrix([ax, ay, ax])\n",
    "    print(m)\n",
    "    print(m.T)\n",
    "    grid1 = np.zeros(shape=(10,10),dtype=float)\n",
    "    grid2 = np.ones(shape=(10,10),dtype=float)\n",
    "    print(grid1)\n",
    "    print(grid2)\n",
    "    print(grid1[1]+10)\n",
    "    print(grid2[:,2]*2)\n",
    "    \n",
    "    \n",
    "if __name__=='__main__':\n",
    "    test_numpy()\n"
   ]
  },
  {
   "cell_type": "code",
   "execution_count": 50,
   "metadata": {},
   "outputs": [
    {
     "name": "stdout",
     "output_type": "stream",
     "text": [
      "Python list approach time: 0.004052 \n",
      "Numpy array approach time: 0.001128\n"
     ]
    }
   ],
   "source": [
    "# Numpy arrays are much more efficient than python lists\n",
    "import numpy as np\n",
    "import time\n",
    "\n",
    "def traditional_approach():\n",
    "    start_time = time.time()\n",
    "    x = range(100000)\n",
    "    y = range(100000)\n",
    "    z = []\n",
    "    z = x+y\n",
    "    return time.time() - start_time\n",
    "\n",
    "\n",
    "def numpy_approach():\n",
    "    start_time = time.time()\n",
    "    x = np.arange(100000)\n",
    "    y = np.arange(100000)\n",
    "    z = x+y\n",
    "    return time.time() - start_time\n",
    "    \n",
    "if __name__=='__main__':\n",
    "    print('Python list approach time: {:.6f} '.format(traditional_approach()))\n",
    "    print('Numpy array approach time: {:02.6f}'.format(numpy_approach()))"
   ]
  },
  {
   "cell_type": "markdown",
   "metadata": {},
   "source": [
    "$$ The\\ End! $$"
   ]
  }
 ],
 "metadata": {
  "kernelspec": {
   "display_name": "Python 2",
   "language": "python",
   "name": "python2"
  },
  "language_info": {
   "codemirror_mode": {
    "name": "ipython",
    "version": 2
   },
   "file_extension": ".py",
   "mimetype": "text/x-python",
   "name": "python",
   "nbconvert_exporter": "python",
   "pygments_lexer": "ipython2",
   "version": "2.7.12"
  }
 },
 "nbformat": 4,
 "nbformat_minor": 2
}
