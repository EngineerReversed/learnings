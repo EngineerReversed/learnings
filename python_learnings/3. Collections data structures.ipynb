{
 "cells": [
  {
   "cell_type": "markdown",
   "metadata": {},
   "source": [
    "# Collection data structures\n",
    "\n",
    "Collection data structures are different from sequential data structures. They are containers which aggregate data without relating them. <br>\n",
    "Collection data structures have several properties <br>\n",
    "* membership operator (for i in j)\n",
    "* size method (len(seq))\n",
    "* iterability (for i in range(100))\n",
    "<br></br>\n",
    "\n",
    "***\n",
    "\n",
    "Two in-built types are ***sets*** and ***dicts***"
   ]
  },
  {
   "cell_type": "markdown",
   "metadata": {},
   "source": [
    "### Sets\n",
    "Sets are mutable, iterable and contains no duplicate elements. They have *O(1)* insertion complexity. Sets don't have concept of indexing i.e. you can't directly call an element based upon it's position. They support iterating i.e. you will have to traverse up to the element (*O(n)* complexity)"
   ]
  },
  {
   "cell_type": "code",
   "execution_count": 19,
   "metadata": {},
   "outputs": [
    {
     "name": "stdout",
     "output_type": "stream",
     "text": [
      "set([1, 2, 3])\n"
     ]
    }
   ],
   "source": [
    "# add method\n",
    "st = {1,2,3}\n",
    "st.add(1)\n",
    "print(st)"
   ]
  },
  {
   "cell_type": "code",
   "execution_count": 20,
   "metadata": {},
   "outputs": [
    {
     "name": "stdout",
     "output_type": "stream",
     "text": [
      "set([1, 2, 3, 4, 5])\n"
     ]
    }
   ],
   "source": [
    "# think of set as of sets from maths - you will get intersection,union etc.\n",
    "# udpate method\n",
    "another_set = {4,3,5,1}\n",
    "st.update(another_set)\n",
    "print(st)"
   ]
  },
  {
   "cell_type": "code",
   "execution_count": 21,
   "metadata": {},
   "outputs": [
    {
     "name": "stdout",
     "output_type": "stream",
     "text": [
      "set([1, 2, 3, 4, 5, 6, 7, 8, 9])\n"
     ]
    }
   ],
   "source": [
    "# union method\n",
    "another_set = {1,2,3,4,6,7,8,9}\n",
    "print(st.union(another_set))"
   ]
  },
  {
   "cell_type": "code",
   "execution_count": 40,
   "metadata": {},
   "outputs": [
    {
     "name": "stdout",
     "output_type": "stream",
     "text": [
      "set([3])\n"
     ]
    }
   ],
   "source": [
    "# intersection method - contains the elements which are in both first and second set\n",
    "set_1 = {1,2,3}\n",
    "set_2 = {3,4,5}\n",
    "print(set_1.intersection(set_2))"
   ]
  },
  {
   "cell_type": "code",
   "execution_count": 41,
   "metadata": {},
   "outputs": [
    {
     "name": "stdout",
     "output_type": "stream",
     "text": [
      "set([1, 2])\n"
     ]
    }
   ],
   "source": [
    "# difference method - contains the elements which are in first set but not in second set\n",
    "print(set_1.difference(set_2))"
   ]
  },
  {
   "cell_type": "code",
   "execution_count": 42,
   "metadata": {},
   "outputs": [
    {
     "name": "stdout",
     "output_type": "stream",
     "text": [
      "set([])\n"
     ]
    }
   ],
   "source": [
    "# clear method - removes all the elements in set\n",
    "set_1.clear()\n",
    "print(set_1)"
   ]
  },
  {
   "cell_type": "code",
   "execution_count": 43,
   "metadata": {},
   "outputs": [
    {
     "name": "stdout",
     "output_type": "stream",
     "text": [
      "set([4, 5])\n",
      "set([4, 5])\n"
     ]
    },
    {
     "ename": "KeyError",
     "evalue": "57",
     "output_type": "error",
     "traceback": [
      "\u001b[0;31m---------------------------------------------------------------------------\u001b[0m",
      "\u001b[0;31mKeyError\u001b[0m                                  Traceback (most recent call last)",
      "\u001b[0;32m<ipython-input-43-8e51361d6044>\u001b[0m in \u001b[0;36m<module>\u001b[0;34m()\u001b[0m\n\u001b[1;32m      7\u001b[0m \u001b[0;34m\u001b[0m\u001b[0m\n\u001b[1;32m      8\u001b[0m \u001b[0;31m# remove - it removes an item from set and if not found will return KeyError exception\u001b[0m\u001b[0;34m\u001b[0m\u001b[0;34m\u001b[0m\u001b[0m\n\u001b[0;32m----> 9\u001b[0;31m \u001b[0mset_2\u001b[0m\u001b[0;34m.\u001b[0m\u001b[0mremove\u001b[0m\u001b[0;34m(\u001b[0m\u001b[0;36m57\u001b[0m\u001b[0;34m)\u001b[0m\u001b[0;34m\u001b[0m\u001b[0m\n\u001b[0m\u001b[1;32m     10\u001b[0m \u001b[0;32mprint\u001b[0m\u001b[0;34m(\u001b[0m\u001b[0mset_2\u001b[0m\u001b[0;34m)\u001b[0m\u001b[0;34m\u001b[0m\u001b[0m\n\u001b[1;32m     11\u001b[0m \u001b[0mset_2\u001b[0m\u001b[0;34m.\u001b[0m\u001b[0mpop\u001b[0m\u001b[0;34m(\u001b[0m\u001b[0;34m)\u001b[0m\u001b[0;34m\u001b[0m\u001b[0m\n",
      "\u001b[0;31mKeyError\u001b[0m: 57"
     ]
    }
   ],
   "source": [
    "# discard, remove and pop method - differences\n",
    "# discard - removes an item from set and if not found will not return an error\n",
    "set_2.discard(3)\n",
    "print(set_2)\n",
    "set_2.discard(34)\n",
    "print(set_2)\n",
    "\n",
    "# remove - it removes an item from set and if not found will return KeyError exception\n",
    "set_2.remove(57)\n",
    "print(set_2)\n",
    "set_2.pop()\n",
    "print(set_2)"
   ]
  },
  {
   "cell_type": "code",
   "execution_count": 45,
   "metadata": {},
   "outputs": [
    {
     "name": "stdout",
     "output_type": "stream",
     "text": [
      "set([])\n"
     ]
    }
   ],
   "source": [
    "# pop deletes random item from set and it doesn't take any argument like lists\n",
    "set_2.pop()\n",
    "print(set_2)"
   ]
  },
  {
   "cell_type": "code",
   "execution_count": 51,
   "metadata": {},
   "outputs": [
    {
     "name": "stdout",
     "output_type": "stream",
     "text": [
      "OrderedDict([('b', 2), ('a', 1), ('c', 3)])\n",
      "OrderedDict([('a', 1), ('c', 2), ('b', 3)])\n"
     ]
    }
   ],
   "source": [
    "# applying set operations and properties on dictionaries\n",
    "from collections import OrderedDict\n",
    "\n",
    "def set_operations_with_dict():\n",
    "    pairs = [('b',2),('a',1),('c',3)]\n",
    "    d1 = OrderedDict(pairs)\n",
    "    print(d1)\n",
    "    \n",
    "    d2 = {'a':1,'c':2,'b':3}\n",
    "    \n",
    "    print(d2)\n",
    "\n",
    "if __name__=='__main__':\n",
    "    set_operations_with_dict()\n",
    "    \n",
    "    \n"
   ]
  },
  {
   "cell_type": "code",
   "execution_count": null,
   "metadata": {},
   "outputs": [],
   "source": []
  }
 ],
 "metadata": {
  "kernelspec": {
   "display_name": "Python 2",
   "language": "python",
   "name": "python2"
  },
  "language_info": {
   "codemirror_mode": {
    "name": "ipython",
    "version": 2
   },
   "file_extension": ".py",
   "mimetype": "text/x-python",
   "name": "python",
   "nbconvert_exporter": "python",
   "pygments_lexer": "ipython2",
   "version": "2.7.12"
  }
 },
 "nbformat": 4,
 "nbformat_minor": 2
}
