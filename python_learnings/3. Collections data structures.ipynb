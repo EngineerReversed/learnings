{
 "cells": [
  {
   "cell_type": "markdown",
   "metadata": {},
   "source": [
    "# Collection data structures\n",
    "\n",
    "Collection data structures are different from sequential data structures. They are containers which aggregate data without relating them. <br>\n",
    "Collection data structures have several properties <br>\n",
    "* membership operator (for i in j)\n",
    "* size method (len(seq))\n",
    "* iterability (for i in range(100))\n",
    "<br></br>\n",
    "\n",
    "***\n",
    "\n",
    "Two in-built types are ***sets*** and ***dicts***"
   ]
  },
  {
   "cell_type": "markdown",
   "metadata": {},
   "source": [
    "### Sets\n",
    "Sets are mutable, iterable and contains no duplicate elements. They have *O(1)* insertion complexity. Sets don't have concept of indexing i.e. you can't directly call an element based upon it's position. They support iterating i.e. you will have to traverse up to the element (*O(n)* complexity)"
   ]
  },
  {
   "cell_type": "code",
   "execution_count": 1,
   "metadata": {},
   "outputs": [
    {
     "name": "stdout",
     "output_type": "stream",
     "text": [
      "set([1, 2, 3])\n"
     ]
    }
   ],
   "source": [
    "# add method\n",
    "st = {1,2,3}\n",
    "st.add(1)\n",
    "print(st)"
   ]
  },
  {
   "cell_type": "code",
   "execution_count": 2,
   "metadata": {},
   "outputs": [
    {
     "name": "stdout",
     "output_type": "stream",
     "text": [
      "set([1, 2, 3, 4, 5])\n"
     ]
    }
   ],
   "source": [
    "# think of set as of sets from maths - you will get intersection,union etc.\n",
    "# udpate method\n",
    "another_set = {4,3,5,1}\n",
    "st.update(another_set)\n",
    "print(st)"
   ]
  },
  {
   "cell_type": "code",
   "execution_count": 3,
   "metadata": {},
   "outputs": [
    {
     "name": "stdout",
     "output_type": "stream",
     "text": [
      "set([1, 2, 3, 4, 5, 6, 7, 8, 9])\n"
     ]
    }
   ],
   "source": [
    "# union method\n",
    "another_set = {1,2,3,4,6,7,8,9}\n",
    "print(st.union(another_set))"
   ]
  },
  {
   "cell_type": "code",
   "execution_count": 4,
   "metadata": {},
   "outputs": [
    {
     "name": "stdout",
     "output_type": "stream",
     "text": [
      "set([3])\n"
     ]
    }
   ],
   "source": [
    "# intersection method - contains the elements which are in both first and second set\n",
    "set_1 = {1,2,3}\n",
    "set_2 = {3,4,5}\n",
    "print(set_1.intersection(set_2))"
   ]
  },
  {
   "cell_type": "code",
   "execution_count": 5,
   "metadata": {},
   "outputs": [
    {
     "name": "stdout",
     "output_type": "stream",
     "text": [
      "set([1, 2])\n"
     ]
    }
   ],
   "source": [
    "# difference method - contains the elements which are in first set but not in second set\n",
    "print(set_1.difference(set_2))"
   ]
  },
  {
   "cell_type": "code",
   "execution_count": 6,
   "metadata": {},
   "outputs": [
    {
     "name": "stdout",
     "output_type": "stream",
     "text": [
      "set([])\n"
     ]
    }
   ],
   "source": [
    "# clear method - removes all the elements in set\n",
    "set_1.clear()\n",
    "print(set_1)"
   ]
  },
  {
   "cell_type": "code",
   "execution_count": 7,
   "metadata": {},
   "outputs": [
    {
     "name": "stdout",
     "output_type": "stream",
     "text": [
      "set([4, 5])\n",
      "set([4, 5])\n"
     ]
    },
    {
     "ename": "KeyError",
     "evalue": "57",
     "output_type": "error",
     "traceback": [
      "\u001b[0;31m---------------------------------------------------------------------------\u001b[0m",
      "\u001b[0;31mKeyError\u001b[0m                                  Traceback (most recent call last)",
      "\u001b[0;32m<ipython-input-7-8e51361d6044>\u001b[0m in \u001b[0;36m<module>\u001b[0;34m()\u001b[0m\n\u001b[1;32m      7\u001b[0m \u001b[0;34m\u001b[0m\u001b[0m\n\u001b[1;32m      8\u001b[0m \u001b[0;31m# remove - it removes an item from set and if not found will return KeyError exception\u001b[0m\u001b[0;34m\u001b[0m\u001b[0;34m\u001b[0m\u001b[0m\n\u001b[0;32m----> 9\u001b[0;31m \u001b[0mset_2\u001b[0m\u001b[0;34m.\u001b[0m\u001b[0mremove\u001b[0m\u001b[0;34m(\u001b[0m\u001b[0;36m57\u001b[0m\u001b[0;34m)\u001b[0m\u001b[0;34m\u001b[0m\u001b[0m\n\u001b[0m\u001b[1;32m     10\u001b[0m \u001b[0;32mprint\u001b[0m\u001b[0;34m(\u001b[0m\u001b[0mset_2\u001b[0m\u001b[0;34m)\u001b[0m\u001b[0;34m\u001b[0m\u001b[0m\n\u001b[1;32m     11\u001b[0m \u001b[0mset_2\u001b[0m\u001b[0;34m.\u001b[0m\u001b[0mpop\u001b[0m\u001b[0;34m(\u001b[0m\u001b[0;34m)\u001b[0m\u001b[0;34m\u001b[0m\u001b[0m\n",
      "\u001b[0;31mKeyError\u001b[0m: 57"
     ]
    }
   ],
   "source": [
    "# discard, remove and pop method - differences\n",
    "# discard - removes an item from set and if not found will not return an error\n",
    "set_2.discard(3)\n",
    "print(set_2)\n",
    "set_2.discard(34)\n",
    "print(set_2)\n",
    "\n",
    "# remove - it removes an item from set and if not found will return KeyError exception\n",
    "set_2.remove(57)\n",
    "print(set_2)\n",
    "set_2.pop()\n",
    "print(set_2)"
   ]
  },
  {
   "cell_type": "code",
   "execution_count": 8,
   "metadata": {},
   "outputs": [
    {
     "name": "stdout",
     "output_type": "stream",
     "text": [
      "set([5])\n"
     ]
    }
   ],
   "source": [
    "# pop deletes random item from set and it doesn't take any argument like lists\n",
    "set_2.pop()\n",
    "print(set_2)"
   ]
  },
  {
   "cell_type": "markdown",
   "metadata": {},
   "source": [
    "### Dictionaries\n",
    "Dictionaries in python are implemented using hash tables. It has collection mapping type. It has several properties like sets.\n",
    "* iterable (for key,value in dict.items())\n",
    "* membership (for i in dict)\n",
    "* size function (len(dict))\n",
    "***\n",
    "Acessing items in dictionary happen in *O(1)* time. They are mutable but do not have any concept of indexing so they can't be sliced or striped. They are unordered by default."
   ]
  },
  {
   "cell_type": "code",
   "execution_count": 22,
   "metadata": {},
   "outputs": [
    {
     "name": "stdout",
     "output_type": "stream",
     "text": [
      "OrderedDict([('b', 2), ('a', 1), ('c', 3)])\n",
      "{'a': 1, 'c': 2, 'e': 4, 'd': 3}\n",
      "['b', 'a', 'c', 'a', 'c', 'e', 'd']\n",
      "['a', 'c', 'e', 'd']\n"
     ]
    }
   ],
   "source": [
    "# applying set operations and properties on dictionaries\n",
    "from collections import OrderedDict\n",
    "\n",
    "def set_operations_with_dict():\n",
    "    pairs = [('b',2),('a',1),('c',3)]\n",
    "    d1 = OrderedDict(pairs)\n",
    "    print(d1)\n",
    "    \n",
    "    d2 = dict({'a':1,'c':2,'d':3,'e':4})\n",
    "    print(d2)\n",
    "    \n",
    "    union_keys = d1.keys() + d2.keys()\n",
    "    print(union_keys)\n",
    "    \n",
    "    intersection_keys = d1.keys() and d2.keys()\n",
    "    print(intersection_keys)\n",
    "\n",
    "    \n",
    "\n",
    "if __name__=='__main__':\n",
    "    set_operations_with_dict()\n",
    "    \n",
    "    \n"
   ]
  },
  {
   "cell_type": "code",
   "execution_count": 49,
   "metadata": {},
   "outputs": [
    {
     "name": "stdout",
     "output_type": "stream",
     "text": [
      "('usual dictionary time: ', 0.00084686279296875)\n",
      "('setdefault dictionary time: ', 0.001889944076538086)\n"
     ]
    }
   ],
   "source": [
    "# Methods for dictionaries\n",
    "# setdefault() method\n",
    "# won't throw error if key is not found in dictionary - will set a default value and insert the key\n",
    "import timeit\n",
    "dictionary = (('key1','value1'),\n",
    "                 ('key2','value2'),\n",
    "                 ('key3','value3'),\n",
    "                  ('key4','value4'))\n",
    "def usual_dictionary():\n",
    "    new_data = {}\n",
    "    for k,v in dictionary:\n",
    "        if k in new_data:\n",
    "            new_data[k].append(v)\n",
    "        else:\n",
    "            new_data[k]=v\n",
    "    return new_data\n",
    "\n",
    "def setdefault_dictionary():\n",
    "    new_data = {}\n",
    "    for k,v in dictionary:\n",
    "        new_data.setdefault(k,[]).append(v)\n",
    "    return new_data\n",
    "\n",
    "def test_dictionary():\n",
    "    \n",
    "    t1 = timeit.Timer('usual_dictionary()', 'from __main__ import usual_dictionary')\n",
    "    print('usual dictionary time: ',t1.timeit(number=1000))\n",
    "    t2 = timeit.Timer('setdefault_dictionary()','from __main__ import setdefault_dictionary')\n",
    "    print('setdefault dictionary time: ',t2.timeit(number=1000))\n",
    "    \n",
    "\n",
    "if __name__=='__main__':\n",
    "    test_dictionary()"
   ]
  },
  {
   "cell_type": "code",
   "execution_count": 71,
   "metadata": {},
   "outputs": [
    {
     "name": "stdout",
     "output_type": "stream",
     "text": [
      "{'a': 3, 'b': 2}\n"
     ]
    }
   ],
   "source": [
    "# update() method for including key value pair and it overwrites the existing key\n",
    "d1 = {'a':1,'b':2}\n",
    "d1.update({'a':3})\n",
    "print(d1)"
   ]
  },
  {
   "cell_type": "code",
   "execution_count": 72,
   "metadata": {},
   "outputs": [
    {
     "name": "stdout",
     "output_type": "stream",
     "text": [
      "3\n",
      "None\n"
     ]
    }
   ],
   "source": [
    "# get() method - returns the value for the key\n",
    "print(d1.get('a'))\n",
    "print(d1.get('c'))    # returns None if not found"
   ]
  },
  {
   "cell_type": "code",
   "execution_count": 73,
   "metadata": {},
   "outputs": [
    {
     "name": "stdout",
     "output_type": "stream",
     "text": [
      "[('a', 3), ('b', 2)]\n",
      "['a', 'b']\n",
      "[3, 2]\n"
     ]
    }
   ],
   "source": [
    "# items(), values() and keys() methods in dictionary\n",
    "print(d1.items())\n",
    "print(d1.keys())\n",
    "print(d1.values())"
   ]
  },
  {
   "cell_type": "code",
   "execution_count": 74,
   "metadata": {},
   "outputs": [
    {
     "name": "stdout",
     "output_type": "stream",
     "text": [
      "{'b': 2}\n",
      "{}\n"
     ]
    }
   ],
   "source": [
    "# pop() and popitem() methods in dictionary\n",
    "d1.pop('a')    # removes specified item from dictionary\n",
    "print(d1)    \n",
    "d1.popitem()    # removes random item from dictionary\n",
    "print(d1)\n"
   ]
  },
  {
   "cell_type": "code",
   "execution_count": 81,
   "metadata": {},
   "outputs": [
    {
     "name": "stdout",
     "output_type": "stream",
     "text": [
      "{'a': 1, 'b': 2}\n",
      "{}\n"
     ]
    }
   ],
   "source": [
    "# clear() function in dictionary - clears all items in dictionary\n",
    "d2 = dict([('a',1),('b',2)])\n",
    "print(d2)\n",
    "d2.clear()\n",
    "print(d2)"
   ]
  },
  {
   "cell_type": "code",
   "execution_count": 96,
   "metadata": {},
   "outputs": [
    {
     "name": "stdout",
     "output_type": "stream",
     "text": [
      "i\tlist_time\tdict_time\n",
      "10000\t0.0580\t\t0.0007\n",
      "30000\t0.1586\t\t0.0007\n",
      "50000\t0.2708\t\t0.0008\n",
      "70000\t0.3770\t\t0.0007\n",
      "90000\t0.4932\t\t0.0008\n",
      "110000\t0.6200\t\t0.0009\n",
      "130000\t0.7170\t\t0.0009\n",
      "150000\t0.8412\t\t0.0009\n",
      "170000\t0.9176\t\t0.0008\n",
      "190000\t1.1050\t\t0.0008\n"
     ]
    }
   ],
   "source": [
    "# Runtime analysis for dictionaries\n",
    "# dictionaries are faster to form\n",
    "\n",
    "import timeit\n",
    "import random\n",
    "print('i\\tlist_time\\tdict_time')\n",
    "for i in range(10000,200000,20000):\n",
    "    t = timeit.Timer('random.randrange(%d) in x'%i,'from __main__ import random,x')\n",
    "    x = list(range(i))\n",
    "    list_time = t.timeit(number=1000)\n",
    "    x = {j:None for j in range(i)}\n",
    "    dict_time = t.timeit(number=1000)\n",
    "    print('%d\\t%5.4f\\t\\t%5.4f'%(i,list_time,dict_time))\n",
    "    \n",
    "\n",
    "\n",
    "\n"
   ]
  },
  {
   "cell_type": "markdown",
   "metadata": {},
   "source": [
    "Time complexity for dictionaries for membership operation is almost constant ~ *O(1)*\n",
    "***\n",
    "| Operation | Big-O efficiency |\n",
    "| --- | --- |\n",
    "| copy item | O(n) |\n",
    "| get item | O(1) |\n",
    "| set item | O(1) |\n",
    "| delete item | O(1) |\n",
    "| contains item (in) | O(1) |\n",
    "| iteration over items | O(1) |"
   ]
  },
  {
   "cell_type": "code",
   "execution_count": 8,
   "metadata": {},
   "outputs": [
    {
     "name": "stdout",
     "output_type": "stream",
     "text": [
      "('a', ':', 1)\n",
      "('b', ':', 2)\n",
      "('c', ':', 3)\n",
      "('d', ':', 4)\n",
      "('e', ':', 5)\n"
     ]
    }
   ],
   "source": [
    "# Iterating over dictionaries\n",
    "dictionary = {'a':1,'b':2,'c':3,'d':4,'e':5}\n",
    "for value in sorted(dictionary.values()):\n",
    "    print(list(dictionary.keys())[list(dictionary.values()).index(value)],':',value)"
   ]
  },
  {
   "cell_type": "code",
   "execution_count": 18,
   "metadata": {},
   "outputs": [
    {
     "name": "stdout",
     "output_type": "stream",
     "text": [
      "['a', 1]\n",
      "['c', 3]\n"
     ]
    }
   ],
   "source": [
    "# using next() iterator to get value one by one\n",
    "G = ([key,value] for key,value in dictionary.items())\n",
    "print(next(G))\n",
    "print(next(G))"
   ]
  },
  {
   "cell_type": "code",
   "execution_count": 23,
   "metadata": {},
   "outputs": [
    {
     "name": "stdout",
     "output_type": "stream",
     "text": [
      "('a', 1)\n",
      "('c', 3)\n",
      "('b', 2)\n",
      "('e', 5)\n",
      "('d', 4)\n"
     ]
    }
   ],
   "source": [
    "# using yield preserves the benefit of iterables and generators\n",
    "def yield_dictionary():\n",
    "    for key,value in dictionary.items():\n",
    "        yield key,value\n",
    "for i in yield_dictionary():\n",
    "    print(i)"
   ]
  },
  {
   "cell_type": "code",
   "execution_count": 80,
   "metadata": {},
   "outputs": [
    {
     "name": "stdout",
     "output_type": "stream",
     "text": [
      "('usual dictionary time-period: ', 5.0067901611328125e-06)\n",
      "('defaultdict dictionary time-period: ', 5.9604644775390625e-06)\n"
     ]
    }
   ],
   "source": [
    "# Python's collection data types - high performance; built-in\n",
    "# defaultdict can help to have default keys as None directly with having to value for key to be intialized\n",
    "from collections import defaultdict\n",
    "import time\n",
    "\n",
    "def defaultdict_example():\n",
    "    pair = {('a',1),('b',2),('c',3),('d',4)}\n",
    "    \n",
    "    start_time = time.time()\n",
    "    d1 = {}\n",
    "    for key,value in pair:\n",
    "        if key not in d1:\n",
    "            d1[key]=[]\n",
    "        d1[key].append(value)\n",
    "    end_time = time.time()\n",
    "    print('usual dictionary time-period: ',end_time-start_time)\n",
    "    \n",
    "    start_time = time.time()\n",
    "    d2 = defaultdict(list)\n",
    "    for key,value in pair:\n",
    "        d2[key].append(value)\n",
    "    end_time = time.time()\n",
    "    print('defaultdict dictionary time-period: ',end_time-start_time)\n",
    "\n",
    "    \n",
    "if __name__=='__main__':\n",
    "    defaultdict_example()\n"
   ]
  },
  {
   "cell_type": "code",
   "execution_count": 86,
   "metadata": {},
   "outputs": [
    {
     "data": {
      "text/plain": [
       "OrderedDict([('abhi', 'Hyderabad'),\n",
       "             ('pulkit', 'Mainpuri'),\n",
       "             ('arpit', 'delhi')])"
      ]
     },
     "execution_count": 86,
     "metadata": {},
     "output_type": "execute_result"
    }
   ],
   "source": [
    "# Ordered dictionaries - they store items in insertion order\n",
    "from collections import OrderedDict\n",
    "dct = OrderedDict()\n",
    "dct['abhi'] = 'Hyderabad'\n",
    "dct['pulkit'] = 'Mainpuri'\n",
    "dct['arpit']= 'delhi'\n",
    "dct\n"
   ]
  },
  {
   "cell_type": "code",
   "execution_count": 87,
   "metadata": {},
   "outputs": [
    {
     "data": {
      "text/plain": [
       "('arpit', 'delhi')"
      ]
     },
     "execution_count": 87,
     "metadata": {},
     "output_type": "execute_result"
    }
   ],
   "source": [
    "dct.popitem('abhi')    # returns the last item in dictionary"
   ]
  },
  {
   "cell_type": "code",
   "execution_count": 9,
   "metadata": {},
   "outputs": [
    {
     "name": "stdout",
     "output_type": "stream",
     "text": [
      "Counter({5: 4, 1: 3, 2: 3, 3: 1, 4: 1})\n",
      "Counter({1: 4, 2: 4, 5: 4, 3: 2, 4: 1})\n",
      "Counter({5: 5, 1: 4, 2: 4, 3: 2, 4: 2, 6: 1})\n",
      "Counter({5: 6, 1: 4, 2: 4, 4: 3, 3: 2, 6: 2})\n",
      "Counter({1: 4, 2: 4, 5: 4, 3: 2, 4: 1})\n"
     ]
    }
   ],
   "source": [
    "# Counter dictionaries\n",
    "# subclass for counting hashable objects\n",
    "# dictionary that maps the item to the number of occurences\n",
    "from collections import Counter\n",
    "\n",
    "def Counter_example():\n",
    "    'some relevant examples for counter'\n",
    "    seq1 = [1, 2, 3, 5, 1, 2, 5, 5, 2, 5, 1, 4]\n",
    "    # can be really helpful to form a word frequency type of dictionary in NLP as well\n",
    "    seq_counts = Counter(seq1)\n",
    "    print(seq_counts)\n",
    "    \n",
    "    seq2 = [1,2,3]\n",
    "    seq_counts.update(seq2)\n",
    "    print(seq_counts)\n",
    "    \n",
    "    seq3 = [4,5,6]\n",
    "    for key in seq3:\n",
    "        seq_counts[key]+=1\n",
    "    print(seq_counts)\n",
    "\n",
    "    # set operations can also be used a+b and a-b\n",
    "    seq_counts_2 = Counter(seq3)\n",
    "    print(seq_counts+seq_counts_2)\n",
    "    print(seq_counts-seq_counts_2)\n",
    "    \n",
    "if __name__=='__main__':\n",
    "    Counter_example()"
   ]
  },
  {
   "cell_type": "code",
   "execution_count": 15,
   "metadata": {},
   "outputs": [
    {
     "name": "stdout",
     "output_type": "stream",
     "text": [
      "Test passed\n"
     ]
    }
   ],
   "source": [
    "# Traditional examples - counting frequency of items\n",
    "# using most_common function of Counter\n",
    "from collections import Counter\n",
    "\n",
    "def top_N_recurring_words(seq,N):\n",
    "    counter_obj = Counter()\n",
    "    \n",
    "    for word in seq.split():\n",
    "        counter_obj[word]+=1\n",
    "    return counter_obj.most_common(N)\n",
    "\n",
    "def test_top_N_recurring_words():\n",
    "    seq = 'buffy angel monster xander a willow gg buffy the monster super buffy angel'\n",
    "    N = 3\n",
    "    assert(top_N_recurring_words(seq,N)==[('buffy', 3),('monster', 2), ('angel', 2)])\n",
    "    print('Test passed')\n",
    "    \n",
    "    \n",
    "if __name__=='__main__':\n",
    "    test_top_N_recurring_words()"
   ]
  },
  {
   "cell_type": "code",
   "execution_count": 92,
   "metadata": {},
   "outputs": [
    {
     "name": "stdout",
     "output_type": "stream",
     "text": [
      "Anagrams\n",
      "Not Anagrams\n"
     ]
    }
   ],
   "source": [
    "# Finding Anagrams using \n",
    "import string\n",
    "\n",
    "def anagrams(str1,str2):\n",
    "    anagram_table = {key:0 for key in string.ascii_lowercase}\n",
    "    \n",
    "    for i in str1:\n",
    "        anagram_table[i]+=1\n",
    "        \n",
    "    for i in str2:\n",
    "        anagram_table[i]-=1\n",
    "\n",
    "    if len(set(anagram_table.values())) < 2:\n",
    "        print('Anagrams')\n",
    "    else:\n",
    "        print('Not Anagrams')\n",
    "        \n",
    "def counter_anagram(str1,str2):\n",
    "    counter_str1 = Counter(list(str1))\n",
    "    counter_str2 = Counter(list(str2))\n",
    "    if counter_str1==counter_str2:\n",
    "        print('Anagrams')\n",
    "    else:\n",
    "        print('Not Anagrams')\n",
    "\n",
    "if __name__=='__main__':\n",
    "    anagrams('abhishek','kehsihba')\n",
    "    counter_anagram('abhishek','pulkit')\n"
   ]
  },
  {
   "cell_type": "code",
   "execution_count": 101,
   "metadata": {},
   "outputs": [
    {
     "name": "stdout",
     "output_type": "stream",
     "text": [
      "Anagrams\n"
     ]
    }
   ],
   "source": [
    "# finding anagrams using hashing function - ord returns an integer representing Unicode point object\n",
    "def hash_function(astring,tablesize):\n",
    "    sum = 0\n",
    "    for position in range(len(astring)):\n",
    "        sum += ord(astring[position])\n",
    "    return sum%tablesize\n",
    "\n",
    "if __name__=='__main__':\n",
    "\n",
    "    assert hash_function('abhishek',11)==hash_function('kehsihba',11), 'Not Anagrams'\n",
    "    print('Anagrams')\n",
    "        "
   ]
  },
  {
   "cell_type": "code",
   "execution_count": 104,
   "metadata": {},
   "outputs": [
    {
     "name": "stdout",
     "output_type": "stream",
     "text": [
      "[4, [[1, 4], [2, 3], [3, 2], [4, 1]]]\n"
     ]
    }
   ],
   "source": [
    "# Sum of paths - find combination of dices such that results sums to a fixed number\n",
    "from collections import Counter, defaultdict\n",
    "\n",
    "def find_dice_prob(S,n_faces=6):\n",
    "    if S>2*n_faces or S < 2:\n",
    "        return None\n",
    "    cdict = Counter()\n",
    "    ddict = defaultdict(list)\n",
    "    for dice1 in range(1,n_faces+1):\n",
    "        for dice2 in range(1,n_faces+2):\n",
    "            t = [dice1,dice2]\n",
    "            cdict[dice1+dice2]+=1\n",
    "            ddict[dice1+dice2].append(t)\n",
    "    return [cdict[S],ddict[S]]\n",
    "\n",
    "if __name__=='__main__':\n",
    "    print(find_dice_prob(5,6))"
   ]
  },
  {
   "cell_type": "code",
   "execution_count": 105,
   "metadata": {},
   "outputs": [
    {
     "name": "stdout",
     "output_type": "stream",
     "text": [
      "abisek\n"
     ]
    }
   ],
   "source": [
    "# Finding duplicates in a string and delete all of them\n",
    "import string\n",
    "def delete_unique_word(str1):\n",
    "    table_c = {key:0 for key in string.ascii_lowercase}\n",
    "    \n",
    "    for i in str1:\n",
    "        table_c[i]+=1\n",
    "    \n",
    "    for key,value in table_c.items():\n",
    "        if value>1:\n",
    "            str1 = str1.replace(key,\"\")\n",
    "    return str1\n",
    "\n",
    "if __name__=='__main__':\n",
    "    print(delete_unique_word('abhishek'))\n"
   ]
  },
  {
   "cell_type": "markdown",
   "metadata": {},
   "source": [
    "$$ The\\ End $$"
   ]
  }
 ],
 "metadata": {
  "kernelspec": {
   "display_name": "Python 2",
   "language": "python",
   "name": "python2"
  },
  "language_info": {
   "codemirror_mode": {
    "name": "ipython",
    "version": 2
   },
   "file_extension": ".py",
   "mimetype": "text/x-python",
   "name": "python",
   "nbconvert_exporter": "python",
   "pygments_lexer": "ipython2",
   "version": "2.7.12"
  }
 },
 "nbformat": 4,
 "nbformat_minor": 2
}
