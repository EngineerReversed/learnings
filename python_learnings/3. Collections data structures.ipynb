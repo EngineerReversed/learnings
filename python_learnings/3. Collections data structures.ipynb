{
 "cells": [
  {
   "cell_type": "markdown",
   "metadata": {},
   "source": [
    "# Collection data structures\n",
    "\n",
    "Collection data structures are different from sequential data structures. They are containers which aggregate data without relating them. <br>\n",
    "Collection data structures have several properties <br>\n",
    "* membership operator (for i in j)\n",
    "* size method (len(seq))\n",
    "* iterability (for i in range(100))\n",
    "<br></br>\n",
    "\n",
    "***\n",
    "\n",
    "Two in-built types are ***sets*** and ***dicts***"
   ]
  },
  {
   "cell_type": "code",
   "execution_count": null,
   "metadata": {},
   "outputs": [],
   "source": []
  }
 ],
 "metadata": {
  "kernelspec": {
   "display_name": "Python 2",
   "language": "python",
   "name": "python2"
  },
  "language_info": {
   "codemirror_mode": {
    "name": "ipython",
    "version": 2
   },
   "file_extension": ".py",
   "mimetype": "text/x-python",
   "name": "python",
   "nbconvert_exporter": "python",
   "pygments_lexer": "ipython2",
   "version": "2.7.12"
  }
 },
 "nbformat": 4,
 "nbformat_minor": 2
}
