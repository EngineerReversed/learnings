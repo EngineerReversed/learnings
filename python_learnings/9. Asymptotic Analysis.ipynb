{
 "cells": [
  {
   "cell_type": "markdown",
   "metadata": {},
   "source": [
    "# Asymptotic Analysis"
   ]
  },
  {
   "cell_type": "markdown",
   "metadata": {},
   "source": [
    "It is a method to describe the limiting behaviour of algorithms when subjected to very large input datasets. "
   ]
  },
  {
   "cell_type": "markdown",
   "metadata": {},
   "source": [
    "* *Complexity class*: set of problems with related complexity\n",
    "* *Reduction*: transformation of one problem into another problem which is at least as difficult as the original problem (e.g. polynomial time reduction)\n",
    "* *Hard problem*: class of problems if the problem can be reduced to original problem\n"
   ]
  },
  {
   "cell_type": "markdown",
   "metadata": {},
   "source": [
    "<img align=\"center\" src=\"./images/Complexity_chart_1.jpg\" alt=\"complexity chart\" width=\"800\" height=\"800\"/>"
   ]
  },
  {
   "cell_type": "markdown",
   "metadata": {},
   "source": [
    "Big O notation is used in Computer Science to describe the performance or complexity of an algorithm. Big O specifically describes the worst-case scenario, and can be used to describe the execution time required or the space used (e.g. in memory or on disk) by an algorithm.     \n",
    "<br>\n",
    "**O(1)** has the lowest algorithmic complexity and **O(n!)** has the highest algorithmic complexity.<br>\n",
    "Note: For small input datasets, the algorithmic complexity or behaviour is different. "
   ]
  },
  {
   "cell_type": "markdown",
   "metadata": {},
   "source": [
    "<img align=\"center\" src=\"./images/Complexity_chart_2.png\" alt=\"complexity chart\" width=\"400\" height=\"400\"/>"
   ]
  },
  {
   "cell_type": "markdown",
   "metadata": {},
   "source": [
    "### O(1)"
   ]
  },
  {
   "cell_type": "markdown",
   "metadata": {},
   "source": [
    "O(1) describes an algorithm that will always execute in the same time (or space) regardless of the size of the input data set."
   ]
  },
  {
   "cell_type": "code",
   "execution_count": 12,
   "metadata": {},
   "outputs": [],
   "source": [
    "def IsFirstElementNull(elements):\n",
    "    return elements[0] == null"
   ]
  },
  {
   "cell_type": "markdown",
   "metadata": {},
   "source": [
    "In this case, we are just looking at elements[0] - only one element.\n",
    "___"
   ]
  },
  {
   "cell_type": "markdown",
   "metadata": {},
   "source": [
    "### O(N)"
   ]
  },
  {
   "cell_type": "markdown",
   "metadata": {},
   "source": [
    "O(N) describes an algorithm which grows linearly in proportion to the size of the input."
   ]
  },
  {
   "cell_type": "code",
   "execution_count": 13,
   "metadata": {},
   "outputs": [],
   "source": [
    "def ContainsValue(elements, value):\n",
    "    for element in elements:\n",
    "        if element == value:\n",
    "            return true\n",
    "    return false"
   ]
  },
  {
   "cell_type": "markdown",
   "metadata": {},
   "source": [
    "In this case, we are looking for matching a string value in elements. String match may occur at the first comparison itself but in the worst case, it will happen at the last part of the loop thereby iterating over whole loop.\n",
    "___"
   ]
  },
  {
   "cell_type": "markdown",
   "metadata": {},
   "source": [
    "### O(N<sup>2</sup>)"
   ]
  },
  {
   "cell_type": "markdown",
   "metadata": {},
   "source": [
    "O(N2) describes an algorithm which grows proportionally to the square of the size of the input dataset. Algorithms with nested iterations may result in O(N3), O(N4) etc."
   ]
  },
  {
   "cell_type": "code",
   "execution_count": 17,
   "metadata": {},
   "outputs": [],
   "source": [
    "def ContainsDuplicates(elements):\n",
    "    outer = 0\n",
    "    for outer in range(len(elements)):\n",
    "        inner = 0\n",
    "        for inner in range(len(elements)):\n",
    "        # Don't compare with self\n",
    "            if outer == inner:\n",
    "                continue\n",
    "            if elements[outer] == elements[inner]:\n",
    "                return true\n",
    "    return false"
   ]
  },
  {
   "cell_type": "code",
   "execution_count": null,
   "metadata": {},
   "outputs": [],
   "source": []
  }
 ],
 "metadata": {
  "kernelspec": {
   "display_name": "Python 2",
   "language": "python",
   "name": "python2"
  },
  "language_info": {
   "codemirror_mode": {
    "name": "ipython",
    "version": 2
   },
   "file_extension": ".py",
   "mimetype": "text/x-python",
   "name": "python",
   "nbconvert_exporter": "python",
   "pygments_lexer": "ipython2",
   "version": "2.7.15rc1"
  }
 },
 "nbformat": 4,
 "nbformat_minor": 2
}
