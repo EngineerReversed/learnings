{
 "cells": [
  {
   "cell_type": "markdown",
   "metadata": {},
   "source": [
    "# Asymptotic Analysis"
   ]
  },
  {
   "cell_type": "markdown",
   "metadata": {},
   "source": [
    "It is a method to describe the limiting behaviour of algorithms when subjected to very large input datasets. "
   ]
  },
  {
   "cell_type": "markdown",
   "metadata": {},
   "source": [
    "* *Complexity class*: set of problems with related complexity\n",
    "* *Reduction*: transformation of one problem into another problem which is at least as difficult as the original problem (e.g. polynomial time reduction)\n",
    "* *Hard problem*: class of problems if the problem can be reduced to original problem\n"
   ]
  },
  {
   "cell_type": "markdown",
   "metadata": {},
   "source": [
    "<img align=\"center\" src=\"./images/Complexity_chart_1.jpg\" alt=\"complexity chart\" width=\"800\" height=\"800\"/>"
   ]
  },
  {
   "cell_type": "markdown",
   "metadata": {},
   "source": [
    "Big O notation is used in Computer Science to describe the performance or complexity of an algorithm. Big O specifically describes the worst-case scenario, and can be used to describe the execution time required or the space used (e.g. in memory or on disk) by an algorithm.     \n",
    "<br>\n",
    "**O(1)** has the lowest algorithmic complexity and **O(n!)** has the highest algorithmic complexity.<br>\n",
    "Note: For small input datasets, the algorithmic complexity or behaviour is different. "
   ]
  },
  {
   "cell_type": "markdown",
   "metadata": {},
   "source": [
    "<img align=\"center\" src=\"./images/Complexity_chart_2.png\" alt=\"complexity chart\" width=\"400\" height=\"400\"/>"
   ]
  },
  {
   "cell_type": "markdown",
   "metadata": {},
   "source": [
    "### O(1)"
   ]
  },
  {
   "cell_type": "markdown",
   "metadata": {},
   "source": [
    "O(1) describes an algorithm that will always execute in the same time (or space) regardless of the size of the input data set."
   ]
  },
  {
   "cell_type": "code",
   "execution_count": 12,
   "metadata": {},
   "outputs": [],
   "source": [
    "def IsFirstElementNull(elements):\n",
    "    return elements[0] == null"
   ]
  },
  {
   "cell_type": "markdown",
   "metadata": {},
   "source": [
    "In this case, we are just looking at elements[0] - only one element.\n",
    "___"
   ]
  },
  {
   "cell_type": "markdown",
   "metadata": {},
   "source": [
    "### O(N)"
   ]
  },
  {
   "cell_type": "markdown",
   "metadata": {},
   "source": [
    "O(N) describes an algorithm which grows linearly in proportion to the size of the input."
   ]
  },
  {
   "cell_type": "code",
   "execution_count": 13,
   "metadata": {},
   "outputs": [],
   "source": [
    "def ContainsValue(elements, value):\n",
    "    for element in elements:\n",
    "        if element == value:\n",
    "            return true\n",
    "    return false"
   ]
  },
  {
   "cell_type": "markdown",
   "metadata": {},
   "source": [
    "In this case, we are looking for matching a string value in elements. String match may occur at the first comparison itself but in the worst case, it will happen at the last part of the loop thereby iterating over whole loop.\n",
    "___"
   ]
  },
  {
   "cell_type": "markdown",
   "metadata": {},
   "source": [
    "### O(N<sup>2</sup>)"
   ]
  },
  {
   "cell_type": "markdown",
   "metadata": {},
   "source": [
    "O(N<sup>2</sup>) describes an algorithm which grows proportionally to the square of the size of the input dataset. Algorithms with nested iterations may result in O(N<sup>3</sup>), O(N<sup>4</sup>) etc."
   ]
  },
  {
   "cell_type": "code",
   "execution_count": 18,
   "metadata": {},
   "outputs": [],
   "source": [
    "def ContainsDuplicates(elements):\n",
    "    outer = 0\n",
    "    for outer in range(len(elements)):\n",
    "        inner = 0\n",
    "        for inner in range(len(elements)):\n",
    "        # Don't compare with self\n",
    "            if outer == inner:\n",
    "                continue\n",
    "            if elements[outer] == elements[inner]:\n",
    "                return true\n",
    "    return false"
   ]
  },
  {
   "cell_type": "markdown",
   "metadata": {},
   "source": [
    "___\n",
    "### O(2<sup>N</sup>)"
   ]
  },
  {
   "cell_type": "markdown",
   "metadata": {},
   "source": [
    "O(2<sup>N</sup>) describes an algorithm which grows exponentially in proportion to the size of the input dataset. With every addtion to the input, complexity doubles. The curve is like a plateau in the starting but rises at a rapid rate.            "
   ]
  },
  {
   "cell_type": "code",
   "execution_count": 20,
   "metadata": {},
   "outputs": [],
   "source": [
    "def Fibonacci(number):\n",
    "    if number <= 1:\n",
    "        return number\n",
    "    return Fibonacci(number - 2) + Fibonacci(number - 1)"
   ]
  },
  {
   "cell_type": "markdown",
   "metadata": {},
   "source": [
    "In this Fibonacci example, calculation of Fibonacci numbers via recursion makes the algorithm complexity grow exponentially.\n",
    "___"
   ]
  },
  {
   "cell_type": "markdown",
   "metadata": {},
   "source": [
    "### Logarithms (Log N)"
   ]
  },
  {
   "cell_type": "markdown",
   "metadata": {},
   "source": [
    "Binary search is searching algorithms which operates on sorted datasets. It halves the dataset in each iteration thereby improving at each step. It produces a growth curve that peaks at the beginning and slowly flattens out as the size of the data sets increases. E.g. an input data set containing 10 items takes one second to complete, a data set containing 100 items takes two seconds, and a data set containing 1000 items will take three seconds.\n",
    "<br><br>Doubling the size of the input data set has little effect on its growth as after a single iteration of the algorithm the data set will be halved and therefore on a par with an input data set half the size. This makes algorithms like binary search extremely efficient when dealing with large data sets."
   ]
  },
  {
   "cell_type": "markdown",
   "metadata": {},
   "source": [
    "<img align=\"center\" src=\"./images/data_structure_complexity.jpg\" alt=\"complexity chart\" width=\"800\" height=\"800\"/>"
   ]
  },
  {
   "cell_type": "markdown",
   "metadata": {},
   "source": [
    "<img align=\"center\" src=\"./images/Complexity_chart_3.jpg\" alt=\"complexity chart\" width=\"600\" height=\"600\"/>"
   ]
  },
  {
   "cell_type": "markdown",
   "metadata": {},
   "source": [
    "___\n",
    "## Class of problems"
   ]
  },
  {
   "cell_type": "markdown",
   "metadata": {},
   "source": [
    "### P"
   ]
  },
  {
   "cell_type": "markdown",
   "metadata": {},
   "source": [
    "It is the complexity class of decision problems that can be solved on a deterministic Turing machine in polynomial time(in the worst case). If we can turn a problem into decision problem, the result would belong to P."
   ]
  },
  {
   "cell_type": "markdown",
   "metadata": {},
   "source": [
    "### NP"
   ]
  },
  {
   "cell_type": "markdown",
   "metadata": {},
   "source": [
    "The complexity class of decision problems that can be solved on a non-deterministic Turing machine in polynomial time(in the worst case). <br>\n",
    "All *yes* instances of NP problems can be solved in polynomial time with non-deterministic Turing machine. *Complete* problems are those who can be reduced to NP. \n",
    "<br>"
   ]
  },
  {
   "cell_type": "markdown",
   "metadata": {},
   "source": [
    "### NP Hard"
   ]
  },
  {
   "cell_type": "markdown",
   "metadata": {},
   "source": [
    "The set of problems which are at least as hard as NP but need not be itself in NP. e.g. Travelling salesman problem - finding shortest route in a graph."
   ]
  },
  {
   "cell_type": "markdown",
   "metadata": {},
   "source": [
    "___"
   ]
  },
  {
   "cell_type": "markdown",
   "metadata": {},
   "source": [
    "## Recursion"
   ]
  },
  {
   "cell_type": "markdown",
   "metadata": {},
   "source": [
    "There are three laws of recursion:\n",
    "1. Every recursion problem must have a base case.\n",
    "2. Every recursion problem must proceed towards base case.\n",
    "3. Every recursion problem must call itself, recursively.\n",
    "\n",
    "For every recursive call, the recursive function has to allocate memory on the stack for arguments, return address, and local variables, costing time to push and pop these data onto the stack. Recursive algorithms take at least O(n) space where n is the depth of the recursive call.\n",
    "Note: Recursive approach to problems are costly when sub problems are overlapping with each other. An iterative approach will run in O(n) time while recursive approach will run in exponential time."
   ]
  },
  {
   "cell_type": "markdown",
   "metadata": {},
   "source": [
    "#### Recursive relations"
   ]
  },
  {
   "cell_type": "markdown",
   "metadata": {},
   "source": [
    "For describing the running time of recursive functions, we use recursive relations:<br>"
   ]
  },
  {
   "cell_type": "markdown",
   "metadata": {},
   "source": [
    "$$ T (n) = a · T (g(n)) + f(n) $$"
   ]
  },
  {
   "cell_type": "markdown",
   "metadata": {},
   "source": [
    "* $a$:- number of recursive calls\n",
    "* $g(n)$:- size of each sub-problem to be solved recursively\n",
    "* $f(n)$:- extra work done by the function"
   ]
  },
  {
   "cell_type": "markdown",
   "metadata": {},
   "source": [
    "| Equation                | Complexity |        Function       |\n",
    "| :-----------------------: | :----------: | :---------------------: |\n",
    "| <img width=150/> | <img width=150/> | <img width=150/> |\n",
    "| $T(n) = T(n − 1) + 1$ | O(n) | Processing a sequence |\n",
    "| $T(n) = T(n − 1) + n$ | O(n<sup>2</sup>)| Handshake problem |\n",
    "| $T(n) = 2T(n − 1) + 1$| O(2<sup>n</sup>)| Towers of Hanoi |\n",
    "| $T(n) = T(n=2) + 1$| O(ln n)| Binary search |\n",
    "| $T(n) = T(n=2) + n$| O(n)| Randomized select |\n",
    "| $T(n) = 2T(n=2) + 1$| O(n)| Tree transversal |\n",
    "| $T(n) = 2T(n=2) + n$| O(n\\*ln n)| Sort by divide and conquer |"
   ]
  },
  {
   "cell_type": "code",
   "execution_count": null,
   "metadata": {},
   "outputs": [],
   "source": []
  }
 ],
 "metadata": {
  "kernelspec": {
   "display_name": "Python 2",
   "language": "python",
   "name": "python2"
  },
  "language_info": {
   "codemirror_mode": {
    "name": "ipython",
    "version": 2
   },
   "file_extension": ".py",
   "mimetype": "text/x-python",
   "name": "python",
   "nbconvert_exporter": "python",
   "pygments_lexer": "ipython2",
   "version": "2.7.15rc1"
  }
 },
 "nbformat": 4,
 "nbformat_minor": 2
}
