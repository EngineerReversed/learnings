{
 "cells": [
  {
   "cell_type": "markdown",
   "metadata": {},
   "source": [
    "# Examples"
   ]
  },
  {
   "cell_type": "markdown",
   "metadata": {},
   "source": [
    "## Stacks\n",
    "Stacks are useful when data is to be sorted and retrieved in reverse order.\n"
   ]
  },
  {
   "cell_type": "code",
   "execution_count": 1,
   "metadata": {},
   "outputs": [],
   "source": [
    "class Stack():\n",
    "    \n",
    "    def __init__(self):\n",
    "        self.items=[]\n",
    "    \n",
    "    def isEmpty(self):\n",
    "        return not bool(len(self.items))\n",
    "    \n",
    "    def push(self,value):\n",
    "        self.items.append(value)\n",
    "        \n",
    "    def pop(self):\n",
    "        value = self.items.pop()\n",
    "        if value or value is 0:\n",
    "            return value\n",
    "        else:\n",
    "            print('Stack is empty')\n",
    "    \n",
    "    def size(self):\n",
    "        return len(self.items)\n",
    "    \n",
    "    def peek(self):\n",
    "        if len(self.items):\n",
    "            return self.items[-1]\n",
    "        else:\n",
    "            print('Stack is empty')"
   ]
  },
  {
   "cell_type": "markdown",
   "metadata": {},
   "source": [
    "### Reverse a string\n",
    "___"
   ]
  },
  {
   "cell_type": "code",
   "execution_count": 2,
   "metadata": {},
   "outputs": [
    {
     "name": "stdout",
     "output_type": "stream",
     "text": [
      "I am awesome\n",
      "emosewa ma I\n"
     ]
    }
   ],
   "source": [
    "def reverse_string_with_stack(strn):\n",
    "    \n",
    "    obj = Stack()\n",
    "    revString = ''\n",
    "    \n",
    "    for ch in strn:\n",
    "        obj.push(ch)\n",
    "    \n",
    "    while not obj.isEmpty():\n",
    "        revString+= obj.pop()\n",
    "    \n",
    "    return revString\n",
    "    \n",
    "    \n",
    "if __name__=='__main__':\n",
    "    strn = 'I am awesome'\n",
    "    print(strn)\n",
    "    print(reverse_string_with_stack(strn))"
   ]
  },
  {
   "cell_type": "markdown",
   "metadata": {},
   "source": [
    "### Balancing paranthesis in string\n",
    "___"
   ]
  },
  {
   "cell_type": "code",
   "execution_count": 3,
   "metadata": {},
   "outputs": [
    {
     "name": "stdout",
     "output_type": "stream",
     "text": [
      "True\n",
      "False\n"
     ]
    }
   ],
   "source": [
    "def balance_par_string(strn):\n",
    "    \n",
    "    obj = Stack()\n",
    "    balanced = True\n",
    "    index = 0\n",
    "    \n",
    "    while index < len(strn) and balanced:\n",
    "        \n",
    "        symbol = strn[index]\n",
    "        if symbol == '(':\n",
    "            obj.push(symbol)\n",
    "        else:\n",
    "            if obj.isEmpty():\n",
    "                balanced = False\n",
    "            else:\n",
    "                obj.pop()\n",
    "    \n",
    "        index+=1\n",
    "    \n",
    "    if balanced and obj.isEmpty():\n",
    "        return True\n",
    "    else:\n",
    "        return False\n",
    "    \n",
    "    \n",
    "    \n",
    "if __name__=='__main__':\n",
    "    print(balance_par_string('(((())))'))\n",
    "    print(balance_par_string('((())'))"
   ]
  },
  {
   "cell_type": "markdown",
   "metadata": {},
   "source": [
    "### Decimal to binary\n",
    "___"
   ]
  },
  {
   "cell_type": "code",
   "execution_count": 4,
   "metadata": {},
   "outputs": [
    {
     "name": "stdout",
     "output_type": "stream",
     "text": [
      "1001\n"
     ]
    }
   ],
   "source": [
    "def decimal_to_binary(dec):\n",
    "    \n",
    "    obj = Stack()\n",
    "    revstr = ''\n",
    "    \n",
    "    while dec > 0:\n",
    "        dig = dec%2\n",
    "        dec = dec//2\n",
    "        obj.push(dig)\n",
    "        \n",
    "    while not obj.isEmpty():\n",
    "        revstr+=str(obj.pop())\n",
    "    \n",
    "    return revstr\n",
    "    \n",
    "if __name__=='__main__':\n",
    "    dec = 9\n",
    "    print(decimal_to_binary(dec))\n",
    "    assert decimal_to_binary(dec) == '1001'"
   ]
  },
  {
   "cell_type": "markdown",
   "metadata": {},
   "source": [
    "### Stack with O(1) minimum look up\n",
    "___"
   ]
  },
  {
   "cell_type": "code",
   "execution_count": 12,
   "metadata": {},
   "outputs": [
    {
     "name": "stdout",
     "output_type": "stream",
     "text": [
      "('Is the stack empty? ', True)\n",
      "Adding 0 to 10 in the stack...\n",
      "[10, 9, 8, 7, 6, 5, 4, 3, 2, 1, 1, 2, 3, 4]\n",
      "('Stack size: ', 14)\n",
      "('Stack peek and peekMinimum : ', 4, 1)\n",
      "('Pop...', 4)\n",
      "('Stack peek and peekMinimum : ', 3, 1)\n",
      "('Is the stack empty? ', False)\n",
      "[10, 9, 8, 7, 6, 5, 4, 3, 2, 1, 1, 2, 3]\n"
     ]
    }
   ],
   "source": [
    "class NodeWithMin(object):\n",
    "    def __init__(self,value=None, minimum= None):\n",
    "        self.value = value\n",
    "        self.minimum = minimum\n",
    "\n",
    "class StackWithMin(Stack):\n",
    "    def __init__(self):\n",
    "        self.items = list()\n",
    "        self.minimum = None\n",
    "    \n",
    "    def push(self, value):\n",
    "        if stack.isEmpty() or self.minimum > value:\n",
    "            self.minimum = value\n",
    "        self.items.append(NodeWithMin(value,self.minimum))\n",
    "    \n",
    "    def peek(self):\n",
    "        return self.items[-1].value\n",
    "    \n",
    "    def peekMinimum(self):\n",
    "        return self.items[-1].minimum\n",
    "    \n",
    "    def pop(self):\n",
    "        item = self.items.pop()\n",
    "        if item:\n",
    "            if item.value == self.minimum:\n",
    "                self.minimum = self.peekMinimum()\n",
    "            return item.value\n",
    "        else:\n",
    "            print('Stack is empty')\n",
    "    \n",
    "    def __repr__(self):\n",
    "        aux = []\n",
    "        for i in self.items:\n",
    "            aux.append(i.value)\n",
    "        return '{}'.format(aux)\n",
    "    \n",
    "    \n",
    "if __name__=='__main__':\n",
    "    stack = StackWithMin()\n",
    "    print(\"Is the stack empty? \", stack.isEmpty())\n",
    "    print(\"Adding 0 to 10 in the stack...\")\n",
    "    for i in range(10, 0, -1):\n",
    "        stack.push(i)\n",
    "    for i in range(1, 5):\n",
    "        stack.push(i)\n",
    "    print(stack)\n",
    "    print(\"Stack size: \", stack.size())\n",
    "    print(\"Stack peek and peekMinimum : \", stack.peek(),\n",
    "    stack.peekMinimum())\n",
    "    print(\"Pop...\", stack.pop())\n",
    "    print(\"Stack peek and peekMinimum : \", stack.peek(),\n",
    "    stack.peekMinimum())\n",
    "    print(\"Is the stack empty? \", stack.isEmpty())\n",
    "    print(stack)"
   ]
  },
  {
   "cell_type": "markdown",
   "metadata": {},
   "source": [
    "### Set of Stacks\n",
    "___"
   ]
  },
  {
   "cell_type": "code",
   "execution_count": 13,
   "metadata": {},
   "outputs": [
    {
     "name": "stdout",
     "output_type": "stream",
     "text": [
      "('Is the stack empty? ', True)\n",
      "Adding 0 to 10 in the stack...\n",
      "[0, 1, 2, 3, 4, 5, 6, 7, 8, 9]\n",
      "('Stack size: ', 10)\n",
      "('Stack peek : ', 9)\n",
      "('Pop...', 9)\n",
      "('Stack peek: ', 8)\n",
      "('Is the stack empty? ', False)\n",
      "[0, 1, 2, 3, 4, 5, 6, 7, 8]\n"
     ]
    }
   ],
   "source": [
    "class SetOfStacks(Stack):\n",
    "    def __init__(self, capacity=4):\n",
    "        self.setofstacks = list()\n",
    "        self.items = list()\n",
    "        self.capacity = capacity\n",
    "        \n",
    "    def push(self, value):\n",
    "        if self.size()>=self.capacity:\n",
    "            self.setofstacks.append(self.items)\n",
    "            self.items = list()\n",
    "        self.items.append(value)\n",
    "    \n",
    "    def pop(self):\n",
    "        value = self.items.pop()\n",
    "        if self.isEmpty() and self.setofstacks:\n",
    "            self.items = self.setofstacks.pop()\n",
    "            \n",
    "        return value\n",
    "    \n",
    "    def sizeStack(self):\n",
    "        return len(self.setofstacks)*self.capacity + self.size()\n",
    "    \n",
    "    def __repr__(self):\n",
    "        aux = list()\n",
    "        for s in self.setofstacks:\n",
    "            aux.extend(s)\n",
    "        aux.extend(self.items)\n",
    "        return '{}'.format(aux)\n",
    "    \n",
    "if __name__=='__main__':\n",
    "    capacity = 5\n",
    "    stack = SetOfStacks(capacity)\n",
    "    print(\"Is the stack empty? \", stack.isEmpty())\n",
    "    print(\"Adding 0 to 10 in the stack...\")\n",
    "    for i in range(10):\n",
    "        stack.push(i)\n",
    "    print(stack)\n",
    "    print(\"Stack size: \", stack.sizeStack())\n",
    "    print(\"Stack peek : \", stack.peek())\n",
    "    print(\"Pop...\", stack.pop())\n",
    "    print(\"Stack peek: \", stack.peek())\n",
    "    print(\"Is the stack empty? \", stack.isEmpty())\n",
    "    print(stack)"
   ]
  },
  {
   "cell_type": "markdown",
   "metadata": {},
   "source": [
    "___\n",
    "## Queues\n",
    "### Deques for Palindromes"
   ]
  },
  {
   "cell_type": "code",
   "execution_count": 5,
   "metadata": {},
   "outputs": [
    {
     "name": "stdout",
     "output_type": "stream",
     "text": [
      "True\n",
      "False\n"
     ]
    }
   ],
   "source": [
    "from collections import deque\n",
    "import string\n",
    "\n",
    "strip = string.whitespace+string.punctuation+\"\\\"'\"\n",
    "\n",
    "def palindrome_checker_with_deque(strn):\n",
    "    obj = deque()\n",
    "    \n",
    "    for letter in strn.lower():\n",
    "        if letter not in strip:\n",
    "            obj.append(letter)\n",
    "            \n",
    "    flag = True\n",
    "    \n",
    "    while flag and len(obj)> 1:\n",
    "        if obj.pop()!=obj.popleft():\n",
    "            flag=False\n",
    "            \n",
    "    return flag\n",
    "\n",
    "if __name__=='__main__':\n",
    "    str1 = \"Madam Im Adam\"\n",
    "    str2 = \"Buffy is a Slayer\"\n",
    "    print(palindrome_checker_with_deque(str1))\n",
    "    print(palindrome_checker_with_deque(str2))"
   ]
  },
  {
   "cell_type": "markdown",
   "metadata": {},
   "source": [
    "### Modelling animal shelter"
   ]
  },
  {
   "cell_type": "code",
   "execution_count": 8,
   "metadata": {},
   "outputs": [
    {
     "name": "stdout",
     "output_type": "stream",
     "text": [
      "Cats!\n",
      "('bob', 'cat')\n",
      "('mia', 'cat')\n",
      "Dogs\n",
      "('yoda', 'dog')\n",
      "('wolf', 'dog')\n",
      "('yolo', 'dog')\n",
      "Deque one dog and one cat...\n",
      "Cats!\n",
      "('mia', 'cat')\n",
      "Dogs\n",
      "('wolf', 'dog')\n",
      "('yolo', 'dog')\n"
     ]
    }
   ],
   "source": [
    "class Node(object):\n",
    "    def __init__(self, animal_kind=None, animal_name=None, pointer=None):\n",
    "        self.animal_kind = animal_kind\n",
    "        self.animal_name = animal_name\n",
    "        self.timestamp = 0\n",
    "        self.pointer = pointer\n",
    "        \n",
    "class AnimalShelter(Node):\n",
    "    def __init__(self):\n",
    "        self.doghead = None\n",
    "        self.cathead = None\n",
    "        self.dogtail = None\n",
    "        self.cattail = None\n",
    "        self.animal_number = 0\n",
    "        \n",
    "    def enqueue_any_animal(self, animal_name, animal_kind):\n",
    "        self.animal_number+=1\n",
    "        new_animal = Node(animal_kind=animal_kind,animal_name=animal_name)\n",
    "        new_animal.timestamp = self.animal_number\n",
    "        \n",
    "        if animal_kind == 'cat':\n",
    "            if not self.cathead:\n",
    "                self.cathead = new_animal\n",
    "            elif self.cattail:\n",
    "                self.cattail.pointer = new_animal\n",
    "            self.cattail = new_animal\n",
    "            \n",
    "        elif animal_kind == 'dog':\n",
    "            if not self.doghead:\n",
    "                self.doghead = new_animal\n",
    "            elif self.dogtail:\n",
    "                self.dogtail.pointer = new_animal\n",
    "            self.dogtail = new_animal\n",
    "    \n",
    "    def deque_dog(self):\n",
    "        if self.doghead:\n",
    "            new_animal = self.doghead\n",
    "            self.doghead = new_animal.pointer\n",
    "            return str(new_animal.animal_name)\n",
    "        else:\n",
    "            return 'No dogs!'\n",
    "        \n",
    "    \n",
    "    def deque_cat(self):\n",
    "        if self.cathead:\n",
    "            new_animal = self.cathead\n",
    "            self.cathead = new_animal.pointer\n",
    "            return str(new_animal.animal_name)\n",
    "        else:\n",
    "            return 'No cats!'\n",
    "    \n",
    "    def any_animal(self):\n",
    "        if self.cathead and not self.doghead:\n",
    "            return deque_cat()\n",
    "        elif self.doghead and not self.cathead:\n",
    "            return deque_dog()\n",
    "        elif self.cathead and self.doghead:\n",
    "            if self.cathead.timestamp > self.doghead.timestamp:\n",
    "                return self.deque_dog()\n",
    "            else:\n",
    "                return self.deque_cat()\n",
    "        else:\n",
    "            return 'No animal!'\n",
    "    \n",
    "    def _print(self):\n",
    "        print('Cats!')\n",
    "        cats = self.cathead\n",
    "        while cats:\n",
    "            print(cats.animal_name, cats.animal_kind)\n",
    "            cats = cats.pointer\n",
    "            \n",
    "        print('Dogs')\n",
    "        dogs = self.doghead\n",
    "        while dogs:\n",
    "            print(dogs.animal_name, dogs.animal_kind)\n",
    "            dogs = dogs.pointer\n",
    "        \n",
    "    \n",
    "if __name__=='__main__':\n",
    "    qs = AnimalShelter()\n",
    "    qs.enqueue_any_animal(\"bob\", \"cat\")\n",
    "    qs.enqueue_any_animal(\"mia\", \"cat\")\n",
    "    qs.enqueue_any_animal(\"yoda\", \"dog\")\n",
    "    qs.enqueue_any_animal(\"wolf\", \"dog\")\n",
    "    qs.enqueue_any_animal(\"yolo\", \"dog\")\n",
    "    qs._print()\n",
    "    print(\"Deque one dog and one cat...\")\n",
    "    qs.deque_dog()\n",
    "    qs.deque_cat()\n",
    "    qs._print()"
   ]
  },
  {
   "cell_type": "code",
   "execution_count": null,
   "metadata": {},
   "outputs": [],
   "source": []
  },
  {
   "cell_type": "code",
   "execution_count": null,
   "metadata": {},
   "outputs": [],
   "source": []
  },
  {
   "cell_type": "code",
   "execution_count": null,
   "metadata": {},
   "outputs": [],
   "source": []
  },
  {
   "cell_type": "code",
   "execution_count": null,
   "metadata": {},
   "outputs": [],
   "source": []
  },
  {
   "cell_type": "code",
   "execution_count": null,
   "metadata": {},
   "outputs": [],
   "source": []
  },
  {
   "cell_type": "code",
   "execution_count": null,
   "metadata": {},
   "outputs": [],
   "source": []
  },
  {
   "cell_type": "code",
   "execution_count": null,
   "metadata": {},
   "outputs": [],
   "source": []
  },
  {
   "cell_type": "code",
   "execution_count": null,
   "metadata": {},
   "outputs": [],
   "source": []
  }
 ],
 "metadata": {
  "kernelspec": {
   "display_name": "Python 2",
   "language": "python",
   "name": "python2"
  },
  "language_info": {
   "codemirror_mode": {
    "name": "ipython",
    "version": 2
   },
   "file_extension": ".py",
   "mimetype": "text/x-python",
   "name": "python",
   "nbconvert_exporter": "python",
   "pygments_lexer": "ipython2",
   "version": "2.7.15rc1"
  }
 },
 "nbformat": 4,
 "nbformat_minor": 2
}
