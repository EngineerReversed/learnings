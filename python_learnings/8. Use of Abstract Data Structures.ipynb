{
 "cells": [
  {
   "cell_type": "markdown",
   "metadata": {},
   "source": [
    "# Examples"
   ]
  },
  {
   "cell_type": "markdown",
   "metadata": {},
   "source": [
    "## Stacks\n",
    "Stacks are useful when data is to be sorted and retrieved in reverse order.\n"
   ]
  },
  {
   "cell_type": "code",
   "execution_count": 15,
   "metadata": {},
   "outputs": [],
   "source": [
    "class Stack():\n",
    "    \n",
    "    def __init__(self):\n",
    "        self.items=[]\n",
    "    \n",
    "    def isEmpty(self):\n",
    "        return not bool(len(self.items))\n",
    "    \n",
    "    def push(self,value):\n",
    "        self.items.append(value)\n",
    "        \n",
    "    def pop(self):\n",
    "        value = self.items.pop()\n",
    "        if value or value is 0:\n",
    "            return value\n",
    "        else:\n",
    "            print('Stack is empty')\n",
    "    \n",
    "    def size(self):\n",
    "        return len(self.items)\n",
    "    \n",
    "    def peek(self):\n",
    "        if len(self.items):\n",
    "            return self.items[-1]\n",
    "        else:\n",
    "            print('Stack is empty')"
   ]
  },
  {
   "cell_type": "markdown",
   "metadata": {},
   "source": [
    "### Reverse a string\n",
    "___"
   ]
  },
  {
   "cell_type": "code",
   "execution_count": 16,
   "metadata": {},
   "outputs": [
    {
     "name": "stdout",
     "output_type": "stream",
     "text": [
      "I am awesome\n",
      "emosewa ma I\n"
     ]
    }
   ],
   "source": [
    "def reverse_string_with_stack(strn):\n",
    "    \n",
    "    obj = Stack()\n",
    "    revString = ''\n",
    "    \n",
    "    for ch in strn:\n",
    "        obj.push(ch)\n",
    "    \n",
    "    while not obj.isEmpty():\n",
    "        revString+= obj.pop()\n",
    "    \n",
    "    return revString\n",
    "    \n",
    "    \n",
    "if __name__=='__main__':\n",
    "    strn = 'I am awesome'\n",
    "    print(strn)\n",
    "    print(reverse_string_with_stack(strn))"
   ]
  },
  {
   "cell_type": "markdown",
   "metadata": {},
   "source": [
    "### Balancing paranthesis in string\n",
    "___"
   ]
  },
  {
   "cell_type": "code",
   "execution_count": 17,
   "metadata": {},
   "outputs": [
    {
     "name": "stdout",
     "output_type": "stream",
     "text": [
      "True\n",
      "False\n"
     ]
    }
   ],
   "source": [
    "def balance_par_string(strn):\n",
    "    \n",
    "    obj = Stack()\n",
    "    balanced = True\n",
    "    index = 0\n",
    "    \n",
    "    while index < len(strn) and balanced:\n",
    "        \n",
    "        symbol = strn[index]\n",
    "        if symbol == '(':\n",
    "            obj.push(symbol)\n",
    "        else:\n",
    "            if obj.isEmpty():\n",
    "                balanced = False\n",
    "            else:\n",
    "                obj.pop()\n",
    "    \n",
    "        index+=1\n",
    "    \n",
    "    if balanced and obj.isEmpty():\n",
    "        return True\n",
    "    else:\n",
    "        return False\n",
    "    \n",
    "    \n",
    "    \n",
    "if __name__=='__main__':\n",
    "    print(balance_par_string('(((())))'))\n",
    "    print(balance_par_string('((())'))"
   ]
  },
  {
   "cell_type": "markdown",
   "metadata": {},
   "source": [
    "### Decimal to binary\n",
    "___"
   ]
  },
  {
   "cell_type": "code",
   "execution_count": 27,
   "metadata": {},
   "outputs": [
    {
     "name": "stdout",
     "output_type": "stream",
     "text": [
      "1001\n"
     ]
    }
   ],
   "source": [
    "def decimal_to_binary(dec):\n",
    "    \n",
    "    obj = Stack()\n",
    "    revstr = ''\n",
    "    \n",
    "    while dec > 0:\n",
    "        dig = dec%2\n",
    "        dec = dec//2\n",
    "        obj.push(dig)\n",
    "        \n",
    "    while not obj.isEmpty():\n",
    "        revstr+=str(obj.pop())\n",
    "    \n",
    "    return revstr\n",
    "    \n",
    "if __name__=='__main__':\n",
    "    dec = 9\n",
    "    print(decimal_to_binary(dec))\n",
    "    assert decimal_to_binary(dec) == '1001'"
   ]
  },
  {
   "cell_type": "markdown",
   "metadata": {},
   "source": [
    "### Stack with O(1) minimum look up\n",
    "___"
   ]
  },
  {
   "cell_type": "code",
   "execution_count": null,
   "metadata": {},
   "outputs": [],
   "source": []
  }
 ],
 "metadata": {
  "kernelspec": {
   "display_name": "Python 2",
   "language": "python",
   "name": "python2"
  },
  "language_info": {
   "codemirror_mode": {
    "name": "ipython",
    "version": 2
   },
   "file_extension": ".py",
   "mimetype": "text/x-python",
   "name": "python",
   "nbconvert_exporter": "python",
   "pygments_lexer": "ipython2",
   "version": "2.7.15rc1"
  }
 },
 "nbformat": 4,
 "nbformat_minor": 2
}
