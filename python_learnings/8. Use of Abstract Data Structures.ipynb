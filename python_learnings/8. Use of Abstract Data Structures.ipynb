{
 "cells": [
  {
   "cell_type": "markdown",
   "metadata": {},
   "source": [
    "# Examples"
   ]
  },
  {
   "cell_type": "markdown",
   "metadata": {},
   "source": [
    "## Stacks\n",
    "Stacks are useful when data is to be sorted and retrieved in reverse order.\n"
   ]
  },
  {
   "cell_type": "code",
   "execution_count": 1,
   "metadata": {},
   "outputs": [],
   "source": [
    "class Stack():\n",
    "    \n",
    "    def __init__(self):\n",
    "        self.items=[]\n",
    "    \n",
    "    def isEmpty(self):\n",
    "        return not bool(len(self.items))\n",
    "    \n",
    "    def push(self,value):\n",
    "        self.items.append(value)\n",
    "        \n",
    "    def pop(self):\n",
    "        value = self.items.pop()\n",
    "        if value or value is 0:\n",
    "            return value\n",
    "        else:\n",
    "            print('Stack is empty')\n",
    "    \n",
    "    def size(self):\n",
    "        return len(self.items)\n",
    "    \n",
    "    def peek(self):\n",
    "        if len(self.items):\n",
    "            return self.items[-1]\n",
    "        else:\n",
    "            print('Stack is empty')"
   ]
  },
  {
   "cell_type": "markdown",
   "metadata": {},
   "source": [
    "### Reverse a string\n",
    "___"
   ]
  },
  {
   "cell_type": "code",
   "execution_count": 2,
   "metadata": {},
   "outputs": [
    {
     "name": "stdout",
     "output_type": "stream",
     "text": [
      "I am awesome\n",
      "emosewa ma I\n"
     ]
    }
   ],
   "source": [
    "def reverse_string_with_stack(strn):\n",
    "    \n",
    "    obj = Stack()\n",
    "    revString = ''\n",
    "    \n",
    "    for ch in strn:\n",
    "        obj.push(ch)\n",
    "    \n",
    "    while not obj.isEmpty():\n",
    "        revString+= obj.pop()\n",
    "    \n",
    "    return revString\n",
    "    \n",
    "    \n",
    "if __name__=='__main__':\n",
    "    strn = 'I am awesome'\n",
    "    print(strn)\n",
    "    print(reverse_string_with_stack(strn))"
   ]
  },
  {
   "cell_type": "markdown",
   "metadata": {},
   "source": [
    "### Balancing paranthesis in string\n",
    "___"
   ]
  },
  {
   "cell_type": "code",
   "execution_count": 3,
   "metadata": {},
   "outputs": [
    {
     "name": "stdout",
     "output_type": "stream",
     "text": [
      "True\n",
      "False\n"
     ]
    }
   ],
   "source": [
    "def balance_par_string(strn):\n",
    "    \n",
    "    obj = Stack()\n",
    "    balanced = True\n",
    "    index = 0\n",
    "    \n",
    "    while index < len(strn) and balanced:\n",
    "        \n",
    "        symbol = strn[index]\n",
    "        if symbol == '(':\n",
    "            obj.push(symbol)\n",
    "        else:\n",
    "            if obj.isEmpty():\n",
    "                balanced = False\n",
    "            else:\n",
    "                obj.pop()\n",
    "    \n",
    "        index+=1\n",
    "    \n",
    "    if balanced and obj.isEmpty():\n",
    "        return True\n",
    "    else:\n",
    "        return False\n",
    "    \n",
    "    \n",
    "    \n",
    "if __name__=='__main__':\n",
    "    print(balance_par_string('(((())))'))\n",
    "    print(balance_par_string('((())'))"
   ]
  },
  {
   "cell_type": "markdown",
   "metadata": {},
   "source": [
    "### Decimal to binary\n",
    "___"
   ]
  },
  {
   "cell_type": "code",
   "execution_count": 4,
   "metadata": {},
   "outputs": [
    {
     "name": "stdout",
     "output_type": "stream",
     "text": [
      "1001\n"
     ]
    }
   ],
   "source": [
    "def decimal_to_binary(dec):\n",
    "    \n",
    "    obj = Stack()\n",
    "    revstr = ''\n",
    "    \n",
    "    while dec > 0:\n",
    "        dig = dec%2\n",
    "        dec = dec//2\n",
    "        obj.push(dig)\n",
    "        \n",
    "    while not obj.isEmpty():\n",
    "        revstr+=str(obj.pop())\n",
    "    \n",
    "    return revstr\n",
    "    \n",
    "if __name__=='__main__':\n",
    "    dec = 9\n",
    "    print(decimal_to_binary(dec))\n",
    "    assert decimal_to_binary(dec) == '1001'"
   ]
  },
  {
   "cell_type": "markdown",
   "metadata": {},
   "source": [
    "### Stack with O(1) minimum look up\n",
    "___"
   ]
  },
  {
   "cell_type": "code",
   "execution_count": 12,
   "metadata": {},
   "outputs": [
    {
     "name": "stdout",
     "output_type": "stream",
     "text": [
      "('Is the stack empty? ', True)\n",
      "Adding 0 to 10 in the stack...\n",
      "[10, 9, 8, 7, 6, 5, 4, 3, 2, 1, 1, 2, 3, 4]\n",
      "('Stack size: ', 14)\n",
      "('Stack peek and peekMinimum : ', 4, 1)\n",
      "('Pop...', 4)\n",
      "('Stack peek and peekMinimum : ', 3, 1)\n",
      "('Is the stack empty? ', False)\n",
      "[10, 9, 8, 7, 6, 5, 4, 3, 2, 1, 1, 2, 3]\n"
     ]
    }
   ],
   "source": [
    "class NodeWithMin(object):\n",
    "    def __init__(self,value=None, minimum= None):\n",
    "        self.value = value\n",
    "        self.minimum = minimum\n",
    "\n",
    "class StackWithMin(Stack):\n",
    "    def __init__(self):\n",
    "        self.items = list()\n",
    "        self.minimum = None\n",
    "    \n",
    "    def push(self, value):\n",
    "        if stack.isEmpty() or self.minimum > value:\n",
    "            self.minimum = value\n",
    "        self.items.append(NodeWithMin(value,self.minimum))\n",
    "    \n",
    "    def peek(self):\n",
    "        return self.items[-1].value\n",
    "    \n",
    "    def peekMinimum(self):\n",
    "        return self.items[-1].minimum\n",
    "    \n",
    "    def pop(self):\n",
    "        item = self.items.pop()\n",
    "        if item:\n",
    "            if item.value == self.minimum:\n",
    "                self.minimum = self.peekMinimum()\n",
    "            return item.value\n",
    "        else:\n",
    "            print('Stack is empty')\n",
    "    \n",
    "    def __repr__(self):\n",
    "        aux = []\n",
    "        for i in self.items:\n",
    "            aux.append(i.value)\n",
    "        return '{}'.format(aux)\n",
    "    \n",
    "    \n",
    "if __name__=='__main__':\n",
    "    stack = StackWithMin()\n",
    "    print(\"Is the stack empty? \", stack.isEmpty())\n",
    "    print(\"Adding 0 to 10 in the stack...\")\n",
    "    for i in range(10, 0, -1):\n",
    "        stack.push(i)\n",
    "    for i in range(1, 5):\n",
    "        stack.push(i)\n",
    "    print(stack)\n",
    "    print(\"Stack size: \", stack.size())\n",
    "    print(\"Stack peek and peekMinimum : \", stack.peek(),\n",
    "    stack.peekMinimum())\n",
    "    print(\"Pop...\", stack.pop())\n",
    "    print(\"Stack peek and peekMinimum : \", stack.peek(),\n",
    "    stack.peekMinimum())\n",
    "    print(\"Is the stack empty? \", stack.isEmpty())\n",
    "    print(stack)"
   ]
  },
  {
   "cell_type": "markdown",
   "metadata": {},
   "source": [
    "### Set of Stacks\n",
    "___"
   ]
  },
  {
   "cell_type": "code",
   "execution_count": 13,
   "metadata": {},
   "outputs": [
    {
     "name": "stdout",
     "output_type": "stream",
     "text": [
      "('Is the stack empty? ', True)\n",
      "Adding 0 to 10 in the stack...\n",
      "[0, 1, 2, 3, 4, 5, 6, 7, 8, 9]\n",
      "('Stack size: ', 10)\n",
      "('Stack peek : ', 9)\n",
      "('Pop...', 9)\n",
      "('Stack peek: ', 8)\n",
      "('Is the stack empty? ', False)\n",
      "[0, 1, 2, 3, 4, 5, 6, 7, 8]\n"
     ]
    }
   ],
   "source": [
    "class SetOfStacks(Stack):\n",
    "    def __init__(self, capacity=4):\n",
    "        self.setofstacks = list()\n",
    "        self.items = list()\n",
    "        self.capacity = capacity\n",
    "        \n",
    "    def push(self, value):\n",
    "        if self.size()>=self.capacity:\n",
    "            self.setofstacks.append(self.items)\n",
    "            self.items = list()\n",
    "        self.items.append(value)\n",
    "    \n",
    "    def pop(self):\n",
    "        value = self.items.pop()\n",
    "        if self.isEmpty() and self.setofstacks:\n",
    "            self.items = self.setofstacks.pop()\n",
    "            \n",
    "        return value\n",
    "    \n",
    "    def sizeStack(self):\n",
    "        return len(self.setofstacks)*self.capacity + self.size()\n",
    "    \n",
    "    def __repr__(self):\n",
    "        aux = list()\n",
    "        for s in self.setofstacks:\n",
    "            aux.extend(s)\n",
    "        aux.extend(self.items)\n",
    "        return '{}'.format(aux)\n",
    "    \n",
    "if __name__=='__main__':\n",
    "    capacity = 5\n",
    "    stack = SetOfStacks(capacity)\n",
    "    print(\"Is the stack empty? \", stack.isEmpty())\n",
    "    print(\"Adding 0 to 10 in the stack...\")\n",
    "    for i in range(10):\n",
    "        stack.push(i)\n",
    "    print(stack)\n",
    "    print(\"Stack size: \", stack.sizeStack())\n",
    "    print(\"Stack peek : \", stack.peek())\n",
    "    print(\"Pop...\", stack.pop())\n",
    "    print(\"Stack peek: \", stack.peek())\n",
    "    print(\"Is the stack empty? \", stack.isEmpty())\n",
    "    print(stack)"
   ]
  },
  {
   "cell_type": "markdown",
   "metadata": {},
   "source": [
    "___\n",
    "## Queues\n",
    "### Deques for Palindromes"
   ]
  },
  {
   "cell_type": "code",
   "execution_count": 5,
   "metadata": {},
   "outputs": [
    {
     "name": "stdout",
     "output_type": "stream",
     "text": [
      "True\n",
      "False\n"
     ]
    }
   ],
   "source": [
    "from collections import deque\n",
    "import string\n",
    "\n",
    "strip = string.whitespace+string.punctuation+\"\\\"'\"\n",
    "\n",
    "def palindrome_checker_with_deque(strn):\n",
    "    obj = deque()\n",
    "    \n",
    "    for letter in strn.lower():\n",
    "        if letter not in strip:\n",
    "            obj.append(letter)\n",
    "            \n",
    "    flag = True\n",
    "    \n",
    "    while flag and len(obj)> 1:\n",
    "        if obj.pop()!=obj.popleft():\n",
    "            flag=False\n",
    "            \n",
    "    return flag\n",
    "\n",
    "if __name__=='__main__':\n",
    "    str1 = \"Madam Im Adam\"\n",
    "    str2 = \"Buffy is a Slayer\"\n",
    "    print(palindrome_checker_with_deque(str1))\n",
    "    print(palindrome_checker_with_deque(str2))"
   ]
  },
  {
   "cell_type": "markdown",
   "metadata": {},
   "source": [
    "### Modelling animal shelter"
   ]
  },
  {
   "cell_type": "code",
   "execution_count": 8,
   "metadata": {},
   "outputs": [
    {
     "name": "stdout",
     "output_type": "stream",
     "text": [
      "Cats!\n",
      "('bob', 'cat')\n",
      "('mia', 'cat')\n",
      "Dogs\n",
      "('yoda', 'dog')\n",
      "('wolf', 'dog')\n",
      "('yolo', 'dog')\n",
      "Deque one dog and one cat...\n",
      "Cats!\n",
      "('mia', 'cat')\n",
      "Dogs\n",
      "('wolf', 'dog')\n",
      "('yolo', 'dog')\n"
     ]
    }
   ],
   "source": [
    "class Node(object):\n",
    "    def __init__(self, animal_kind=None, animal_name=None, pointer=None):\n",
    "        self.animal_kind = animal_kind\n",
    "        self.animal_name = animal_name\n",
    "        self.timestamp = 0\n",
    "        self.pointer = pointer\n",
    "        \n",
    "class AnimalShelter(Node):\n",
    "    def __init__(self):\n",
    "        self.doghead = None\n",
    "        self.cathead = None\n",
    "        self.dogtail = None\n",
    "        self.cattail = None\n",
    "        self.animal_number = 0\n",
    "        \n",
    "    def enqueue_any_animal(self, animal_name, animal_kind):\n",
    "        self.animal_number+=1\n",
    "        new_animal = Node(animal_kind=animal_kind,animal_name=animal_name)\n",
    "        new_animal.timestamp = self.animal_number\n",
    "        \n",
    "        if animal_kind == 'cat':\n",
    "            if not self.cathead:\n",
    "                self.cathead = new_animal\n",
    "            elif self.cattail:\n",
    "                self.cattail.pointer = new_animal\n",
    "            self.cattail = new_animal\n",
    "            \n",
    "        elif animal_kind == 'dog':\n",
    "            if not self.doghead:\n",
    "                self.doghead = new_animal\n",
    "            elif self.dogtail:\n",
    "                self.dogtail.pointer = new_animal\n",
    "            self.dogtail = new_animal\n",
    "    \n",
    "    def deque_dog(self):\n",
    "        if self.doghead:\n",
    "            new_animal = self.doghead\n",
    "            self.doghead = new_animal.pointer\n",
    "            return str(new_animal.animal_name)\n",
    "        else:\n",
    "            return 'No dogs!'\n",
    "        \n",
    "    \n",
    "    def deque_cat(self):\n",
    "        if self.cathead:\n",
    "            new_animal = self.cathead\n",
    "            self.cathead = new_animal.pointer\n",
    "            return str(new_animal.animal_name)\n",
    "        else:\n",
    "            return 'No cats!'\n",
    "    \n",
    "    def any_animal(self):\n",
    "        if self.cathead and not self.doghead:\n",
    "            return deque_cat()\n",
    "        elif self.doghead and not self.cathead:\n",
    "            return deque_dog()\n",
    "        elif self.cathead and self.doghead:\n",
    "            if self.cathead.timestamp > self.doghead.timestamp:\n",
    "                return self.deque_dog()\n",
    "            else:\n",
    "                return self.deque_cat()\n",
    "        else:\n",
    "            return 'No animal!'\n",
    "    \n",
    "    def _print(self):\n",
    "        print('Cats!')\n",
    "        cats = self.cathead\n",
    "        while cats:\n",
    "            print(cats.animal_name, cats.animal_kind)\n",
    "            cats = cats.pointer\n",
    "            \n",
    "        print('Dogs')\n",
    "        dogs = self.doghead\n",
    "        while dogs:\n",
    "            print(dogs.animal_name, dogs.animal_kind)\n",
    "            dogs = dogs.pointer\n",
    "        \n",
    "    \n",
    "if __name__=='__main__':\n",
    "    qs = AnimalShelter()\n",
    "    qs.enqueue_any_animal(\"bob\", \"cat\")\n",
    "    qs.enqueue_any_animal(\"mia\", \"cat\")\n",
    "    qs.enqueue_any_animal(\"yoda\", \"dog\")\n",
    "    qs.enqueue_any_animal(\"wolf\", \"dog\")\n",
    "    qs.enqueue_any_animal(\"yolo\", \"dog\")\n",
    "    qs._print()\n",
    "    print(\"Deque one dog and one cat...\")\n",
    "    qs.deque_dog()\n",
    "    qs.deque_cat()\n",
    "    qs._print()"
   ]
  },
  {
   "cell_type": "markdown",
   "metadata": {},
   "source": [
    "### Priority Queues and Heaps"
   ]
  },
  {
   "cell_type": "markdown",
   "metadata": {},
   "source": [
    "### N smallest and largest items in a queue"
   ]
  },
  {
   "cell_type": "code",
   "execution_count": 4,
   "metadata": {},
   "outputs": [
    {
     "name": "stdout",
     "output_type": "stream",
     "text": [
      "Tests in this module have passed!\n"
     ]
    }
   ],
   "source": [
    "import heapq\n",
    "\n",
    "def find_N_largest_items_seq(seq, N):\n",
    "    return heapq.nlargest(N,seq)\n",
    "\n",
    "def find_N_smallest_items_seq(seq,N):\n",
    "    return heapq.nsmallest(N,seq)\n",
    "\n",
    "def find_smallest_items_seq_heap(seq):\n",
    "    heapq.heapify(seq)\n",
    "    return heapq.heappop(seq)\n",
    "\n",
    "def find_N_smallest_items_seq_sorted(seq,N):\n",
    "    return sorted(seq)[:N]\n",
    "\n",
    "def find_N_largest_items_seq_sorted(seq,N):\n",
    "    return sorted(seq)[len(seq)-N:]\n",
    "\n",
    "def find_smallest_items_seq(seq):\n",
    "    return min(seq)\n",
    "\n",
    "def test_find_N_largest_smallest_items_seq(module_name=\"this module\"):\n",
    "    seq = [1, 3, 2, 8, 6, 10, 9]\n",
    "    N = 3\n",
    "    assert(find_N_largest_items_seq(seq, N) == [10, 9, 8])\n",
    "    assert(find_N_largest_items_seq_sorted(seq, N) == [8, 9, 10])\n",
    "    assert(find_N_smallest_items_seq(seq, N) == [1,2,3])\n",
    "    assert(find_N_smallest_items_seq_sorted(seq, N) == [1,2,3])\n",
    "    assert(find_smallest_items_seq(seq) == 1)\n",
    "    assert(find_smallest_items_seq_heap(seq) == 1)\n",
    "    s = \"Tests in {name} have {con}!\"\n",
    "    print(s.format(name=module_name, con=\"passed\"))\n",
    "    \n",
    "if __name__ == \"__main__\":\n",
    "    test_find_N_largest_smallest_items_seq()"
   ]
  },
  {
   "cell_type": "markdown",
   "metadata": {},
   "source": [
    "### Merging sorted sequences"
   ]
  },
  {
   "cell_type": "code",
   "execution_count": 10,
   "metadata": {},
   "outputs": [
    {
     "name": "stdout",
     "output_type": "stream",
     "text": [
      "Tests in this module have passed!\n"
     ]
    }
   ],
   "source": [
    "import heapq\n",
    "\n",
    "def merge_sorted_seq(seq1, seq2):\n",
    "    results = list()\n",
    "    \n",
    "    for c in heapq.merge(seq1,seq2):\n",
    "        results.append(c)\n",
    "        \n",
    "    return results\n",
    "\n",
    "def test_merge_sorted_seq(module_name=\"this module\"):\n",
    "    seq1 = [1, 2, 3, 8, 9, 10]\n",
    "    seq2 = [2, 3, 4, 5, 6, 7, 9]\n",
    "    seq3 = seq1 + seq2\n",
    "    assert(merge_sorted_seq(seq1, seq2) == sorted(seq3))\n",
    "    s = \"Tests in {name} have {con}!\"\n",
    "    print(s.format(name=module_name, con=\"passed\"))\n",
    "\n",
    "if __name__ == \"__main__\":\n",
    "    test_merge_sorted_seq()"
   ]
  },
  {
   "cell_type": "markdown",
   "metadata": {},
   "source": [
    "## Linked List\n",
    "### Find the k<sup>th</sup> element from the end of a linked list"
   ]
  },
  {
   "cell_type": "code",
   "execution_count": 2,
   "metadata": {},
   "outputs": [
    {
     "name": "stdout",
     "output_type": "stream",
     "text": [
      "The Linked List:\n",
      "1\n",
      "2\n",
      "3\n",
      "4\n",
      "5\n",
      "6\n",
      "7\n",
      "8\n",
      "9\n",
      "10\n",
      "None\n",
      "The 3th element to the last of the LL of size 10 is 7\n"
     ]
    }
   ],
   "source": [
    "class Node(object):\n",
    "    def __init__(self,value=None,pointer=None):\n",
    "        self.value = value\n",
    "        self.pointer = pointer\n",
    "\n",
    "class FifoLinkedList(object):\n",
    "    def __init__(self):\n",
    "        self.head = None\n",
    "        self.length = 0\n",
    "        self.tail = None\n",
    "        \n",
    "    # printing each element of linked list\n",
    "    def _printList(self):\n",
    "        node = self.head\n",
    "        while node:\n",
    "            print(node.value)\n",
    "            node = node.pointer\n",
    "    \n",
    "    def _addFirst(self,value):\n",
    "        self.length = 1\n",
    "        node = Node(value)\n",
    "        self.head = node\n",
    "        self.tail = node\n",
    "    \n",
    "    def _deleteFirst(self):\n",
    "        self.length = 0\n",
    "        self.head = None\n",
    "        self.tail = None\n",
    "        print('The list is empty')\n",
    "    \n",
    "    # adding at the end of tail\n",
    "    def _add(self,value):\n",
    "        self.length+=1\n",
    "        node = Node(value)\n",
    "        if self.tail:\n",
    "            self.tail.pointer = node\n",
    "        self.tail = node\n",
    "        \n",
    "    # add nodes in general\n",
    "    def addNode(self,value):\n",
    "        if not self.head:\n",
    "            self._addFirst(value)\n",
    "        else:\n",
    "            self._add(value)\n",
    "    \n",
    "    # locate node given index \n",
    "    def _find(self,index):\n",
    "        node = self.head\n",
    "        prev = None\n",
    "        i = 0\n",
    "        while node and i < index:\n",
    "            prev = node\n",
    "            node = node.pointer\n",
    "            i+=1\n",
    "        return prev, node, i\n",
    "    \n",
    "    # delete nodes in general\n",
    "    def deleteNode(self,index):\n",
    "        if not self.head or not self.head.pointer:\n",
    "            self._deleteFirst()\n",
    "        else:\n",
    "            prev, node, i = self._find(index)\n",
    "            if i == index and node:\n",
    "                self.length-=1\n",
    "                if i == 0 or not prev:\n",
    "                    self.head = node.pointer\n",
    "                else:\n",
    "                    prev.pointer = node.pointer\n",
    "                if not self.tail:\n",
    "                    self.tail = prev\n",
    "            else:\n",
    "                print('Node was not found at index {}'.format(index))\n",
    "\n",
    "class LinkedListFIFO_find_kth(FifoLinkedList):\n",
    "    def find_kth_to_last(self,k):\n",
    "        p1, p2 = self.head, self.head\n",
    "        i = 0\n",
    "        while p1:\n",
    "            if i > k:\n",
    "                try:\n",
    "                    p2 = p2.pointer\n",
    "                except:\n",
    "                    break\n",
    "            p1 = p1.pointer\n",
    "            i+=1\n",
    "        return p2.value\n",
    "    \n",
    "if __name__=='__main__':\n",
    "    ll = LinkedListFIFO_find_kth()\n",
    "    for i in range(1, 11):\n",
    "        ll.addNode(i)\n",
    "    print(\"The Linked List:\")\n",
    "    print(ll._printList())\n",
    "    k = 3\n",
    "    k_from_last = ll.find_kth_to_last(k)\n",
    "    print(\"The %dth element to the last of the LL of size %d is %d\"%(k, ll.length, k_from_last))"
   ]
  },
  {
   "cell_type": "markdown",
   "metadata": {},
   "source": [
    "### Partitioning a linked list in an Elements"
   ]
  },
  {
   "cell_type": "code",
   "execution_count": 6,
   "metadata": {},
   "outputs": [
    {
     "name": "stdout",
     "output_type": "stream",
     "text": [
      "Before Part\n",
      "6\n",
      "7\n",
      "3\n",
      "4\n",
      "9\n",
      "5\n",
      "1\n",
      "2\n",
      "8\n",
      "After Part\n",
      "3\n",
      "4\n",
      "5\n",
      "1\n",
      "2\n",
      "6\n",
      "7\n",
      "9\n",
      "8\n"
     ]
    }
   ],
   "source": [
    "def part_list(ll, n):\n",
    "    more = FifoLinkedList()\n",
    "    less = FifoLinkedList()\n",
    "    node = ll.head\n",
    "    \n",
    "    while node:\n",
    "        item = node.value\n",
    "        \n",
    "        if item < n:\n",
    "            less.addNode(item)\n",
    "        elif item > n:\n",
    "            more.addNode(item)\n",
    "            \n",
    "        node = node.pointer\n",
    "    \n",
    "    less.addNode(n)\n",
    "    node = more.head\n",
    "    \n",
    "    while node:\n",
    "        less.addNode(node.value)\n",
    "        node = node.pointer\n",
    "    \n",
    "    return less\n",
    "    \n",
    "    \n",
    "\n",
    "if __name__ == \"__main__\":\n",
    "    ll = FifoLinkedList()\n",
    "    l = [6, 7, 3, 4, 9, 5, 1, 2, 8]\n",
    "    for i in l:\n",
    "        ll.addNode(i)\n",
    "    print(\"Before Part\")\n",
    "    ll._printList()\n",
    "    print(\"After Part\")\n",
    "    newll = part_list(ll, 6)\n",
    "    newll._printList()"
   ]
  },
  {
   "cell_type": "markdown",
   "metadata": {},
   "source": [
    "## Doubly linked list FIFO\n",
    "___\n",
    "### Implement double linked list using uni directional linked list"
   ]
  },
  {
   "cell_type": "code",
   "execution_count": 11,
   "metadata": {},
   "outputs": [
    {
     "name": "stdout",
     "output_type": "stream",
     "text": [
      "Printing the list...\n",
      "1\n",
      "2\n",
      "3\n",
      "4\n",
      "Now, printing the list inversely...\n",
      "4\n",
      "3\n",
      "2\n",
      "1\n",
      "The list after adding node with value 15\n",
      "1\n",
      "2\n",
      "3\n",
      "4\n",
      "15\n",
      "The list after deleting everything...\n",
      "The list is empty\n"
     ]
    }
   ],
   "source": [
    "class dNode(object):\n",
    "    def __init__(self,value=None,pointer=None,previous=None):\n",
    "        self.value = value\n",
    "        self.pointer = pointer\n",
    "        self.previous = previous\n",
    "        \n",
    "        \n",
    "class dLinkedList(FifoLinkedList):\n",
    "    def _find(self,index):\n",
    "        node = self.head\n",
    "        i = 0\n",
    "        while node and i < index:\n",
    "            node = node.pointer\n",
    "            i+=1\n",
    "        return node, i\n",
    "    \n",
    "    def _delete(self,node):\n",
    "        self.length-=1\n",
    "        node.previous.pointer = node.pointer\n",
    "        if not node.pointer:\n",
    "            self.tail = node.previous\n",
    "        return True\n",
    "    \n",
    "    def printListInverse(self):\n",
    "        node = self.tail\n",
    "        while node:\n",
    "            print(node.value)\n",
    "            try:\n",
    "                node = node.previous\n",
    "            except:\n",
    "                break\n",
    "        return True\n",
    "    \n",
    "    # adding node at the end of the list\n",
    "    def _add(self,value):\n",
    "        self.length+=1\n",
    "        node = dNode(value)\n",
    "        if self.tail:\n",
    "            self.tail.pointer = node\n",
    "            node.previous = self.tail\n",
    "        self.tail = node\n",
    "        return True\n",
    "    \n",
    "    def deleteNode(self,index):\n",
    "        if not self.head or not self.head.pointer:\n",
    "            self._deleteFirst()\n",
    "        else:\n",
    "            node, i = self._find(index)\n",
    "            if i == index:\n",
    "                self._delete(node)\n",
    "            else:\n",
    "                print('Node at index %d was not found',index)\n",
    "        return True\n",
    "\n",
    "if __name__ == \"__main__\":\n",
    "    \n",
    "    from collections import Counter\n",
    "    \n",
    "    ll = dLinkedList()\n",
    "    for i in range(1, 5):\n",
    "        ll.addNode(i)\n",
    "    print(\"Printing the list...\")\n",
    "    ll._printList()\n",
    "    print(\"Now, printing the list inversely...\")\n",
    "    ll.printListInverse()\n",
    "    print(\"The list after adding node with value 15\")\n",
    "    ll._add(15)\n",
    "    ll._printList()\n",
    "    print(\"The list after deleting everything...\")\n",
    "    for i in range(ll.length-1, -1, -1):\n",
    "        ll.deleteNode(i)\n",
    "    ll._printList()"
   ]
  },
  {
   "cell_type": "markdown",
   "metadata": {},
   "source": [
    "### Check whether a linked list is palindrome"
   ]
  },
  {
   "cell_type": "code",
   "execution_count": 14,
   "metadata": {},
   "outputs": [
    {
     "name": "stdout",
     "output_type": "stream",
     "text": [
      "All tests passed\n"
     ]
    }
   ],
   "source": [
    "def isPal(l):\n",
    "    if len(l) < 2:\n",
    "        return True\n",
    "    elif l[0]!=l[-1]:\n",
    "        return False\n",
    "    return isPal(l[1:-1])\n",
    "\n",
    "def checkllPal(ll):\n",
    "    node = ll.head\n",
    "    l = list()\n",
    "    while node:\n",
    "        l.append(node.value)\n",
    "        node = node.pointer\n",
    "    \n",
    "    return isPal(l)\n",
    "\n",
    "if __name__ == \"__main__\":\n",
    "    ll = FifoLinkedList()\n",
    "    l1 = [1, 2, 3, 2, 1]\n",
    "    for i in l1:\n",
    "        ll.addNode(i)\n",
    "    assert(checkllPal(ll) == True)\n",
    "    ll.addNode(2)\n",
    "    ll.addNode(3)\n",
    "    assert(checkllPal(ll) == False)\n",
    "    print('All tests passed')"
   ]
  },
  {
   "cell_type": "markdown",
   "metadata": {},
   "source": [
    "### Summing digits in a linked list"
   ]
  },
  {
   "cell_type": "code",
   "execution_count": 19,
   "metadata": {},
   "outputs": [
    {
     "name": "stdout",
     "output_type": "stream",
     "text": [
      "3\n",
      "1\n",
      "2\n",
      "6\n"
     ]
    }
   ],
   "source": [
    "class LinkedListFIFOYield(FifoLinkedList):\n",
    "    def _printList(self):\n",
    "        node = self.head\n",
    "        while node:\n",
    "            yield(node.value)\n",
    "            node = node.pointer\n",
    "\n",
    "def sumlls(l1,l2):\n",
    "    \n",
    "    lsum = LinkedListFIFOYield()\n",
    "    dig1 = l1.head\n",
    "    dig2 = l2.head\n",
    "    pointer = 0\n",
    "    \n",
    "    while dig1 and dig2:\n",
    "        \n",
    "        d1 = dig1.value\n",
    "        d2 = dig2.value\n",
    "        sum_d = d1+d2+pointer\n",
    "        \n",
    "        if sum_d > 9:\n",
    "            pointer = sum_d//10\n",
    "            lsum.addNode(sum_d%10)\n",
    "        else:\n",
    "            lsum.addNode(sum_d)\n",
    "            pointer = 0\n",
    "            \n",
    "        dig1 = dig1.pointer\n",
    "        dig2 = dig2.pointer\n",
    "    \n",
    "    if dig1:\n",
    "        sum_d = pointer+dig1.value\n",
    "        if sum_d >9:\n",
    "            lsum.addNode(sum_d%10)\n",
    "        else:\n",
    "            lsum.addNode(sum_d)\n",
    "        dig1 = dig1.pointer\n",
    "        \n",
    "    if dig2:\n",
    "        sum_d = pointer+dig2.value\n",
    "        if sum_d>9:\n",
    "            lsum.addNode(sum_d%10)\n",
    "        else:\n",
    "            lsum.addNode(sum_d)\n",
    "        dig2 = dig2.pointer\n",
    "    \n",
    "    \n",
    "    return lsum\n",
    "\n",
    "if __name__ == \"__main__\":\n",
    "    l1 = LinkedListFIFOYield() # 2671\n",
    "    l1.addNode(1)\n",
    "    l1.addNode(7)\n",
    "    l1.addNode(6)\n",
    "    l1.addNode(2)\n",
    "    l2 = LinkedListFIFOYield() # 455\n",
    "    l2.addNode(5)\n",
    "    l2.addNode(5)\n",
    "    l2.addNode(4)\n",
    "    lsum = sumlls(l1, l2)\n",
    "    l = list(lsum._printList())\n",
    "    for i in reversed(l):\n",
    "        print i"
   ]
  },
  {
   "cell_type": "markdown",
   "metadata": {},
   "source": [
    "### Find a Circular Linked List"
   ]
  },
  {
   "cell_type": "code",
   "execution_count": 24,
   "metadata": {},
   "outputs": [
    {
     "name": "stdout",
     "output_type": "stream",
     "text": [
      "0\n",
      "1\n",
      "2\n",
      "3\n",
      "4\n",
      "5\n",
      "6\n",
      "7\n",
      "8\n",
      "9\n",
      "False\n",
      "True\n"
     ]
    }
   ],
   "source": [
    "class cicularLinkedListFIFO(FifoLinkedList):\n",
    "    def _add(self,value):\n",
    "        self.length+=1\n",
    "        node = Node(value,self.head)\n",
    "        if self.tail:\n",
    "            self.tail.pointer = node\n",
    "        self.tail = node\n",
    "\n",
    "def isCircularll(ll):\n",
    "    p1 = ll.head\n",
    "    p2 = ll.head\n",
    "    \n",
    "    while p2:\n",
    "        try:\n",
    "            p1 = p1.pointer\n",
    "            p2 = p2.pointer.pointer\n",
    "        except:\n",
    "            break\n",
    "        \n",
    "        if p1==p2:\n",
    "            return True\n",
    "    \n",
    "    return False\n",
    "    \n",
    "        \n",
    "if __name__ == \"__main__\":\n",
    "    ll = FifoLinkedList()\n",
    "    for i in range(10):\n",
    "        ll.addNode(i)\n",
    "    ll._printList()\n",
    "    print(isCircularll(ll))\n",
    "    lcirc = cicularLinkedListFIFO()\n",
    "    for i in range(10):\n",
    "        lcirc.addNode(i)\n",
    "    print(isCircularll(lcirc))"
   ]
  },
  {
   "cell_type": "markdown",
   "metadata": {},
   "source": [
    "$$--The End--$$"
   ]
  }
 ],
 "metadata": {
  "kernelspec": {
   "display_name": "Python 2",
   "language": "python",
   "name": "python2"
  },
  "language_info": {
   "codemirror_mode": {
    "name": "ipython",
    "version": 2
   },
   "file_extension": ".py",
   "mimetype": "text/x-python",
   "name": "python",
   "nbconvert_exporter": "python",
   "pygments_lexer": "ipython2",
   "version": "2.7.15rc1"
  }
 },
 "nbformat": 4,
 "nbformat_minor": 2
}
