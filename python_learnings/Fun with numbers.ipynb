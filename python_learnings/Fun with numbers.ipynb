{
 "cells": [
  {
   "cell_type": "code",
   "execution_count": 12,
   "metadata": {},
   "outputs": [
    {
     "data": {
      "text/plain": [
       "4"
      ]
     },
     "execution_count": 12,
     "metadata": {},
     "output_type": "execute_result"
    }
   ],
   "source": [
    "# learning about numbers\n",
    "# integers in computer programming language are represented with bits\n",
    "\n",
    "# Question: How many bits does it require to represent an integer?\n",
    "# Answer: Converting decimal 8 to binary 1000\n",
    "(8).bit_length()"
   ]
  },
  {
   "cell_type": "code",
   "execution_count": 24,
   "metadata": {},
   "outputs": [
    {
     "name": "stdout",
     "output_type": "stream",
     "text": [
      "7\n",
      "7\n"
     ]
    }
   ],
   "source": [
    "# Integers\n",
    "# typecasting a string to an integer\n",
    "string = '7'\n",
    "number = int(string)\n",
    "print(number)\n",
    "\n",
    "# changing base of an integer (hexadecimal)\n",
    "base = int(string,16)\n",
    "print(base)"
   ]
  },
  {
   "cell_type": "code",
   "execution_count": 9,
   "metadata": {},
   "outputs": [
    {
     "data": {
      "text/plain": [
       "True"
      ]
     },
     "execution_count": 9,
     "metadata": {},
     "output_type": "execute_result"
    }
   ],
   "source": [
    "# Floating numbers\n",
    "# defining a function for comparing numbers\n",
    "def a(x,y,places=7):\n",
    "    return round(abs(x-y),places)==0\n",
    "a(1.1111111,1.111111111)"
   ]
  },
  {
   "cell_type": "code",
   "execution_count": 16,
   "metadata": {},
   "outputs": [
    {
     "data": {
      "text/plain": [
       "(1.0, 0.19999999999999996)"
      ]
     },
     "execution_count": 16,
     "metadata": {},
     "output_type": "execute_result"
    }
   ],
   "source": [
    "# methods for floats and integers\n",
    "divmod(1.2,1)    # divmod returns the quotient and remainder"
   ]
  },
  {
   "cell_type": "code",
   "execution_count": 33,
   "metadata": {},
   "outputs": [
    {
     "name": "stdout",
     "output_type": "stream",
     "text": [
      "1049.9\n",
      "1050.0\n"
     ]
    }
   ],
   "source": [
    "print(round(1049.93443,1))    # round after 1 decimal place\n",
    "print(round(1049.93443,-1))    # round before one decimal place\n"
   ]
  },
  {
   "cell_type": "code",
   "execution_count": 46,
   "metadata": {},
   "outputs": [
    {
     "data": {
      "text/plain": [
       "(3363625971692339, 140737488355328)"
      ]
     },
     "execution_count": 46,
     "metadata": {},
     "output_type": "execute_result"
    }
   ],
   "source": [
    "23.9.as_integer_ratio()    # to give numerator and denominator of a fractional ratio"
   ]
  },
  {
   "cell_type": "code",
   "execution_count": 44,
   "metadata": {},
   "outputs": [
    {
     "name": "stdout",
     "output_type": "stream",
     "text": [
      "3.14159265359\n"
     ]
    }
   ],
   "source": [
    "# complex numbers - a+ib\n",
    "import cmath    # importing module for dealing with complex numbers\n",
    "# z = 3+4js\n",
    "print(cmath.pi)"
   ]
  },
  {
   "cell_type": "code",
   "execution_count": 54,
   "metadata": {},
   "outputs": [
    {
     "name": "stdout",
     "output_type": "stream",
     "text": [
      "1/2\n"
     ]
    }
   ],
   "source": [
    "# fraction module\n",
    "from fractions import Fraction\n",
    "print(Fraction(1,2))\n",
    "def rounding_floats(number1,places):\n",
    "    'doing some stuff with number'\n",
    "    return round(number1,places)\n",
    "\n",
    "def float_to_fractions(number):\n",
    "    return Fraction(*number.as_integer_ratio())\n",
    "\n",
    "def get_numerator(number1,number2):\n",
    "    a = Fraction(number1,number2)\n",
    "    return a.numerator\n",
    "\n",
    "def get_denominator(number1,number2):\n",
    "    b = Fraction(number1,number2)\n",
    "    return b.denominator\n"
   ]
  },
  {
   "cell_type": "code",
   "execution_count": 55,
   "metadata": {},
   "outputs": [
    {
     "name": "stdout",
     "output_type": "stream",
     "text": [
      "23.2\n",
      "6538663708988539/281474976710656\n",
      "12\n",
      "23\n"
     ]
    }
   ],
   "source": [
    "print(rounding_floats(23.23,1))\n",
    "print(float_to_fractions(23.23))\n",
    "print(get_numerator(12,23))\n",
    "print(get_denominator(12,23))"
   ]
  },
  {
   "cell_type": "code",
   "execution_count": 71,
   "metadata": {},
   "outputs": [
    {
     "ename": "AssertionError",
     "evalue": "This is false",
     "output_type": "error",
     "traceback": [
      "\u001b[0;31m---------------------------------------------------------------------------\u001b[0m",
      "\u001b[0;31mAssertionError\u001b[0m                            Traceback (most recent call last)",
      "\u001b[0;32m<ipython-input-71-cb69059a5521>\u001b[0m in \u001b[0;36m<module>\u001b[0;34m()\u001b[0m\n\u001b[1;32m      1\u001b[0m \u001b[0;31m# assert in python mostly used in debugging\u001b[0m\u001b[0;34m\u001b[0m\u001b[0;34m\u001b[0m\u001b[0m\n\u001b[0;32m----> 2\u001b[0;31m \u001b[0;32massert\u001b[0m \u001b[0;36m2\u001b[0m\u001b[0;34m+\u001b[0m\u001b[0;36m2\u001b[0m\u001b[0;34m==\u001b[0m\u001b[0;36m5\u001b[0m\u001b[0;34m,\u001b[0m\u001b[0;34m'This is false'\u001b[0m\u001b[0;34m\u001b[0m\u001b[0m\n\u001b[0m",
      "\u001b[0;31mAssertionError\u001b[0m: This is false"
     ]
    }
   ],
   "source": [
    "# assert in python mostly used in debugging\n",
    "assert 2+2==5,'This is false'"
   ]
  },
  {
   "cell_type": "code",
   "execution_count": 75,
   "metadata": {},
   "outputs": [
    {
     "name": "stdout",
     "output_type": "stream",
     "text": [
      "Tests in this module have passed!\n"
     ]
    }
   ],
   "source": [
    "# fraction module\n",
    "def get_testing_floats(module_name = 'this module'):\n",
    "    number1 = 1.24\n",
    "    number2 = 1\n",
    "    number3 = -1\n",
    "    number4 = 5/4\n",
    "    number6 = 6\n",
    "    \n",
    "    # using assert\n",
    "    assert(rounding_floats(number1,number2)==1.2)\n",
    "    assert(rounding_floats(number1*10,number3)==10)\n",
    "#     assert(float_to_fractions(number1)==number4)\n",
    "    assert(get_denominator(number2,number6)==number6)\n",
    "    assert(get_numerator(number2,number6)==number2)\n",
    "    \n",
    "    s = 'Tests in {name} have {con}!'\n",
    "    print(s.format(name=module_name, con='passed'))\n",
    "\n",
    "if __name__=='__main__':\n",
    "    get_testing_floats()\n",
    "    \n",
    "    "
   ]
  },
  {
   "cell_type": "code",
   "execution_count": 90,
   "metadata": {},
   "outputs": [
    {
     "name": "stdout",
     "output_type": "stream",
     "text": [
      "False\n",
      "True\n"
     ]
    }
   ],
   "source": [
    "# decimal module - when you want decimals with fixed floating point\n",
    "print(sum(0.1 for i in range(0,10))==1.0)    # problems with floating point\n",
    "\n",
    "# using decimal \n",
    "from decimal import Decimal\n",
    "print(sum(Decimal('0.1') for i in range(0,10))==Decimal('1.0'))"
   ]
  },
  {
   "cell_type": "code",
   "execution_count": 102,
   "metadata": {},
   "outputs": [
    {
     "data": {
      "text/plain": [
       "'01747'"
      ]
     },
     "execution_count": 102,
     "metadata": {},
     "output_type": "execute_result"
    }
   ],
   "source": [
    "# other types of representations\n",
    "bin(3)    # returns the binary representation of number\n",
    "hex(3)    # returns the hexadecimal representation of number\n",
    "oct(999)    # returns the octal representation of number"
   ]
  },
  {
   "cell_type": "code",
   "execution_count": 114,
   "metadata": {},
   "outputs": [
    {
     "name": "stdout",
     "output_type": "stream",
     "text": [
      "Test passed!\n"
     ]
    }
   ],
   "source": [
    "# having some mathematical operations on numbers\n",
    "# converting a number below 9 to decimal base\n",
    "\n",
    "def convert_to_decimal(number,base):\n",
    "    multiplier,result = 1,0\n",
    "    while number>0:\n",
    "        result+=number%base*multiplier\n",
    "        multiplier*=10    # smart way of keeping multiple of 2\n",
    "        number=number//base\n",
    "    return result\n",
    "\n",
    "def test_convert_to_decimal():\n",
    "    number, base = 9,2\n",
    "    assert(convert_to_decimal(number,base)==1001)\n",
    "    print('Test passed!')\n",
    "\n",
    "if __name__=='__main__':\n",
    "    test_convert_to_decimal()"
   ]
  },
  {
   "cell_type": "code",
   "execution_count": 121,
   "metadata": {},
   "outputs": [
    {
     "name": "stdout",
     "output_type": "stream",
     "text": [
      "Test passed\n"
     ]
    }
   ],
   "source": [
    "# for number with base > 10, we would require alphabets to represent digits\n",
    "# A --> 10\n",
    "def convert_from_decimal_larger(number, base):\n",
    "    strings = '0123456789ABCDEFGHIJ'\n",
    "    result = ''\n",
    "    while number > 0:\n",
    "        digit=number%base\n",
    "        result = strings[digit]+result\n",
    "        number = number // base\n",
    "        \n",
    "    return result\n",
    "def test_convert_to_hexadecimal():\n",
    "    number,base = 31,16\n",
    "    assert(convert_from_decimal_larger(number,base)=='1F')\n",
    "    print('Test passed')\n",
    "\n",
    "if __name__=='__main__':\n",
    "    test_convert_to_hexadecimal()"
   ]
  },
  {
   "cell_type": "code",
   "execution_count": null,
   "metadata": {},
   "outputs": [],
   "source": [
    "# general base-conversion module using a recursive method\n",
    "def covnert_decimal_to_any_base(number,base):\n",
    "    s"
   ]
  },
  {
   "cell_type": "code",
   "execution_count": null,
   "metadata": {},
   "outputs": [],
   "source": []
  },
  {
   "cell_type": "code",
   "execution_count": null,
   "metadata": {},
   "outputs": [],
   "source": []
  },
  {
   "cell_type": "code",
   "execution_count": null,
   "metadata": {},
   "outputs": [],
   "source": []
  },
  {
   "cell_type": "code",
   "execution_count": null,
   "metadata": {},
   "outputs": [],
   "source": []
  }
 ],
 "metadata": {
  "kernelspec": {
   "display_name": "Python 2",
   "language": "python",
   "name": "python2"
  },
  "language_info": {
   "codemirror_mode": {
    "name": "ipython",
    "version": 2
   },
   "file_extension": ".py",
   "mimetype": "text/x-python",
   "name": "python",
   "nbconvert_exporter": "python",
   "pygments_lexer": "ipython2",
   "version": "2.7.12"
  }
 },
 "nbformat": 4,
 "nbformat_minor": 2
}
